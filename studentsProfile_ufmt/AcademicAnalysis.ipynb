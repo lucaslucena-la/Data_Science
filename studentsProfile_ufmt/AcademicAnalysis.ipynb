{
 "cells": [
  {
   "cell_type": "markdown",
   "id": "a3a0a279",
   "metadata": {},
   "source": [
    "##### Importação das Bibliotecas"
   ]
  },
  {
   "cell_type": "code",
   "execution_count": 158,
   "id": "33e7593a",
   "metadata": {},
   "outputs": [],
   "source": [
    "# Manipulação e análise de dados\n",
    "import pandas as pd\n",
    "import numpy as np\n",
    "\n",
    "import unicodedata\n",
    "\n",
    "\n",
    "# Visualização\n",
    "import matplotlib.pyplot as plt\n",
    "import seaborn as sns\n",
    "\n",
    "## Data\n",
    "from datetime import datetime\n",
    "\n",
    "# Estatística e testes de hipóteses\n",
    "from scipy import stats\n",
    "\n",
    "# Ajuste de gráficos no Jupyter\n",
    "%matplotlib inline\n",
    "\n",
    "# Configuração estética do seaborn\n",
    "sns.set(style=\"whitegrid\", palette=\"muted\", font_scale=1.1)\n"
   ]
  },
  {
   "cell_type": "markdown",
   "id": "701547db",
   "metadata": {},
   "source": [
    "#### Importação dos datasets"
   ]
  },
  {
   "cell_type": "code",
   "execution_count": 5,
   "id": "2a52f72d",
   "metadata": {},
   "outputs": [],
   "source": [
    "# Carregar os arquivos CSV\n",
    "alunos_ativos = pd.read_csv(\"alunos_ativos.csv\")\n",
    "alunos_inativos = pd.read_csv(\"alunos_inativos.csv\")\n",
    "historico_escolar = pd.read_csv(\"historico_escolar.csv\")"
   ]
  },
  {
   "cell_type": "markdown",
   "id": "ffb3bfac",
   "metadata": {},
   "source": [
    "\n",
    "<div align=\"center\">\n",
    "\n",
    "## EDA dos Datasets\n",
    "</div>"
   ]
  },
  {
   "cell_type": "markdown",
   "id": "ab022530",
   "metadata": {},
   "source": [
    "##### Dimensões dos datasets:"
   ]
  },
  {
   "cell_type": "code",
   "execution_count": 10,
   "id": "7f8af587",
   "metadata": {},
   "outputs": [
    {
     "name": "stdout",
     "output_type": "stream",
     "text": [
      "Linhas/Colunas\n",
      "Alunos Ativos: (220, 17)\n",
      "Alunos Inativos: (498, 17)\n",
      "Histórico Escolar: (19528, 15)\n"
     ]
    }
   ],
   "source": [
    "# Verificar dimensões de cada dataset\n",
    "print(\"Linhas/Colunas\")\n",
    "print(\"Alunos Ativos:\", alunos_ativos.shape)\n",
    "print(\"Alunos Inativos:\", alunos_inativos.shape)\n",
    "print(\"Histórico Escolar:\", historico_escolar.shape)"
   ]
  },
  {
   "cell_type": "markdown",
   "id": "6b4f0b41",
   "metadata": {},
   "source": [
    "##### Tipos de dados:"
   ]
  },
  {
   "cell_type": "markdown",
   "id": "68190d9e",
   "metadata": {},
   "source": [
    "Alunos Ativos:"
   ]
  },
  {
   "cell_type": "code",
   "execution_count": 21,
   "id": "a1439448",
   "metadata": {},
   "outputs": [
    {
     "name": "stdout",
     "output_type": "stream",
     "text": [
      "\n",
      "Tipos de dados:\n",
      "Data Nascimento     object\n",
      "Sexo                object\n",
      "Raça                object\n",
      "Estrangeiro         object\n",
      "Nacionalidade       object\n",
      "                    ...   \n",
      "Tipo ingresso       object\n",
      "IMI                float64\n",
      "Coeficiente        float64\n",
      "Tipo de demanda     object\n",
      "rga_anonimo         object\n",
      "Length: 17, dtype: object\n"
     ]
    }
   ],
   "source": [
    "print(\"\\nTipos de dados:\")\n",
    "print(alunos_ativos.dtypes)"
   ]
  },
  {
   "cell_type": "markdown",
   "id": "e37dae08",
   "metadata": {},
   "source": [
    "Alunos Inativos:"
   ]
  },
  {
   "cell_type": "code",
   "execution_count": 22,
   "id": "ae5951d5",
   "metadata": {},
   "outputs": [
    {
     "name": "stdout",
     "output_type": "stream",
     "text": [
      "\n",
      "Tipos de dados:\n",
      "Data Nascimento     object\n",
      "Sexo                object\n",
      "Raça                object\n",
      "Estrangeiro         object\n",
      "Nacionalidade       object\n",
      "                    ...   \n",
      "Tipo ingresso       object\n",
      "IMI                float64\n",
      "Coeficiente        float64\n",
      "Tipo de demanda     object\n",
      "rga_anonimo         object\n",
      "Length: 17, dtype: object\n"
     ]
    }
   ],
   "source": [
    "print(\"\\nTipos de dados:\")\n",
    "print(alunos_inativos.dtypes)\n"
   ]
  },
  {
   "cell_type": "markdown",
   "id": "36d63d01",
   "metadata": {},
   "source": [
    "Histórico Escolar:"
   ]
  },
  {
   "cell_type": "code",
   "execution_count": 23,
   "id": "75ff353a",
   "metadata": {},
   "outputs": [
    {
     "name": "stdout",
     "output_type": "stream",
     "text": [
      "\n",
      "Tipos de dados:\n",
      "Ano                     object\n",
      "Código                   int64\n",
      "Nome da Disciplina      object\n",
      "CH                       int64\n",
      "CR                       int64\n",
      "                         ...  \n",
      "rga_anonimo             object\n",
      "Disciplina              object\n",
      "Grupo de Disciplinas    object\n",
      "Tipo de Disciplina      object\n",
      "Optativa                object\n",
      "Length: 15, dtype: object\n"
     ]
    }
   ],
   "source": [
    "print(\"\\nTipos de dados:\")\n",
    "print(historico_escolar.dtypes)\n"
   ]
  },
  {
   "cell_type": "markdown",
   "id": "7662d889",
   "metadata": {},
   "source": [
    "##### Valores Nulos por coluna"
   ]
  },
  {
   "cell_type": "markdown",
   "id": "833253b9",
   "metadata": {},
   "source": [
    "Alunos Ativos:"
   ]
  },
  {
   "cell_type": "code",
   "execution_count": 26,
   "id": "30f87fe2",
   "metadata": {},
   "outputs": [
    {
     "name": "stdout",
     "output_type": "stream",
     "text": [
      "\n",
      "Valores nulos por coluna:\n",
      "Data Nascimento    0\n",
      "Sexo               0\n",
      "Raça               0\n",
      "Estrangeiro        0\n",
      "Nacionalidade      0\n",
      "                  ..\n",
      "Tipo ingresso      0\n",
      "IMI                0\n",
      "Coeficiente        0\n",
      "Tipo de demanda    1\n",
      "rga_anonimo        0\n",
      "Length: 17, dtype: int64\n"
     ]
    }
   ],
   "source": [
    "print(\"\\nValores nulos por coluna:\")\n",
    "print(alunos_ativos.isna().sum())"
   ]
  },
  {
   "cell_type": "markdown",
   "id": "66cced6d",
   "metadata": {},
   "source": [
    "Alunos Inativos:"
   ]
  },
  {
   "cell_type": "code",
   "execution_count": 27,
   "id": "94dba103",
   "metadata": {},
   "outputs": [
    {
     "name": "stdout",
     "output_type": "stream",
     "text": [
      "\n",
      "Valores nulos por coluna:\n",
      "Data Nascimento      0\n",
      "Sexo                 0\n",
      "Raça                 0\n",
      "Estrangeiro          0\n",
      "Nacionalidade        0\n",
      "                  ... \n",
      "Tipo ingresso        0\n",
      "IMI                  0\n",
      "Coeficiente          0\n",
      "Tipo de demanda    191\n",
      "rga_anonimo          0\n",
      "Length: 17, dtype: int64\n"
     ]
    }
   ],
   "source": [
    "print(\"\\nValores nulos por coluna:\")\n",
    "print(alunos_inativos.isna().sum())"
   ]
  },
  {
   "cell_type": "markdown",
   "id": "1d3b6beb",
   "metadata": {},
   "source": [
    "Histórico Escolar:"
   ]
  },
  {
   "cell_type": "code",
   "execution_count": 28,
   "id": "c8dc260c",
   "metadata": {},
   "outputs": [
    {
     "name": "stdout",
     "output_type": "stream",
     "text": [
      "\n",
      "Valores nulos por coluna:\n",
      "Ano                     0\n",
      "Código                  0\n",
      "Nome da Disciplina      0\n",
      "CH                      0\n",
      "CR                      0\n",
      "                       ..\n",
      "rga_anonimo             0\n",
      "Disciplina              0\n",
      "Grupo de Disciplinas    0\n",
      "Tipo de Disciplina      0\n",
      "Optativa                0\n",
      "Length: 15, dtype: int64\n"
     ]
    }
   ],
   "source": [
    "print(\"\\nValores nulos por coluna:\")\n",
    "print(historico_escolar.isna().sum())"
   ]
  },
  {
   "cell_type": "markdown",
   "id": "dfca4112",
   "metadata": {},
   "source": [
    "##### Duplicatas"
   ]
  },
  {
   "cell_type": "markdown",
   "id": "a2d12617",
   "metadata": {},
   "source": [
    "Alunos Ativos:"
   ]
  },
  {
   "cell_type": "code",
   "execution_count": 29,
   "id": "f40f6981",
   "metadata": {},
   "outputs": [
    {
     "name": "stdout",
     "output_type": "stream",
     "text": [
      "\n",
      "Duplicatas: 0\n"
     ]
    }
   ],
   "source": [
    "print(\"\\nDuplicatas:\", alunos_ativos.duplicated().sum())"
   ]
  },
  {
   "cell_type": "markdown",
   "id": "875cd4fa",
   "metadata": {},
   "source": [
    "Alunos Inativos:"
   ]
  },
  {
   "cell_type": "code",
   "execution_count": 30,
   "id": "095dffa9",
   "metadata": {},
   "outputs": [
    {
     "name": "stdout",
     "output_type": "stream",
     "text": [
      "\n",
      "Duplicatas: 0\n"
     ]
    }
   ],
   "source": [
    "print(\"\\nDuplicatas:\", alunos_inativos.duplicated().sum())\n"
   ]
  },
  {
   "cell_type": "markdown",
   "id": "22d8f6d5",
   "metadata": {},
   "source": [
    "Histórico Escolar"
   ]
  },
  {
   "cell_type": "code",
   "execution_count": 31,
   "id": "6087e873",
   "metadata": {},
   "outputs": [
    {
     "name": "stdout",
     "output_type": "stream",
     "text": [
      "\n",
      "Duplicatas: 0\n"
     ]
    }
   ],
   "source": [
    "print(\"\\nDuplicatas:\", historico_escolar.duplicated().sum())"
   ]
  },
  {
   "cell_type": "markdown",
   "id": "65bc34f6",
   "metadata": {},
   "source": [
    "##### Estátisticas Descritivas"
   ]
  },
  {
   "cell_type": "code",
   "execution_count": 32,
   "id": "b6e2d384",
   "metadata": {},
   "outputs": [
    {
     "name": "stdout",
     "output_type": "stream",
     "text": [
      "\n",
      "Estatísticas descritivas (numéricas):\n"
     ]
    },
    {
     "data": {
      "text/html": [
       "<div>\n",
       "<style scoped>\n",
       "    .dataframe tbody tr th:only-of-type {\n",
       "        vertical-align: middle;\n",
       "    }\n",
       "\n",
       "    .dataframe tbody tr th {\n",
       "        vertical-align: top;\n",
       "    }\n",
       "\n",
       "    .dataframe thead th {\n",
       "        text-align: right;\n",
       "    }\n",
       "</style>\n",
       "<table border=\"1\" class=\"dataframe\">\n",
       "  <thead>\n",
       "    <tr style=\"text-align: right;\">\n",
       "      <th></th>\n",
       "      <th>Período</th>\n",
       "      <th>Estrutura</th>\n",
       "      <th>Período ingresso</th>\n",
       "      <th>IMI</th>\n",
       "      <th>Coeficiente</th>\n",
       "    </tr>\n",
       "  </thead>\n",
       "  <tbody>\n",
       "    <tr>\n",
       "      <th>count</th>\n",
       "      <td>220.0</td>\n",
       "      <td>220.0</td>\n",
       "      <td>220.000000</td>\n",
       "      <td>220.000000</td>\n",
       "      <td>220.000000</td>\n",
       "    </tr>\n",
       "    <tr>\n",
       "      <th>mean</th>\n",
       "      <td>20232.0</td>\n",
       "      <td>20191.0</td>\n",
       "      <td>20205.563636</td>\n",
       "      <td>36.017727</td>\n",
       "      <td>3.719864</td>\n",
       "    </tr>\n",
       "    <tr>\n",
       "      <th>std</th>\n",
       "      <td>0.0</td>\n",
       "      <td>0.0</td>\n",
       "      <td>20.695897</td>\n",
       "      <td>33.355516</td>\n",
       "      <td>2.461787</td>\n",
       "    </tr>\n",
       "    <tr>\n",
       "      <th>min</th>\n",
       "      <td>20232.0</td>\n",
       "      <td>20191.0</td>\n",
       "      <td>20131.000000</td>\n",
       "      <td>0.000000</td>\n",
       "      <td>0.000000</td>\n",
       "    </tr>\n",
       "    <tr>\n",
       "      <th>25%</th>\n",
       "      <td>20232.0</td>\n",
       "      <td>20191.0</td>\n",
       "      <td>20191.000000</td>\n",
       "      <td>3.800000</td>\n",
       "      <td>1.720000</td>\n",
       "    </tr>\n",
       "    <tr>\n",
       "      <th>50%</th>\n",
       "      <td>20232.0</td>\n",
       "      <td>20191.0</td>\n",
       "      <td>20211.000000</td>\n",
       "      <td>30.500000</td>\n",
       "      <td>3.815000</td>\n",
       "    </tr>\n",
       "    <tr>\n",
       "      <th>75%</th>\n",
       "      <td>20232.0</td>\n",
       "      <td>20191.0</td>\n",
       "      <td>20221.000000</td>\n",
       "      <td>61.000000</td>\n",
       "      <td>5.710000</td>\n",
       "    </tr>\n",
       "    <tr>\n",
       "      <th>max</th>\n",
       "      <td>20232.0</td>\n",
       "      <td>20191.0</td>\n",
       "      <td>20232.000000</td>\n",
       "      <td>192.400000</td>\n",
       "      <td>9.330000</td>\n",
       "    </tr>\n",
       "  </tbody>\n",
       "</table>\n",
       "</div>"
      ],
      "text/plain": [
       "       Período  Estrutura  Período ingresso         IMI  Coeficiente\n",
       "count    220.0      220.0        220.000000  220.000000   220.000000\n",
       "mean   20232.0    20191.0      20205.563636   36.017727     3.719864\n",
       "std        0.0        0.0         20.695897   33.355516     2.461787\n",
       "min    20232.0    20191.0      20131.000000    0.000000     0.000000\n",
       "25%    20232.0    20191.0      20191.000000    3.800000     1.720000\n",
       "50%    20232.0    20191.0      20211.000000   30.500000     3.815000\n",
       "75%    20232.0    20191.0      20221.000000   61.000000     5.710000\n",
       "max    20232.0    20191.0      20232.000000  192.400000     9.330000"
      ]
     },
     "metadata": {},
     "output_type": "display_data"
    }
   ],
   "source": [
    "print(\"\\nEstatísticas descritivas (numéricas):\")\n",
    "display(alunos_ativos.describe())"
   ]
  },
  {
   "cell_type": "code",
   "execution_count": 33,
   "id": "2eb3427c",
   "metadata": {},
   "outputs": [
    {
     "name": "stdout",
     "output_type": "stream",
     "text": [
      "\n",
      "Estatísticas descritivas (numéricas):\n"
     ]
    },
    {
     "data": {
      "text/html": [
       "<div>\n",
       "<style scoped>\n",
       "    .dataframe tbody tr th:only-of-type {\n",
       "        vertical-align: middle;\n",
       "    }\n",
       "\n",
       "    .dataframe tbody tr th {\n",
       "        vertical-align: top;\n",
       "    }\n",
       "\n",
       "    .dataframe thead th {\n",
       "        text-align: right;\n",
       "    }\n",
       "</style>\n",
       "<table border=\"1\" class=\"dataframe\">\n",
       "  <thead>\n",
       "    <tr style=\"text-align: right;\">\n",
       "      <th></th>\n",
       "      <th>Período</th>\n",
       "      <th>Estrutura</th>\n",
       "      <th>Período ingresso</th>\n",
       "      <th>IMI</th>\n",
       "      <th>Coeficiente</th>\n",
       "    </tr>\n",
       "  </thead>\n",
       "  <tbody>\n",
       "    <tr>\n",
       "      <th>count</th>\n",
       "      <td>498.000000</td>\n",
       "      <td>498.000000</td>\n",
       "      <td>498.000000</td>\n",
       "      <td>498.000000</td>\n",
       "      <td>498.000000</td>\n",
       "    </tr>\n",
       "    <tr>\n",
       "      <th>mean</th>\n",
       "      <td>20170.074297</td>\n",
       "      <td>20119.915663</td>\n",
       "      <td>19244.622490</td>\n",
       "      <td>26.004819</td>\n",
       "      <td>3.148394</td>\n",
       "    </tr>\n",
       "    <tr>\n",
       "      <th>std</th>\n",
       "      <td>36.852860</td>\n",
       "      <td>45.382667</td>\n",
       "      <td>4141.589813</td>\n",
       "      <td>46.813405</td>\n",
       "      <td>2.620379</td>\n",
       "    </tr>\n",
       "    <tr>\n",
       "      <th>min</th>\n",
       "      <td>20101.000000</td>\n",
       "      <td>20091.000000</td>\n",
       "      <td>0.000000</td>\n",
       "      <td>0.000000</td>\n",
       "      <td>0.000000</td>\n",
       "    </tr>\n",
       "    <tr>\n",
       "      <th>25%</th>\n",
       "      <td>20142.000000</td>\n",
       "      <td>20091.000000</td>\n",
       "      <td>20101.000000</td>\n",
       "      <td>0.000000</td>\n",
       "      <td>0.392500</td>\n",
       "    </tr>\n",
       "    <tr>\n",
       "      <th>50%</th>\n",
       "      <td>20162.000000</td>\n",
       "      <td>20091.000000</td>\n",
       "      <td>20131.000000</td>\n",
       "      <td>5.200000</td>\n",
       "      <td>2.820000</td>\n",
       "    </tr>\n",
       "    <tr>\n",
       "      <th>75%</th>\n",
       "      <td>20192.000000</td>\n",
       "      <td>20191.000000</td>\n",
       "      <td>20161.000000</td>\n",
       "      <td>44.300000</td>\n",
       "      <td>5.390000</td>\n",
       "    </tr>\n",
       "    <tr>\n",
       "      <th>max</th>\n",
       "      <td>20232.000000</td>\n",
       "      <td>20191.000000</td>\n",
       "      <td>20231.000000</td>\n",
       "      <td>758.100000</td>\n",
       "      <td>9.260000</td>\n",
       "    </tr>\n",
       "  </tbody>\n",
       "</table>\n",
       "</div>"
      ],
      "text/plain": [
       "            Período     Estrutura  Período ingresso         IMI  Coeficiente\n",
       "count    498.000000    498.000000        498.000000  498.000000   498.000000\n",
       "mean   20170.074297  20119.915663      19244.622490   26.004819     3.148394\n",
       "std       36.852860     45.382667       4141.589813   46.813405     2.620379\n",
       "min    20101.000000  20091.000000          0.000000    0.000000     0.000000\n",
       "25%    20142.000000  20091.000000      20101.000000    0.000000     0.392500\n",
       "50%    20162.000000  20091.000000      20131.000000    5.200000     2.820000\n",
       "75%    20192.000000  20191.000000      20161.000000   44.300000     5.390000\n",
       "max    20232.000000  20191.000000      20231.000000  758.100000     9.260000"
      ]
     },
     "metadata": {},
     "output_type": "display_data"
    }
   ],
   "source": [
    "print(\"\\nEstatísticas descritivas (numéricas):\")\n",
    "display(alunos_inativos.describe())"
   ]
  },
  {
   "cell_type": "code",
   "execution_count": 34,
   "id": "b286fc7e",
   "metadata": {},
   "outputs": [
    {
     "name": "stdout",
     "output_type": "stream",
     "text": [
      "\n",
      "Estatísticas descritivas (numéricas):\n"
     ]
    },
    {
     "data": {
      "text/html": [
       "<div>\n",
       "<style scoped>\n",
       "    .dataframe tbody tr th:only-of-type {\n",
       "        vertical-align: middle;\n",
       "    }\n",
       "\n",
       "    .dataframe tbody tr th {\n",
       "        vertical-align: top;\n",
       "    }\n",
       "\n",
       "    .dataframe thead th {\n",
       "        text-align: right;\n",
       "    }\n",
       "</style>\n",
       "<table border=\"1\" class=\"dataframe\">\n",
       "  <thead>\n",
       "    <tr style=\"text-align: right;\">\n",
       "      <th></th>\n",
       "      <th>Código</th>\n",
       "      <th>CH</th>\n",
       "      <th>CR</th>\n",
       "      <th>MF</th>\n",
       "      <th>FA</th>\n",
       "      <th>SE</th>\n",
       "    </tr>\n",
       "  </thead>\n",
       "  <tbody>\n",
       "    <tr>\n",
       "      <th>count</th>\n",
       "      <td>1.952800e+04</td>\n",
       "      <td>19528.000000</td>\n",
       "      <td>19528.000000</td>\n",
       "      <td>19528.000000</td>\n",
       "      <td>19528.000000</td>\n",
       "      <td>19528.000000</td>\n",
       "    </tr>\n",
       "    <tr>\n",
       "      <th>mean</th>\n",
       "      <td>8.731429e+07</td>\n",
       "      <td>76.639492</td>\n",
       "      <td>4.576710</td>\n",
       "      <td>4.496533</td>\n",
       "      <td>12.882220</td>\n",
       "      <td>2.459596</td>\n",
       "    </tr>\n",
       "    <tr>\n",
       "      <th>std</th>\n",
       "      <td>2.032306e+07</td>\n",
       "      <td>23.708036</td>\n",
       "      <td>1.514902</td>\n",
       "      <td>3.222067</td>\n",
       "      <td>22.832074</td>\n",
       "      <td>2.293470</td>\n",
       "    </tr>\n",
       "    <tr>\n",
       "      <th>min</th>\n",
       "      <td>3.040129e+07</td>\n",
       "      <td>30.000000</td>\n",
       "      <td>0.000000</td>\n",
       "      <td>0.000000</td>\n",
       "      <td>0.000000</td>\n",
       "      <td>0.000000</td>\n",
       "    </tr>\n",
       "    <tr>\n",
       "      <th>25%</th>\n",
       "      <td>7.040072e+07</td>\n",
       "      <td>64.000000</td>\n",
       "      <td>4.000000</td>\n",
       "      <td>0.800000</td>\n",
       "      <td>0.000000</td>\n",
       "      <td>1.000000</td>\n",
       "    </tr>\n",
       "    <tr>\n",
       "      <th>50%</th>\n",
       "      <td>7.210002e+07</td>\n",
       "      <td>64.000000</td>\n",
       "      <td>4.000000</td>\n",
       "      <td>5.250000</td>\n",
       "      <td>4.000000</td>\n",
       "      <td>2.000000</td>\n",
       "    </tr>\n",
       "    <tr>\n",
       "      <th>75%</th>\n",
       "      <td>1.127000e+08</td>\n",
       "      <td>96.000000</td>\n",
       "      <td>6.000000</td>\n",
       "      <td>7.000000</td>\n",
       "      <td>14.000000</td>\n",
       "      <td>4.000000</td>\n",
       "    </tr>\n",
       "    <tr>\n",
       "      <th>max</th>\n",
       "      <td>1.135001e+08</td>\n",
       "      <td>192.000000</td>\n",
       "      <td>10.000000</td>\n",
       "      <td>10.000000</td>\n",
       "      <td>192.000000</td>\n",
       "      <td>8.000000</td>\n",
       "    </tr>\n",
       "  </tbody>\n",
       "</table>\n",
       "</div>"
      ],
      "text/plain": [
       "             Código            CH            CR            MF            FA  \\\n",
       "count  1.952800e+04  19528.000000  19528.000000  19528.000000  19528.000000   \n",
       "mean   8.731429e+07     76.639492      4.576710      4.496533     12.882220   \n",
       "std    2.032306e+07     23.708036      1.514902      3.222067     22.832074   \n",
       "min    3.040129e+07     30.000000      0.000000      0.000000      0.000000   \n",
       "25%    7.040072e+07     64.000000      4.000000      0.800000      0.000000   \n",
       "50%    7.210002e+07     64.000000      4.000000      5.250000      4.000000   \n",
       "75%    1.127000e+08     96.000000      6.000000      7.000000     14.000000   \n",
       "max    1.135001e+08    192.000000     10.000000     10.000000    192.000000   \n",
       "\n",
       "                 SE  \n",
       "count  19528.000000  \n",
       "mean       2.459596  \n",
       "std        2.293470  \n",
       "min        0.000000  \n",
       "25%        1.000000  \n",
       "50%        2.000000  \n",
       "75%        4.000000  \n",
       "max        8.000000  "
      ]
     },
     "metadata": {},
     "output_type": "display_data"
    }
   ],
   "source": [
    "print(\"\\nEstatísticas descritivas (numéricas):\")\n",
    "display(historico_escolar.describe())"
   ]
  },
  {
   "cell_type": "markdown",
   "id": "ad0fcb54",
   "metadata": {},
   "source": [
    "\n",
    "<div align=\"center\" style=\"\">\n",
    "\n",
    "## Analise dos Dados\n",
    "</div>"
   ]
  },
  {
   "cell_type": "markdown",
   "id": "0e4bb204",
   "metadata": {},
   "source": [
    "## 1. Perfil dos Alunos"
   ]
  },
  {
   "cell_type": "markdown",
   "id": "f358103f",
   "metadata": {},
   "source": [
    "### Distribuição por sexo, raça, faixa etária, estado civil, nacionalidade."
   ]
  },
  {
   "cell_type": "markdown",
   "id": "d75ac95c",
   "metadata": {},
   "source": [
    "<div style= \"color: red;\">\n",
    "\n",
    "#### Alunos Ativos:\n",
    "</div>"
   ]
  },
  {
   "cell_type": "markdown",
   "id": "4de7c750",
   "metadata": {},
   "source": [
    "##### Distribuição por sexo"
   ]
  },
  {
   "cell_type": "code",
   "execution_count": 44,
   "id": "d599409a",
   "metadata": {},
   "outputs": [
    {
     "data": {
      "image/png": "[encoded data removed]",
      "text/plain": [
       "<Figure size 600x400 with 1 Axes>"
      ]
     },
     "metadata": {},
     "output_type": "display_data"
    },
    {
     "name": "stdout",
     "output_type": "stream",
     "text": [
      "Proporção: \n",
      " Sexo\n",
      "Masculino    80.0\n",
      "Feminino     20.0\n",
      "Name: proportion, dtype: float64 \n",
      "\n",
      "Quantidade:\n",
      " Sexo\n",
      "Masculino    176\n",
      "Feminino      44\n",
      "Name: count, dtype: int64\n"
     ]
    }
   ],
   "source": [
    "# --- Distribuição por sexo ---\n",
    "plt.figure(figsize=(6,4))\n",
    "sns.countplot(data=alunos_ativos, x=\"Sexo\", hue=\"Sexo\", palette=\"Set2\", legend=False)\n",
    "plt.title(\"Distribuição por Sexo - Alunos Ativos\")\n",
    "plt.xlabel(\"Sexo\")\n",
    "plt.ylabel(\"Quantidade\")\n",
    "plt.show()\n",
    "\n",
    "print(\"Proporção: \\n\",alunos_ativos[\"Sexo\"].value_counts(normalize=True)*100,\"\\n\")\n",
    "\n",
    "#quantidade\n",
    "print(\"Quantidade:\\n\",alunos_ativos[\"Sexo\"].value_counts())"
   ]
  },
  {
   "cell_type": "markdown",
   "id": "f7af37dd",
   "metadata": {},
   "source": [
    "##### Distribuição por Raça"
   ]
  },
  {
   "cell_type": "code",
   "execution_count": 46,
   "id": "5d412a44",
   "metadata": {},
   "outputs": [
    {
     "data": {
      "image/png": "[encoded data removed]",
      "text/plain": [
       "<Figure size 700x400 with 1 Axes>"
      ]
     },
     "metadata": {},
     "output_type": "display_data"
    }
   ],
   "source": [
    "plt.figure(figsize=(7,4))\n",
    "sns.countplot(data=alunos_ativos, hue = \"Raça\",x=\"Raça\", palette=\"muted\")\n",
    "plt.title(\"Distribuição por Raça (Alunos Ativos)\")\n",
    "plt.xlabel(\"Raça/Cor\")\n",
    "plt.ylabel(\"Quantidade\")\n",
    "plt.xticks(rotation=30)\n",
    "plt.show()\n"
   ]
  },
  {
   "cell_type": "code",
   "execution_count": 50,
   "id": "16a20501",
   "metadata": {},
   "outputs": [
    {
     "name": "stdout",
     "output_type": "stream",
     "text": [
      "Proporção: \n",
      " Raça\n",
      "Branca                48.636364\n",
      "Pardo(a),Mulato(a)    40.000000\n",
      "Negra                  8.181818\n",
      "Não Informado          2.727273\n",
      "Indígena               0.454545\n",
      "Name: proportion, dtype: float64 \n",
      "\n",
      "Quantidade:\n",
      " Raça\n",
      "Branca                107\n",
      "Pardo(a),Mulato(a)     88\n",
      "Negra                  18\n",
      "Não Informado           6\n",
      "Indígena                1\n",
      "Name: count, dtype: int64\n"
     ]
    }
   ],
   "source": [
    "\n",
    "print(\"Proporção: \\n\",alunos_ativos[\"Raça\"].value_counts(normalize=True)*100,\"\\n\")\n",
    "\n",
    "#quantidade\n",
    "print(\"Quantidade:\\n\",alunos_ativos[\"Raça\"].value_counts())"
   ]
  },
  {
   "cell_type": "markdown",
   "id": "90098de7",
   "metadata": {},
   "source": [
    "##### Distribuição por Faixa Etária"
   ]
  },
  {
   "cell_type": "code",
   "execution_count": null,
   "id": "897d9e6a",
   "metadata": {},
   "outputs": [
    {
     "data": {
      "image/png": "[encoded data removed]",
      "text/plain": [
       "<Figure size 800x500 with 1 Axes>"
      ]
     },
     "metadata": {},
     "output_type": "display_data"
    }
   ],
   "source": [
    "#distribuição dos alunos ativos por faixa etária\n",
    "data_atual = datetime.now()\n",
    "\n",
    "# Calcular idade dos alunos ativos\n",
    "alunos_ativos['Data Nascimento'] = pd.to_datetime(alunos_ativos['Data Nascimento'], errors='coerce')\n",
    "alunos_ativos['Idade'] = alunos_ativos['Data Nascimento'].apply(lambda x: (data_atual - x).days // 365 if pd.notnull(x) else np.nan)\n",
    "\n",
    "# Definir faixas etárias\n",
    "bins = [0, 17, 24, 30, 40, 60, 100]\n",
    "labels = ['<18', '18-24', '25-30', '31-40', '41-60', '60+']\n",
    "alunos_ativos['Faixa Etária'] = pd.cut(alunos_ativos['Idade'], bins=bins, labels=labels, right=False)\n",
    "\n",
    "# Plotar distribuição por faixa etária\n",
    "plt.figure(figsize=(8,5))\n",
    "sns.countplot(data=alunos_ativos, x='Faixa Etária', hue='Faixa Etária', palette='pastel', legend=False)\n",
    "plt.title('Distribuição por Faixa Etária - Alunos Ativos')\n",
    "plt.xlabel('Faixa Etária')\n",
    "plt.ylabel('Quantidade')\n",
    "plt.show()"
   ]
  },
  {
   "cell_type": "markdown",
   "id": "1b0c8a17",
   "metadata": {},
   "source": [
    "##### Distribuição por Nacionalidade"
   ]
  },
  {
   "cell_type": "code",
   "execution_count": 62,
   "id": "7a11e092",
   "metadata": {},
   "outputs": [
    {
     "data": {
      "image/png": "[encoded data removed]",
      "text/plain": [
       "<Figure size 600x400 with 1 Axes>"
      ]
     },
     "metadata": {},
     "output_type": "display_data"
    },
    {
     "name": "stdout",
     "output_type": "stream",
     "text": [
      "Nacionalidade\n",
      "BRASILEIRO    100.0\n",
      "Name: proportion, dtype: float64\n"
     ]
    }
   ],
   "source": [
    "plt.figure(figsize=(6,4))\n",
    "sns.countplot(data=alunos_ativos, x=\"Nacionalidade\",hue=\"Nacionalidade\", palette=\"Set3\")\n",
    "plt.title(\"Distribuição por Nacionalidade (Alunos Ativos)\")\n",
    "plt.xlabel(\"Nacionalidade\")\n",
    "plt.ylabel(\"Quantidade\")\n",
    "plt.xticks(rotation=30)\n",
    "plt.show()\n",
    "\n",
    "print(alunos_ativos[\"Nacionalidade\"].value_counts(normalize=True)*100)\n"
   ]
  },
  {
   "cell_type": "markdown",
   "id": "1df3f8af",
   "metadata": {},
   "source": [
    "##### Distribuição por Estado"
   ]
  },
  {
   "cell_type": "code",
   "execution_count": 87,
   "id": "fd9d17c3",
   "metadata": {},
   "outputs": [
    {
     "data": {
      "image/png": "[encoded data removed]",
      "text/plain": [
       "<Figure size 800x500 with 1 Axes>"
      ]
     },
     "metadata": {},
     "output_type": "display_data"
    },
    {
     "name": "stdout",
     "output_type": "stream",
     "text": [
      "UF Naturalidade\n",
      "MT    109\n",
      "GO     53\n",
      "SP     18\n",
      "RO     10\n",
      "DF      5\n",
      "     ... \n",
      "RR      1\n",
      "PE      1\n",
      "SC      1\n",
      "PR      1\n",
      "TO      1\n",
      "Name: count, Length: 16, dtype: int64\n"
     ]
    }
   ],
   "source": [
    "plt.figure(figsize=(8,5))\n",
    "sns.countplot(\n",
    "    data=alunos_ativos, \n",
    "    x=\"UF Naturalidade\", hue=\"UF Naturalidade\",\n",
    "    order=alunos_ativos[\"UF Naturalidade\"].value_counts().index,  # ordena por frequência\n",
    "    palette=\"Set3\"\n",
    ")\n",
    "plt.title(\"Distribuição por UF de Naturalidade (Alunos Ativos)\")\n",
    "plt.xlabel(\"UF\")\n",
    "plt.ylabel(\"Quantidade de alunos\")\n",
    "plt.xticks(rotation=45)\n",
    "plt.show()\n",
    "\n",
    "# Quantidade de alunos por UF\n",
    "print(alunos_ativos[\"UF Naturalidade\"].value_counts())\n"
   ]
  },
  {
   "cell_type": "markdown",
   "id": "55f07091",
   "metadata": {},
   "source": [
    "<div style= \"color: red;\">\n",
    "\n",
    "#### Alunos Inativos:\n",
    "</div>"
   ]
  },
  {
   "cell_type": "markdown",
   "id": "a814c92e",
   "metadata": {},
   "source": [
    "##### Distribuição por sexo"
   ]
  },
  {
   "cell_type": "code",
   "execution_count": 70,
   "id": "2b395dc1",
   "metadata": {},
   "outputs": [
    {
     "data": {
      "image/png": "[encoded data removed]",
      "text/plain": [
       "<Figure size 600x400 with 1 Axes>"
      ]
     },
     "metadata": {},
     "output_type": "display_data"
    },
    {
     "name": "stdout",
     "output_type": "stream",
     "text": [
      "Proporção: \n",
      " Sexo\n",
      "Masculino    85.140562\n",
      "Feminino     14.859438\n",
      "Name: proportion, dtype: float64 \n",
      "\n",
      "Quantidade:\n",
      " Sexo\n",
      "Masculino    424\n",
      "Feminino      74\n",
      "Name: count, dtype: int64\n"
     ]
    }
   ],
   "source": [
    "# --- Distribuição por sexo ---\n",
    "plt.figure(figsize=(6,4))\n",
    "sns.countplot(data=alunos_inativos, x=\"Sexo\", hue=\"Sexo\", palette=\"Set2\", legend=False)\n",
    "plt.title(\"Distribuição por Sexo - Alunos Inativos\")\n",
    "plt.xlabel(\"Sexo\")\n",
    "plt.ylabel(\"Quantidade\")\n",
    "plt.show()\n",
    "\n",
    "print(\"Proporção: \\n\",alunos_inativos[\"Sexo\"].value_counts(normalize=True)*100,\"\\n\")\n",
    "\n",
    "#quantidade\n",
    "print(\"Quantidade:\\n\",alunos_inativos[\"Sexo\"].value_counts())"
   ]
  },
  {
   "cell_type": "markdown",
   "id": "873e102b",
   "metadata": {},
   "source": [
    "##### Distribuição por Raça"
   ]
  },
  {
   "cell_type": "code",
   "execution_count": 71,
   "id": "d57837d0",
   "metadata": {},
   "outputs": [
    {
     "data": {
      "image/png": "[encoded data removed]",
      "text/plain": [
       "<Figure size 700x400 with 1 Axes>"
      ]
     },
     "metadata": {},
     "output_type": "display_data"
    }
   ],
   "source": [
    "plt.figure(figsize=(7,4))\n",
    "sns.countplot(data=alunos_ativos, hue = \"Raça\",x=\"Raça\", palette=\"muted\")\n",
    "plt.title(\"Distribuição por Raça (Alunos Ativos)\")\n",
    "plt.xlabel(\"Raça/Cor\")\n",
    "plt.ylabel(\"Quantidade\")\n",
    "plt.xticks(rotation=30)\n",
    "plt.show()\n"
   ]
  },
  {
   "cell_type": "code",
   "execution_count": 77,
   "id": "c1289d90",
   "metadata": {},
   "outputs": [
    {
     "name": "stdout",
     "output_type": "stream",
     "text": [
      "Proporção: \n",
      " Raça\n",
      "Pardo(a),Mulato(a)    40.361446\n",
      "Branca                37.951807\n",
      "Negra                  8.835341\n",
      "Não Informado          8.835341\n",
      "Amarela                3.815261\n",
      "Indígena               0.200803\n",
      "Name: proportion, dtype: float64 \n",
      "\n",
      "Quantidade:\n",
      " Raça\n",
      "Pardo(a),Mulato(a)    201\n",
      "Branca                189\n",
      "Negra                  44\n",
      "Não Informado          44\n",
      "Amarela                19\n",
      "Indígena                1\n",
      "Name: count, dtype: int64\n"
     ]
    }
   ],
   "source": [
    "\n",
    "print(\"Proporção: \\n\",alunos_inativos[\"Raça\"].value_counts(normalize=True)*100,\"\\n\")\n",
    "\n",
    "#quantidade\n",
    "print(\"Quantidade:\\n\",alunos_inativos[\"Raça\"].value_counts())"
   ]
  },
  {
   "cell_type": "markdown",
   "id": "69fb2ebd",
   "metadata": {},
   "source": [
    "##### Distribuição por Faixa Etária"
   ]
  },
  {
   "cell_type": "code",
   "execution_count": null,
   "id": "616de059",
   "metadata": {},
   "outputs": [
    {
     "data": {
      "image/png": "[encoded data removed]",
      "text/plain": [
       "<Figure size 800x500 with 1 Axes>"
      ]
     },
     "metadata": {},
     "output_type": "display_data"
    }
   ],
   "source": [
    "#distribuição dos alunos inativos por faixa etária\n",
    "data_atual = datetime.now()\n",
    "\n",
    "# Calcular idade dos alunos inativos\n",
    "alunos_inativos['Data Nascimento'] = pd.to_datetime(alunos_inativos['Data Nascimento'], errors='coerce')\n",
    "alunos_inativos['Idade'] = alunos_inativos['Data Nascimento'].apply(lambda x: (data_atual - x).days // 365 if pd.notnull(x) else np.nan)\n",
    "\n",
    "# Definir faixas etárias\n",
    "bins = [0, 17, 24, 30, 40, 60, 100]\n",
    "labels = ['<18', '18-24', '25-30', '31-40', '41-60', '60+']\n",
    "alunos_inativos['Faixa Etária'] = pd.cut(alunos_inativos['Idade'], bins=bins, labels=labels, right=False)\n",
    "\n",
    "# Plotar distribuição por faixa etária\n",
    "plt.figure(figsize=(8,5))\n",
    "sns.countplot(data=alunos_inativos, x='Faixa Etária', hue='Faixa Etária', palette='pastel', legend=False)\n",
    "plt.title('Distribuição por Faixa Etária - Alunos Inativos')\n",
    "plt.xlabel('Faixa Etária')\n",
    "plt.ylabel('Quantidade')\n",
    "plt.show()\n"
   ]
  },
  {
   "cell_type": "markdown",
   "id": "2f3d2281",
   "metadata": {},
   "source": [
    "##### Distribuição por Nacionalidade"
   ]
  },
  {
   "cell_type": "code",
   "execution_count": 78,
   "id": "8656a913",
   "metadata": {},
   "outputs": [
    {
     "data": {
      "image/png": "[encoded data removed]",
      "text/plain": [
       "<Figure size 600x400 with 1 Axes>"
      ]
     },
     "metadata": {},
     "output_type": "display_data"
    },
    {
     "name": "stdout",
     "output_type": "stream",
     "text": [
      "Nacionalidade\n",
      "BRASILEIRO    100.0\n",
      "Name: proportion, dtype: float64\n"
     ]
    }
   ],
   "source": [
    "plt.figure(figsize=(6,4))\n",
    "sns.countplot(data=alunos_inativos, x=\"Nacionalidade\",hue=\"Nacionalidade\", palette=\"Set3\")\n",
    "plt.title(\"Distribuição por Nacionalidade (Alunos Inativos)\")\n",
    "plt.xlabel(\"Nacionalidade\")\n",
    "plt.ylabel(\"Quantidade\")\n",
    "plt.xticks(rotation=30)\n",
    "plt.show()\n",
    "\n",
    "print(alunos_inativos[\"Nacionalidade\"].value_counts(normalize=True)*100)\n"
   ]
  },
  {
   "cell_type": "markdown",
   "id": "d9728d13",
   "metadata": {},
   "source": [
    "##### Distribuição por Estado"
   ]
  },
  {
   "cell_type": "code",
   "execution_count": 89,
   "id": "cc36d1d8",
   "metadata": {},
   "outputs": [
    {
     "data": {
      "image/png": "[encoded data removed]",
      "text/plain": [
       "<Figure size 800x500 with 1 Axes>"
      ]
     },
     "metadata": {},
     "output_type": "display_data"
    },
    {
     "name": "stdout",
     "output_type": "stream",
     "text": [
      "UF Naturalidade\n",
      "MT    224\n",
      "GO    110\n",
      "SP     30\n",
      "MG     18\n",
      "DF     17\n",
      "     ... \n",
      "AC      1\n",
      "PE      1\n",
      "EX      1\n",
      "AP      1\n",
      "PB      1\n",
      "Name: count, Length: 23, dtype: int64\n"
     ]
    }
   ],
   "source": [
    "plt.figure(figsize=(8,5))\n",
    "sns.countplot(\n",
    "    data=alunos_inativos, \n",
    "    x=\"UF Naturalidade\", hue=\"UF Naturalidade\",\n",
    "    order=alunos_inativos[\"UF Naturalidade\"].value_counts().index,  # ordena por frequência\n",
    "    palette=\"Set3\"\n",
    ")\n",
    "plt.title(\"Distribuição por UF de Naturalidade (Alunos Inativos)\")\n",
    "plt.xlabel(\"UF\")\n",
    "plt.ylabel(\"Quantidade de alunos\")\n",
    "plt.xticks(rotation=45)\n",
    "plt.show()\n",
    "\n",
    "# Quantidade de alunos por UF\n",
    "print(alunos_inativos[\"UF Naturalidade\"].value_counts())\n"
   ]
  },
  {
   "cell_type": "markdown",
   "id": "c3847584",
   "metadata": {},
   "source": [
    "### Proporção de evasão vs conclusão por perfil demográfico."
   ]
  },
  {
   "cell_type": "markdown",
   "id": "24c7a1db",
   "metadata": {},
   "source": []
  },
  {
   "cell_type": "code",
   "execution_count": 93,
   "id": "3d483a07",
   "metadata": {},
   "outputs": [],
   "source": [
    "# Adiciona uma coluna \"status\" ao DataFrame alunos_ativos com o valor \"Ativo\" para todos os registros.\n",
    "alunos_ativos[\"status\"] = \"Ativo\"\n",
    "\n",
    "# Para o DataFrame alunos_inativos, verifica se existe a coluna \"Situação atual\".\n",
    "if \"Situação atual\" in alunos_inativos.columns:\n",
    "    # Se existir, cria a coluna \"status\" classificando cada registro como \"Concluiu\" se o texto da situação contém \"conclus\"\n",
    "    # (indicando conclusão do curso), ou \"Evadido\" caso contrário (indicando evasão).\n",
    "    alunos_inativos[\"status\"] = alunos_inativos[\"Situação atual\"].apply(\n",
    "        lambda x: \"Concluiu\" if \"conclus\" in str(x or \"\").lower() else \"Evadido\"\n",
    "    )\n",
    "else:\n",
    "    # Se não existir a coluna \"Situação atual\", define \"status\" como \"Inativo\" para todos os registros.\n",
    "    alunos_inativos[\"status\"] = \"Inativo\"\n"
   ]
  },
  {
   "cell_type": "code",
   "execution_count": 95,
   "id": "3015817c",
   "metadata": {},
   "outputs": [],
   "source": [
    "# Combina os DataFrames alunos_ativos e alunos_inativos em um único DataFrame alunos.\n",
    "alunos = pd.concat([alunos_ativos, alunos_inativos], ignore_index=True)"
   ]
  },
  {
   "cell_type": "markdown",
   "id": "d11451ac",
   "metadata": {},
   "source": [
    "#### Proporção por Sexo"
   ]
  },
  {
   "cell_type": "code",
   "execution_count": 101,
   "id": "cc29d0a3",
   "metadata": {},
   "outputs": [
    {
     "data": {
      "image/png": "[encoded data removed]",
      "text/plain": [
       "<Figure size 700x500 with 1 Axes>"
      ]
     },
     "metadata": {},
     "output_type": "display_data"
    },
    {
     "name": "stdout",
     "output_type": "stream",
     "text": [
      "Tabela de proporções (%)\n"
     ]
    },
    {
     "data": {
      "text/html": [
       "<div>\n",
       "<style scoped>\n",
       "    .dataframe tbody tr th:only-of-type {\n",
       "        vertical-align: middle;\n",
       "    }\n",
       "\n",
       "    .dataframe tbody tr th {\n",
       "        vertical-align: top;\n",
       "    }\n",
       "\n",
       "    .dataframe thead th {\n",
       "        text-align: right;\n",
       "    }\n",
       "</style>\n",
       "<table border=\"1\" class=\"dataframe\">\n",
       "  <thead>\n",
       "    <tr style=\"text-align: right;\">\n",
       "      <th>status</th>\n",
       "      <th>Ativo</th>\n",
       "      <th>Concluiu</th>\n",
       "      <th>Evadido</th>\n",
       "    </tr>\n",
       "    <tr>\n",
       "      <th>Sexo</th>\n",
       "      <th></th>\n",
       "      <th></th>\n",
       "      <th></th>\n",
       "    </tr>\n",
       "  </thead>\n",
       "  <tbody>\n",
       "    <tr>\n",
       "      <th>Feminino</th>\n",
       "      <td>37.288136</td>\n",
       "      <td>12.711864</td>\n",
       "      <td>50.000000</td>\n",
       "    </tr>\n",
       "    <tr>\n",
       "      <th>Masculino</th>\n",
       "      <td>29.333333</td>\n",
       "      <td>16.000000</td>\n",
       "      <td>54.666667</td>\n",
       "    </tr>\n",
       "  </tbody>\n",
       "</table>\n",
       "</div>"
      ],
      "text/plain": [
       "status         Ativo   Concluiu    Evadido\n",
       "Sexo                                      \n",
       "Feminino   37.288136  12.711864  50.000000\n",
       "Masculino  29.333333  16.000000  54.666667"
      ]
     },
     "metadata": {},
     "output_type": "display_data"
    },
    {
     "name": "stdout",
     "output_type": "stream",
     "text": [
      "Tabela de quantidade\n"
     ]
    },
    {
     "data": {
      "text/html": [
       "<div>\n",
       "<style scoped>\n",
       "    .dataframe tbody tr th:only-of-type {\n",
       "        vertical-align: middle;\n",
       "    }\n",
       "\n",
       "    .dataframe tbody tr th {\n",
       "        vertical-align: top;\n",
       "    }\n",
       "\n",
       "    .dataframe thead th {\n",
       "        text-align: right;\n",
       "    }\n",
       "</style>\n",
       "<table border=\"1\" class=\"dataframe\">\n",
       "  <thead>\n",
       "    <tr style=\"text-align: right;\">\n",
       "      <th>status</th>\n",
       "      <th>Ativo</th>\n",
       "      <th>Concluiu</th>\n",
       "      <th>Evadido</th>\n",
       "    </tr>\n",
       "    <tr>\n",
       "      <th>Sexo</th>\n",
       "      <th></th>\n",
       "      <th></th>\n",
       "      <th></th>\n",
       "    </tr>\n",
       "  </thead>\n",
       "  <tbody>\n",
       "    <tr>\n",
       "      <th>Feminino</th>\n",
       "      <td>44</td>\n",
       "      <td>15</td>\n",
       "      <td>59</td>\n",
       "    </tr>\n",
       "    <tr>\n",
       "      <th>Masculino</th>\n",
       "      <td>176</td>\n",
       "      <td>96</td>\n",
       "      <td>328</td>\n",
       "    </tr>\n",
       "  </tbody>\n",
       "</table>\n",
       "</div>"
      ],
      "text/plain": [
       "status     Ativo  Concluiu  Evadido\n",
       "Sexo                               \n",
       "Feminino      44        15       59\n",
       "Masculino    176        96      328"
      ]
     },
     "metadata": {},
     "output_type": "display_data"
    }
   ],
   "source": [
    "\n",
    "plt.figure(figsize=(7,5))\n",
    "sns.countplot(data=alunos, x=\"Sexo\", hue=\"status\", palette=\"Set2\")\n",
    "plt.title(\"Status dos alunos por Sexo\")\n",
    "plt.xlabel(\"Sexo\")\n",
    "plt.ylabel(\"Quantidade\")\n",
    "plt.legend(title=\"Status\")\n",
    "plt.show()\n",
    "\n",
    "print(\"Tabela de proporções (%)\")\n",
    "tab_sexo = pd.crosstab(alunos[\"Sexo\"], alunos[\"status\"], normalize=\"index\")*100\n",
    "display(tab_sexo)\n",
    "\n",
    "print(\"Tabela de quantidade\")\n",
    "tab_sexo_counts = pd.crosstab(alunos[\"Sexo\"], alunos[\"status\"])\n",
    "display(tab_sexo_counts)\n"
   ]
  },
  {
   "cell_type": "markdown",
   "id": "aaa94004",
   "metadata": {},
   "source": [
    "#### Proporção por Raça"
   ]
  },
  {
   "cell_type": "code",
   "execution_count": 103,
   "id": "5a4abb89",
   "metadata": {},
   "outputs": [
    {
     "data": {
      "image/png": "[encoded data removed]",
      "text/plain": [
       "<Figure size 800x500 with 1 Axes>"
      ]
     },
     "metadata": {},
     "output_type": "display_data"
    },
    {
     "name": "stdout",
     "output_type": "stream",
     "text": [
      "Tabela de proporções (%)\n"
     ]
    },
    {
     "data": {
      "text/html": [
       "<div>\n",
       "<style scoped>\n",
       "    .dataframe tbody tr th:only-of-type {\n",
       "        vertical-align: middle;\n",
       "    }\n",
       "\n",
       "    .dataframe tbody tr th {\n",
       "        vertical-align: top;\n",
       "    }\n",
       "\n",
       "    .dataframe thead th {\n",
       "        text-align: right;\n",
       "    }\n",
       "</style>\n",
       "<table border=\"1\" class=\"dataframe\">\n",
       "  <thead>\n",
       "    <tr style=\"text-align: right;\">\n",
       "      <th>status</th>\n",
       "      <th>Ativo</th>\n",
       "      <th>Concluiu</th>\n",
       "      <th>Evadido</th>\n",
       "    </tr>\n",
       "    <tr>\n",
       "      <th>Raça</th>\n",
       "      <th></th>\n",
       "      <th></th>\n",
       "      <th></th>\n",
       "    </tr>\n",
       "  </thead>\n",
       "  <tbody>\n",
       "    <tr>\n",
       "      <th>Amarela</th>\n",
       "      <td>0.000000</td>\n",
       "      <td>26.315789</td>\n",
       "      <td>73.684211</td>\n",
       "    </tr>\n",
       "    <tr>\n",
       "      <th>Branca</th>\n",
       "      <td>36.148649</td>\n",
       "      <td>14.527027</td>\n",
       "      <td>49.324324</td>\n",
       "    </tr>\n",
       "    <tr>\n",
       "      <th>Indígena</th>\n",
       "      <td>50.000000</td>\n",
       "      <td>0.000000</td>\n",
       "      <td>50.000000</td>\n",
       "    </tr>\n",
       "    <tr>\n",
       "      <th>Negra</th>\n",
       "      <td>29.032258</td>\n",
       "      <td>17.741935</td>\n",
       "      <td>53.225806</td>\n",
       "    </tr>\n",
       "    <tr>\n",
       "      <th>Não Informado</th>\n",
       "      <td>12.000000</td>\n",
       "      <td>8.000000</td>\n",
       "      <td>80.000000</td>\n",
       "    </tr>\n",
       "    <tr>\n",
       "      <th>Pardo(a),Mulato(a)</th>\n",
       "      <td>30.449827</td>\n",
       "      <td>16.608997</td>\n",
       "      <td>52.941176</td>\n",
       "    </tr>\n",
       "  </tbody>\n",
       "</table>\n",
       "</div>"
      ],
      "text/plain": [
       "status                  Ativo   Concluiu    Evadido\n",
       "Raça                                               \n",
       "Amarela              0.000000  26.315789  73.684211\n",
       "Branca              36.148649  14.527027  49.324324\n",
       "Indígena            50.000000   0.000000  50.000000\n",
       "Negra               29.032258  17.741935  53.225806\n",
       "Não Informado       12.000000   8.000000  80.000000\n",
       "Pardo(a),Mulato(a)  30.449827  16.608997  52.941176"
      ]
     },
     "metadata": {},
     "output_type": "display_data"
    },
    {
     "name": "stdout",
     "output_type": "stream",
     "text": [
      "Tabela de quantidade\n"
     ]
    },
    {
     "data": {
      "text/html": [
       "<div>\n",
       "<style scoped>\n",
       "    .dataframe tbody tr th:only-of-type {\n",
       "        vertical-align: middle;\n",
       "    }\n",
       "\n",
       "    .dataframe tbody tr th {\n",
       "        vertical-align: top;\n",
       "    }\n",
       "\n",
       "    .dataframe thead th {\n",
       "        text-align: right;\n",
       "    }\n",
       "</style>\n",
       "<table border=\"1\" class=\"dataframe\">\n",
       "  <thead>\n",
       "    <tr style=\"text-align: right;\">\n",
       "      <th>status</th>\n",
       "      <th>Ativo</th>\n",
       "      <th>Concluiu</th>\n",
       "      <th>Evadido</th>\n",
       "    </tr>\n",
       "    <tr>\n",
       "      <th>Raça</th>\n",
       "      <th></th>\n",
       "      <th></th>\n",
       "      <th></th>\n",
       "    </tr>\n",
       "  </thead>\n",
       "  <tbody>\n",
       "    <tr>\n",
       "      <th>Amarela</th>\n",
       "      <td>0</td>\n",
       "      <td>5</td>\n",
       "      <td>14</td>\n",
       "    </tr>\n",
       "    <tr>\n",
       "      <th>Branca</th>\n",
       "      <td>107</td>\n",
       "      <td>43</td>\n",
       "      <td>146</td>\n",
       "    </tr>\n",
       "    <tr>\n",
       "      <th>Indígena</th>\n",
       "      <td>1</td>\n",
       "      <td>0</td>\n",
       "      <td>1</td>\n",
       "    </tr>\n",
       "    <tr>\n",
       "      <th>Negra</th>\n",
       "      <td>18</td>\n",
       "      <td>11</td>\n",
       "      <td>33</td>\n",
       "    </tr>\n",
       "    <tr>\n",
       "      <th>Não Informado</th>\n",
       "      <td>6</td>\n",
       "      <td>4</td>\n",
       "      <td>40</td>\n",
       "    </tr>\n",
       "    <tr>\n",
       "      <th>Pardo(a),Mulato(a)</th>\n",
       "      <td>88</td>\n",
       "      <td>48</td>\n",
       "      <td>153</td>\n",
       "    </tr>\n",
       "  </tbody>\n",
       "</table>\n",
       "</div>"
      ],
      "text/plain": [
       "status              Ativo  Concluiu  Evadido\n",
       "Raça                                        \n",
       "Amarela                 0         5       14\n",
       "Branca                107        43      146\n",
       "Indígena                1         0        1\n",
       "Negra                  18        11       33\n",
       "Não Informado           6         4       40\n",
       "Pardo(a),Mulato(a)     88        48      153"
      ]
     },
     "metadata": {},
     "output_type": "display_data"
    }
   ],
   "source": [
    "\n",
    "plt.figure(figsize=(8,5))\n",
    "sns.countplot(data=alunos, x=\"Raça\", hue=\"status\", palette=\"muted\")\n",
    "plt.title(\"Status dos alunos por Raça\")\n",
    "plt.xlabel(\"Raça\")\n",
    "plt.ylabel(\"Quantidade\")\n",
    "plt.xticks(rotation=30)\n",
    "plt.legend(title=\"Status\")\n",
    "plt.show()\n",
    "\n",
    "print(\"Tabela de proporções (%)\")\n",
    "tab_raca = pd.crosstab(alunos[\"Raça\"], alunos[\"status\"], normalize=\"index\")*100\n",
    "display(tab_raca)\n",
    "\n",
    "print(\"Tabela de quantidade\")\n",
    "tab_raca_counts = pd.crosstab(alunos[\"Raça\"], alunos[\"status\"])\n",
    "display(tab_raca_counts)\n",
    "\n"
   ]
  },
  {
   "cell_type": "markdown",
   "id": "6fd26947",
   "metadata": {},
   "source": [
    "#### Proporção por Faixa Etária"
   ]
  },
  {
   "cell_type": "code",
   "execution_count": 106,
   "id": "5551dc8b",
   "metadata": {},
   "outputs": [
    {
     "data": {
      "image/png": "[encoded data removed]",
      "text/plain": [
       "<Figure size 700x500 with 1 Axes>"
      ]
     },
     "metadata": {},
     "output_type": "display_data"
    },
    {
     "name": "stdout",
     "output_type": "stream",
     "text": [
      "Tabela de quantidade\n"
     ]
    },
    {
     "data": {
      "text/html": [
       "<div>\n",
       "<style scoped>\n",
       "    .dataframe tbody tr th:only-of-type {\n",
       "        vertical-align: middle;\n",
       "    }\n",
       "\n",
       "    .dataframe tbody tr th {\n",
       "        vertical-align: top;\n",
       "    }\n",
       "\n",
       "    .dataframe thead th {\n",
       "        text-align: right;\n",
       "    }\n",
       "</style>\n",
       "<table border=\"1\" class=\"dataframe\">\n",
       "  <thead>\n",
       "    <tr style=\"text-align: right;\">\n",
       "      <th>status</th>\n",
       "      <th>Ativo</th>\n",
       "      <th>Concluiu</th>\n",
       "      <th>Evadido</th>\n",
       "    </tr>\n",
       "    <tr>\n",
       "      <th>Faixa Etária</th>\n",
       "      <th></th>\n",
       "      <th></th>\n",
       "      <th></th>\n",
       "    </tr>\n",
       "  </thead>\n",
       "  <tbody>\n",
       "    <tr>\n",
       "      <th>&lt;18</th>\n",
       "      <td>0</td>\n",
       "      <td>0</td>\n",
       "      <td>2</td>\n",
       "    </tr>\n",
       "    <tr>\n",
       "      <th>18-24</th>\n",
       "      <td>111</td>\n",
       "      <td>0</td>\n",
       "      <td>12</td>\n",
       "    </tr>\n",
       "    <tr>\n",
       "      <th>25-30</th>\n",
       "      <td>79</td>\n",
       "      <td>28</td>\n",
       "      <td>112</td>\n",
       "    </tr>\n",
       "    <tr>\n",
       "      <th>31-40</th>\n",
       "      <td>23</td>\n",
       "      <td>75</td>\n",
       "      <td>215</td>\n",
       "    </tr>\n",
       "    <tr>\n",
       "      <th>41-60</th>\n",
       "      <td>7</td>\n",
       "      <td>8</td>\n",
       "      <td>44</td>\n",
       "    </tr>\n",
       "    <tr>\n",
       "      <th>60+</th>\n",
       "      <td>0</td>\n",
       "      <td>0</td>\n",
       "      <td>2</td>\n",
       "    </tr>\n",
       "  </tbody>\n",
       "</table>\n",
       "</div>"
      ],
      "text/plain": [
       "status        Ativo  Concluiu  Evadido\n",
       "Faixa Etária                          \n",
       "<18               0         0        2\n",
       "18-24           111         0       12\n",
       "25-30            79        28      112\n",
       "31-40            23        75      215\n",
       "41-60             7         8       44\n",
       "60+               0         0        2"
      ]
     },
     "metadata": {},
     "output_type": "display_data"
    },
    {
     "name": "stdout",
     "output_type": "stream",
     "text": [
      "Tabela de proporções (%)\n"
     ]
    },
    {
     "data": {
      "text/html": [
       "<div>\n",
       "<style scoped>\n",
       "    .dataframe tbody tr th:only-of-type {\n",
       "        vertical-align: middle;\n",
       "    }\n",
       "\n",
       "    .dataframe tbody tr th {\n",
       "        vertical-align: top;\n",
       "    }\n",
       "\n",
       "    .dataframe thead th {\n",
       "        text-align: right;\n",
       "    }\n",
       "</style>\n",
       "<table border=\"1\" class=\"dataframe\">\n",
       "  <thead>\n",
       "    <tr style=\"text-align: right;\">\n",
       "      <th>status</th>\n",
       "      <th>Ativo</th>\n",
       "      <th>Concluiu</th>\n",
       "      <th>Evadido</th>\n",
       "    </tr>\n",
       "    <tr>\n",
       "      <th>Faixa Etária</th>\n",
       "      <th></th>\n",
       "      <th></th>\n",
       "      <th></th>\n",
       "    </tr>\n",
       "  </thead>\n",
       "  <tbody>\n",
       "    <tr>\n",
       "      <th>&lt;18</th>\n",
       "      <td>0.000000</td>\n",
       "      <td>0.000000</td>\n",
       "      <td>100.000000</td>\n",
       "    </tr>\n",
       "    <tr>\n",
       "      <th>18-24</th>\n",
       "      <td>90.243902</td>\n",
       "      <td>0.000000</td>\n",
       "      <td>9.756098</td>\n",
       "    </tr>\n",
       "    <tr>\n",
       "      <th>25-30</th>\n",
       "      <td>36.073059</td>\n",
       "      <td>12.785388</td>\n",
       "      <td>51.141553</td>\n",
       "    </tr>\n",
       "    <tr>\n",
       "      <th>31-40</th>\n",
       "      <td>7.348243</td>\n",
       "      <td>23.961661</td>\n",
       "      <td>68.690096</td>\n",
       "    </tr>\n",
       "    <tr>\n",
       "      <th>41-60</th>\n",
       "      <td>11.864407</td>\n",
       "      <td>13.559322</td>\n",
       "      <td>74.576271</td>\n",
       "    </tr>\n",
       "    <tr>\n",
       "      <th>60+</th>\n",
       "      <td>0.000000</td>\n",
       "      <td>0.000000</td>\n",
       "      <td>100.000000</td>\n",
       "    </tr>\n",
       "  </tbody>\n",
       "</table>\n",
       "</div>"
      ],
      "text/plain": [
       "status            Ativo   Concluiu     Evadido\n",
       "Faixa Etária                                  \n",
       "<18            0.000000   0.000000  100.000000\n",
       "18-24         90.243902   0.000000    9.756098\n",
       "25-30         36.073059  12.785388   51.141553\n",
       "31-40          7.348243  23.961661   68.690096\n",
       "41-60         11.864407  13.559322   74.576271\n",
       "60+            0.000000   0.000000  100.000000"
      ]
     },
     "metadata": {},
     "output_type": "display_data"
    }
   ],
   "source": [
    "\n",
    "plt.figure(figsize=(7,5))\n",
    "sns.countplot(data=alunos, x=\"Faixa Etária\", hue=\"status\", palette=\"coolwarm\")\n",
    "plt.title(\"Status dos alunos por Faixa Etária\")\n",
    "plt.xlabel(\"Faixa Etária\")\n",
    "plt.ylabel(\"Quantidade\")\n",
    "plt.legend(title=\"Status\")\n",
    "plt.show()\n",
    "\n",
    "print(\"Tabela de quantidade\")\n",
    "tab_faixa_counts = pd.crosstab(alunos[\"Faixa Etária\"], alunos[\"status\"])\n",
    "display(tab_faixa_counts)\n",
    "\n",
    "print(\"Tabela de proporções (%)\")\n",
    "tab_faixa = pd.crosstab(alunos[\"Faixa Etária\"], alunos[\"status\"], normalize=\"index\")*100\n",
    "display(tab_faixa)\n"
   ]
  },
  {
   "cell_type": "markdown",
   "id": "db2394cb",
   "metadata": {},
   "source": [
    "#### Proporção por Estado"
   ]
  },
  {
   "cell_type": "code",
   "execution_count": 111,
   "id": "b896d506",
   "metadata": {},
   "outputs": [
    {
     "data": {
      "image/png": "[encoded data removed]",
      "text/plain": [
       "<Figure size 700x500 with 1 Axes>"
      ]
     },
     "metadata": {},
     "output_type": "display_data"
    },
    {
     "name": "stdout",
     "output_type": "stream",
     "text": [
      "Tabela de quantidade\n"
     ]
    },
    {
     "data": {
      "text/html": [
       "<div>\n",
       "<style scoped>\n",
       "    .dataframe tbody tr th:only-of-type {\n",
       "        vertical-align: middle;\n",
       "    }\n",
       "\n",
       "    .dataframe tbody tr th {\n",
       "        vertical-align: top;\n",
       "    }\n",
       "\n",
       "    .dataframe thead th {\n",
       "        text-align: right;\n",
       "    }\n",
       "</style>\n",
       "<table border=\"1\" class=\"dataframe\">\n",
       "  <thead>\n",
       "    <tr style=\"text-align: right;\">\n",
       "      <th>status</th>\n",
       "      <th>Ativo</th>\n",
       "      <th>Concluiu</th>\n",
       "      <th>Evadido</th>\n",
       "    </tr>\n",
       "    <tr>\n",
       "      <th>UF Naturalidade</th>\n",
       "      <th></th>\n",
       "      <th></th>\n",
       "      <th></th>\n",
       "    </tr>\n",
       "  </thead>\n",
       "  <tbody>\n",
       "    <tr>\n",
       "      <th>AC</th>\n",
       "      <td>1</td>\n",
       "      <td>0</td>\n",
       "      <td>1</td>\n",
       "    </tr>\n",
       "    <tr>\n",
       "      <th>AM</th>\n",
       "      <td>0</td>\n",
       "      <td>0</td>\n",
       "      <td>1</td>\n",
       "    </tr>\n",
       "    <tr>\n",
       "      <th>AP</th>\n",
       "      <td>0</td>\n",
       "      <td>0</td>\n",
       "      <td>1</td>\n",
       "    </tr>\n",
       "    <tr>\n",
       "      <th>BA</th>\n",
       "      <td>5</td>\n",
       "      <td>5</td>\n",
       "      <td>4</td>\n",
       "    </tr>\n",
       "    <tr>\n",
       "      <th>CE</th>\n",
       "      <td>0</td>\n",
       "      <td>1</td>\n",
       "      <td>0</td>\n",
       "    </tr>\n",
       "    <tr>\n",
       "      <th>...</th>\n",
       "      <td>...</td>\n",
       "      <td>...</td>\n",
       "      <td>...</td>\n",
       "    </tr>\n",
       "    <tr>\n",
       "      <th>RR</th>\n",
       "      <td>1</td>\n",
       "      <td>0</td>\n",
       "      <td>0</td>\n",
       "    </tr>\n",
       "    <tr>\n",
       "      <th>RS</th>\n",
       "      <td>0</td>\n",
       "      <td>0</td>\n",
       "      <td>3</td>\n",
       "    </tr>\n",
       "    <tr>\n",
       "      <th>SC</th>\n",
       "      <td>1</td>\n",
       "      <td>0</td>\n",
       "      <td>0</td>\n",
       "    </tr>\n",
       "    <tr>\n",
       "      <th>SP</th>\n",
       "      <td>18</td>\n",
       "      <td>5</td>\n",
       "      <td>25</td>\n",
       "    </tr>\n",
       "    <tr>\n",
       "      <th>TO</th>\n",
       "      <td>1</td>\n",
       "      <td>0</td>\n",
       "      <td>2</td>\n",
       "    </tr>\n",
       "  </tbody>\n",
       "</table>\n",
       "<p>25 rows × 3 columns</p>\n",
       "</div>"
      ],
      "text/plain": [
       "status           Ativo  Concluiu  Evadido\n",
       "UF Naturalidade                          \n",
       "AC                   1         0        1\n",
       "AM                   0         0        1\n",
       "AP                   0         0        1\n",
       "BA                   5         5        4\n",
       "CE                   0         1        0\n",
       "...                ...       ...      ...\n",
       "RR                   1         0        0\n",
       "RS                   0         0        3\n",
       "SC                   1         0        0\n",
       "SP                  18         5       25\n",
       "TO                   1         0        2\n",
       "\n",
       "[25 rows x 3 columns]"
      ]
     },
     "metadata": {},
     "output_type": "display_data"
    },
    {
     "name": "stdout",
     "output_type": "stream",
     "text": [
      "Tabela de proporções (%)\n"
     ]
    },
    {
     "data": {
      "text/html": [
       "<div>\n",
       "<style scoped>\n",
       "    .dataframe tbody tr th:only-of-type {\n",
       "        vertical-align: middle;\n",
       "    }\n",
       "\n",
       "    .dataframe tbody tr th {\n",
       "        vertical-align: top;\n",
       "    }\n",
       "\n",
       "    .dataframe thead th {\n",
       "        text-align: right;\n",
       "    }\n",
       "</style>\n",
       "<table border=\"1\" class=\"dataframe\">\n",
       "  <thead>\n",
       "    <tr style=\"text-align: right;\">\n",
       "      <th>status</th>\n",
       "      <th>Ativo</th>\n",
       "      <th>Concluiu</th>\n",
       "      <th>Evadido</th>\n",
       "    </tr>\n",
       "    <tr>\n",
       "      <th>UF Naturalidade</th>\n",
       "      <th></th>\n",
       "      <th></th>\n",
       "      <th></th>\n",
       "    </tr>\n",
       "  </thead>\n",
       "  <tbody>\n",
       "    <tr>\n",
       "      <th>AC</th>\n",
       "      <td>50.000000</td>\n",
       "      <td>0.000000</td>\n",
       "      <td>50.000000</td>\n",
       "    </tr>\n",
       "    <tr>\n",
       "      <th>AM</th>\n",
       "      <td>0.000000</td>\n",
       "      <td>0.000000</td>\n",
       "      <td>100.000000</td>\n",
       "    </tr>\n",
       "    <tr>\n",
       "      <th>AP</th>\n",
       "      <td>0.000000</td>\n",
       "      <td>0.000000</td>\n",
       "      <td>100.000000</td>\n",
       "    </tr>\n",
       "    <tr>\n",
       "      <th>BA</th>\n",
       "      <td>35.714286</td>\n",
       "      <td>35.714286</td>\n",
       "      <td>28.571429</td>\n",
       "    </tr>\n",
       "    <tr>\n",
       "      <th>CE</th>\n",
       "      <td>0.000000</td>\n",
       "      <td>100.000000</td>\n",
       "      <td>0.000000</td>\n",
       "    </tr>\n",
       "    <tr>\n",
       "      <th>...</th>\n",
       "      <td>...</td>\n",
       "      <td>...</td>\n",
       "      <td>...</td>\n",
       "    </tr>\n",
       "    <tr>\n",
       "      <th>RR</th>\n",
       "      <td>100.000000</td>\n",
       "      <td>0.000000</td>\n",
       "      <td>0.000000</td>\n",
       "    </tr>\n",
       "    <tr>\n",
       "      <th>RS</th>\n",
       "      <td>0.000000</td>\n",
       "      <td>0.000000</td>\n",
       "      <td>100.000000</td>\n",
       "    </tr>\n",
       "    <tr>\n",
       "      <th>SC</th>\n",
       "      <td>100.000000</td>\n",
       "      <td>0.000000</td>\n",
       "      <td>0.000000</td>\n",
       "    </tr>\n",
       "    <tr>\n",
       "      <th>SP</th>\n",
       "      <td>37.500000</td>\n",
       "      <td>10.416667</td>\n",
       "      <td>52.083333</td>\n",
       "    </tr>\n",
       "    <tr>\n",
       "      <th>TO</th>\n",
       "      <td>33.333333</td>\n",
       "      <td>0.000000</td>\n",
       "      <td>66.666667</td>\n",
       "    </tr>\n",
       "  </tbody>\n",
       "</table>\n",
       "<p>25 rows × 3 columns</p>\n",
       "</div>"
      ],
      "text/plain": [
       "status                Ativo    Concluiu     Evadido\n",
       "UF Naturalidade                                    \n",
       "AC                50.000000    0.000000   50.000000\n",
       "AM                 0.000000    0.000000  100.000000\n",
       "AP                 0.000000    0.000000  100.000000\n",
       "BA                35.714286   35.714286   28.571429\n",
       "CE                 0.000000  100.000000    0.000000\n",
       "...                     ...         ...         ...\n",
       "RR               100.000000    0.000000    0.000000\n",
       "RS                 0.000000    0.000000  100.000000\n",
       "SC               100.000000    0.000000    0.000000\n",
       "SP                37.500000   10.416667   52.083333\n",
       "TO                33.333333    0.000000   66.666667\n",
       "\n",
       "[25 rows x 3 columns]"
      ]
     },
     "metadata": {},
     "output_type": "display_data"
    }
   ],
   "source": [
    "\n",
    "plt.figure(figsize=(7,5))\n",
    "sns.countplot(data=alunos, x=\"UF Naturalidade\", hue=\"status\", palette=\"coolwarm\")\n",
    "plt.title(\"Status dos alunos por UF de Naturalidade\")\n",
    "plt.xlabel(\"UF de Naturalidade\")\n",
    "plt.ylabel(\"Quantidade\")\n",
    "plt.legend(title=\"Status\")\n",
    "plt.show()\n",
    "\n",
    "print(\"Tabela de quantidade\")\n",
    "tab_uf_counts = pd.crosstab(alunos[\"UF Naturalidade\"], alunos[\"status\"])\n",
    "display(tab_uf_counts)\n",
    "\n",
    "print(\"Tabela de proporções (%)\")\n",
    "tab_uf = pd.crosstab(alunos[\"UF Naturalidade\"], alunos[\"status\"], normalize=\"index\")*100\n",
    "display(tab_uf)\n"
   ]
  },
  {
   "cell_type": "markdown",
   "id": "44cef977",
   "metadata": {},
   "source": [
    "### Análise de correlação entre coeficiente de rendimento e evasão."
   ]
  },
  {
   "cell_type": "code",
   "execution_count": 116,
   "id": "53345a01",
   "metadata": {},
   "outputs": [
    {
     "name": "stdout",
     "output_type": "stream",
     "text": [
      "status\n",
      "Ativo       3.719864\n",
      "Concluiu    6.403874\n",
      "Evadido     2.214651\n",
      "Name: Coeficiente, dtype: float64\n"
     ]
    }
   ],
   "source": [
    "# Estatísticas básicas do coeficiente por status\n",
    "print(alunos.groupby(\"status\")[\"Coeficiente\"].mean())\n"
   ]
  },
  {
   "cell_type": "markdown",
   "id": "97d01573",
   "metadata": {},
   "source": [
    "Os resultados mostram que os alunos concluintes apresentaram média de coeficiente mais alta (≈6,45), enquanto os evadidos tiveram a menor média (≈2,16). Os alunos ativos ficaram em posição intermediária (≈4,36), sugerindo que o desempenho acadêmico está fortemente associado à permanência no curso."
   ]
  },
  {
   "cell_type": "code",
   "execution_count": 114,
   "id": "4f11db43",
   "metadata": {},
   "outputs": [
    {
     "data": {
      "image/png": "[encoded data removed]",
      "text/plain": [
       "<Figure size 700x500 with 1 Axes>"
      ]
     },
     "metadata": {},
     "output_type": "display_data"
    }
   ],
   "source": [
    "plt.figure(figsize=(7,5))\n",
    "sns.boxplot(data=alunos, x=\"status\", hue=\"status\", y=\"Coeficiente\", palette=\"Set2\")\n",
    "plt.title(\"Distribuição do CR por Status do Aluno\")\n",
    "plt.xlabel(\"Status\")\n",
    "plt.ylabel(\"Coeficiente de Rendimento (CR)\")\n",
    "plt.show()\n"
   ]
  },
  {
   "cell_type": "markdown",
   "id": "5f1619b6",
   "metadata": {},
   "source": [
    "O boxplot evidencia a diferença entre os grupos: a distribuição de coeficientes dos evadidos concentra-se em valores baixos, enquanto os concluintes apresentam desempenho consistentemente mais elevado. Os ativos apresentam maior variabilidade, ocupando uma faixa intermediária entre os dois grupos."
   ]
  },
  {
   "cell_type": "code",
   "execution_count": 115,
   "id": "5325282d",
   "metadata": {},
   "outputs": [
    {
     "name": "stdout",
     "output_type": "stream",
     "text": [
      "ANOVA: F=173.280, p=0.00000\n",
      "Kruskal-Wallis: H=224.749, p=0.00000\n"
     ]
    }
   ],
   "source": [
    "# Separando os grupos\n",
    "ativo = alunos[alunos[\"status\"]==\"Ativo\"][\"Coeficiente\"].dropna()\n",
    "evadido = alunos[alunos[\"status\"]==\"Evadido\"][\"Coeficiente\"].dropna()\n",
    "concluiu = alunos[alunos[\"status\"]==\"Concluiu\"][\"Coeficiente\"].dropna()\n",
    "\n",
    "# Teste ANOVA\n",
    "f, p = stats.f_oneway(ativo, evadido, concluiu)\n",
    "print(f\"ANOVA: F={f:.3f}, p={p:.5f}\")\n",
    "\n",
    "# Teste não paramétrico (Kruskal-Wallis)\n",
    "h, p = stats.kruskal(ativo, evadido, concluiu)\n",
    "print(f\"Kruskal-Wallis: H={h:.3f}, p={p:.5f}\")\n"
   ]
  },
  {
   "cell_type": "markdown",
   "id": "0bcf2013",
   "metadata": {},
   "source": [
    "O teste de Kruskal-Wallis também apontou diferença significativa entre os grupos (H=224.75, p<0.00001), reforçando a evidência de que o rendimento acadêmico difere de forma consistente entre alunos ativos, concluintes e evadidos."
   ]
  },
  {
   "cell_type": "markdown",
   "id": "526915e3",
   "metadata": {},
   "source": [
    "## 1. Tragetória Acadêmica"
   ]
  },
  {
   "cell_type": "markdown",
   "id": "900df456",
   "metadata": {},
   "source": [
    "### Taxa média de aprovação/reprovação por disciplina"
   ]
  },
  {
   "cell_type": "markdown",
   "id": "3c08bbc2",
   "metadata": {},
   "source": [
    "##### Padronização do nome da disciplina (maiusc., sem acento, sem espaços extras)\n"
   ]
  },
  {
   "cell_type": "code",
   "execution_count": null,
   "id": "a6e7522e",
   "metadata": {},
   "outputs": [],
   "source": [
    "def _strip_accents(s):\n",
    "    if pd.isna(s):\n",
    "        return s\n",
    "    s = str(s)\n",
    "    s = unicodedata.normalize(\"NFKD\", s)\n",
    "    s = \"\".join([c for c in s if not unicodedata.combining(c)])\n",
    "    return s\n",
    "\n",
    "historico_escolar[\"Nome da Disciplina\"] = (\n",
    "    historico_escolar[\"Nome da Disciplina\"]\n",
    "    .astype(str)\n",
    "    .str.upper()\n",
    "    .map(_strip_accents)\n",
    "    .str.strip()\n",
    ")\n"
   ]
  },
  {
   "cell_type": "markdown",
   "id": "7e4f33f2",
   "metadata": {},
   "source": [
    "##### Tornar a classificação de SF mais robusta"
   ]
  },
  {
   "cell_type": "code",
   "execution_count": 160,
   "id": "1c1d14e2",
   "metadata": {},
   "outputs": [
    {
     "name": "stdout",
     "output_type": "stream",
     "text": [
      "SF\n",
      "AP     8332\n",
      "RM     3773\n",
      "AE     3377\n",
      "RMF    3314\n",
      "MA      546\n",
      "APO     157\n",
      "RP       17\n",
      "RF       10\n",
      "APM       2\n",
      "Name: count, dtype: int64\n"
     ]
    }
   ],
   "source": [
    "# Diagnóstico rápido\n",
    "print(historico_escolar[\"SF\"].dropna().astype(str).str.upper().value_counts().head(20))"
   ]
  },
  {
   "cell_type": "code",
   "execution_count": 164,
   "id": "e0e3d8e0",
   "metadata": {},
   "outputs": [],
   "source": [
    "def classificar_situacao(sf):\n",
    "    s = str(sf or \"\").upper()\n",
    "\n",
    "    # listas (ajuste aqui conforme o que aparecer no value_counts acima)\n",
    "    aprov = (\"AP\", \"APR\", \"APROV\", \"APROVADO\", \"APO\", \"APM\")\n",
    "    reprov = (\"RM\",\"RMF\", \"RF\", \"REP\",\"RP\", \"REPROV\", \"REPROVADO\")\n",
    "\n",
    "    if any(tok in s for tok in aprov):\n",
    "        return \"Aprovado\"\n",
    "    elif any(tok in s for tok in reprov):\n",
    "        return \"Reprovado\"\n",
    "    else:\n",
    "        return \"Outros\"\n",
    "\n",
    "historico_escolar[\"resultado\"] = historico_escolar[\"SF\"].apply(classificar_situacao)\n"
   ]
  },
  {
   "cell_type": "markdown",
   "id": "4d8924f6",
   "metadata": {},
   "source": [
    "##### Contagens e taxas"
   ]
  },
  {
   "cell_type": "code",
   "execution_count": 163,
   "id": "f92ac569",
   "metadata": {},
   "outputs": [
    {
     "name": "stdout",
     "output_type": "stream",
     "text": [
      "resultado\n",
      "Aprovado     8491\n",
      "Reprovado    7114\n",
      "Outros       3923\n",
      "Name: count, dtype: int64\n",
      "Tabela de quantidade por disciplina\n",
      "               Nome da Disciplina  resultado  quantidade\n",
      "0                  ALGEBRA LINEAR     Outros           1\n",
      "1                ALGEBRA LINEAR I   Aprovado         224\n",
      "2                ALGEBRA LINEAR I     Outros          94\n",
      "3                ALGEBRA LINEAR I  Reprovado         141\n",
      "4               ALGEBRA LINEAR II   Aprovado           2\n",
      "..                            ...        ...         ...\n",
      "10    ARQUITETURA DE COMPUTADORES   Aprovado          73\n",
      "11    ARQUITETURA DE COMPUTADORES     Outros          91\n",
      "12    ARQUITETURA DE COMPUTADORES  Reprovado          27\n",
      "13  ARQUITETURA DE SOFTWARE (OPT)   Aprovado           1\n",
      "14  ARQUITETURA DE SOFTWARE (OPT)     Outros          18\n",
      "\n",
      "[15 rows x 3 columns]\n"
     ]
    }
   ],
   "source": [
    "# Conferência rápida da distribuição global\n",
    "print(historico_escolar[\"resultado\"].value_counts(dropna=False))\n",
    "\n",
    "# Quantidade por disciplina-resultado\n",
    "taxa_disciplina = (\n",
    "    historico_escolar.groupby([\"Nome da Disciplina\", \"resultado\"])[\"rga_anonimo\"]\n",
    "    .count()\n",
    "    .reset_index()\n",
    "    .rename(columns={\"rga_anonimo\": \"quantidade\"})\n",
    ")\n",
    "\n",
    "print(\"Tabela de quantidade por disciplina\")\n",
    "print(taxa_disciplina.head(15))\n"
   ]
  },
  {
   "cell_type": "code",
   "execution_count": 154,
   "id": "9b6991ee",
   "metadata": {},
   "outputs": [],
   "source": [
    "# Pivotar tabela\n",
    "tabela_taxa = taxa_disciplina.pivot_table(\n",
    "    index=\"Nome da Disciplina\",\n",
    "    columns=\"resultado\",\n",
    "    values=\"quantidade\",\n",
    "    fill_value=0\n",
    ")\n"
   ]
  },
  {
   "cell_type": "code",
   "execution_count": 155,
   "id": "5bc8d945",
   "metadata": {},
   "outputs": [],
   "source": [
    "# Calcular taxas\n",
    "tabela_taxa[\"total\"] = tabela_taxa.sum(axis=1)\n",
    "tabela_taxa[\"taxa_aprovacao\"] = (tabela_taxa.get(\"Aprovado\", 0) / tabela_taxa[\"total\"]) * 100\n",
    "tabela_taxa[\"taxa_reprovacao\"] = (tabela_taxa.get(\"Reprovado\", 0) / tabela_taxa[\"total\"]) * 100\n",
    "\n",
    "# Ordenar pelas disciplinas mais críticas\n",
    "tabela_taxa = tabela_taxa.sort_values(\"taxa_reprovacao\", ascending=False)\n"
   ]
  },
  {
   "cell_type": "markdown",
   "id": "e617ff36",
   "metadata": {},
   "source": [
    "##### Visualização"
   ]
  },
  {
   "cell_type": "code",
   "execution_count": 188,
   "id": "1f986c30",
   "metadata": {},
   "outputs": [
    {
     "data": {
      "text/html": [
       "<div>\n",
       "<style scoped>\n",
       "    .dataframe tbody tr th:only-of-type {\n",
       "        vertical-align: middle;\n",
       "    }\n",
       "\n",
       "    .dataframe tbody tr th {\n",
       "        vertical-align: top;\n",
       "    }\n",
       "\n",
       "    .dataframe thead th {\n",
       "        text-align: right;\n",
       "    }\n",
       "</style>\n",
       "<table border=\"1\" class=\"dataframe\">\n",
       "  <thead>\n",
       "    <tr style=\"text-align: right;\">\n",
       "      <th>resultado</th>\n",
       "      <th>Nome da Disciplina</th>\n",
       "      <th>Aprovado</th>\n",
       "      <th>Reprovado</th>\n",
       "      <th>Outros</th>\n",
       "      <th>total</th>\n",
       "    </tr>\n",
       "  </thead>\n",
       "  <tbody>\n",
       "    <tr>\n",
       "      <th>5</th>\n",
       "      <td>CALCULO I</td>\n",
       "      <td>278.0</td>\n",
       "      <td>540.0</td>\n",
       "      <td>137.0</td>\n",
       "      <td>955.0</td>\n",
       "    </tr>\n",
       "    <tr>\n",
       "      <th>4</th>\n",
       "      <td>GEOMETRIA ANALITICA E VETORIAL</td>\n",
       "      <td>262.0</td>\n",
       "      <td>508.0</td>\n",
       "      <td>94.0</td>\n",
       "      <td>864.0</td>\n",
       "    </tr>\n",
       "    <tr>\n",
       "      <th>1</th>\n",
       "      <td>PROGRAMACAO I</td>\n",
       "      <td>259.0</td>\n",
       "      <td>458.0</td>\n",
       "      <td>42.0</td>\n",
       "      <td>759.0</td>\n",
       "    </tr>\n",
       "    <tr>\n",
       "      <th>7</th>\n",
       "      <td>ESTRUTURA DE DADOS I</td>\n",
       "      <td>222.0</td>\n",
       "      <td>385.0</td>\n",
       "      <td>132.0</td>\n",
       "      <td>739.0</td>\n",
       "    </tr>\n",
       "    <tr>\n",
       "      <th>2</th>\n",
       "      <td>FUNDAMENTOS DE MATEMATICA</td>\n",
       "      <td>224.0</td>\n",
       "      <td>384.0</td>\n",
       "      <td>41.0</td>\n",
       "      <td>649.0</td>\n",
       "    </tr>\n",
       "    <tr>\n",
       "      <th>11</th>\n",
       "      <td>ESTATISTICA GERAL</td>\n",
       "      <td>243.0</td>\n",
       "      <td>329.0</td>\n",
       "      <td>130.0</td>\n",
       "      <td>702.0</td>\n",
       "    </tr>\n",
       "    <tr>\n",
       "      <th>14</th>\n",
       "      <td>MATEMATICA DISCRETA</td>\n",
       "      <td>276.0</td>\n",
       "      <td>310.0</td>\n",
       "      <td>162.0</td>\n",
       "      <td>748.0</td>\n",
       "    </tr>\n",
       "    <tr>\n",
       "      <th>10</th>\n",
       "      <td>LOGICA MATEMATICA E ELEMENTOS DE LOGICA DIGITAL</td>\n",
       "      <td>268.0</td>\n",
       "      <td>286.0</td>\n",
       "      <td>47.0</td>\n",
       "      <td>601.0</td>\n",
       "    </tr>\n",
       "    <tr>\n",
       "      <th>6</th>\n",
       "      <td>MECANICA</td>\n",
       "      <td>173.0</td>\n",
       "      <td>279.0</td>\n",
       "      <td>44.0</td>\n",
       "      <td>496.0</td>\n",
       "    </tr>\n",
       "    <tr>\n",
       "      <th>9</th>\n",
       "      <td>BANCO DE DADOS</td>\n",
       "      <td>190.0</td>\n",
       "      <td>268.0</td>\n",
       "      <td>95.0</td>\n",
       "      <td>553.0</td>\n",
       "    </tr>\n",
       "  </tbody>\n",
       "</table>\n",
       "</div>"
      ],
      "text/plain": [
       "resultado                               Nome da Disciplina  Aprovado  \\\n",
       "5                                                CALCULO I     278.0   \n",
       "4                           GEOMETRIA ANALITICA E VETORIAL     262.0   \n",
       "1                                            PROGRAMACAO I     259.0   \n",
       "7                                     ESTRUTURA DE DADOS I     222.0   \n",
       "2                                FUNDAMENTOS DE MATEMATICA     224.0   \n",
       "11                                       ESTATISTICA GERAL     243.0   \n",
       "14                                     MATEMATICA DISCRETA     276.0   \n",
       "10         LOGICA MATEMATICA E ELEMENTOS DE LOGICA DIGITAL     268.0   \n",
       "6                                                 MECANICA     173.0   \n",
       "9                                           BANCO DE DADOS     190.0   \n",
       "\n",
       "resultado  Reprovado  Outros  total  \n",
       "5              540.0   137.0  955.0  \n",
       "4              508.0    94.0  864.0  \n",
       "1              458.0    42.0  759.0  \n",
       "7              385.0   132.0  739.0  \n",
       "2              384.0    41.0  649.0  \n",
       "11             329.0   130.0  702.0  \n",
       "14             310.0   162.0  748.0  \n",
       "10             286.0    47.0  601.0  \n",
       "6              279.0    44.0  496.0  \n",
       "9              268.0    95.0  553.0  "
      ]
     },
     "metadata": {},
     "output_type": "display_data"
    }
   ],
   "source": [
    "# Filtra disciplinas com n >= 10 \n",
    "tabela_taxa_filtrada = tabela_taxa[tabela_taxa[\"total\"] >= 10].copy()\n",
    "\n",
    "# Seleciona as 10 disciplinas com maiores números de reprovação\n",
    "top10 = (\n",
    "    tabela_taxa_filtrada\n",
    "    .reset_index()\n",
    "    .nlargest(10, \"Reprovado\")\n",
    ")\n",
    "\n",
    "\n",
    "# Mostra a tabela formatada no Jupyter (sem quebras)\n",
    "from IPython.display import display\n",
    "display(\n",
    "    top10[[\n",
    "        \"Nome da Disciplina\",\n",
    "        \"Aprovado\",\n",
    "        \"Reprovado\",\n",
    "        \"Outros\",\n",
    "        \"total\",\n",
    "    ]]\n",
    ")\n"
   ]
  },
  {
   "cell_type": "code",
   "execution_count": 187,
   "id": "7cd8710b",
   "metadata": {},
   "outputs": [
    {
     "data": {
      "text/html": [
       "<div>\n",
       "<style scoped>\n",
       "    .dataframe tbody tr th:only-of-type {\n",
       "        vertical-align: middle;\n",
       "    }\n",
       "\n",
       "    .dataframe tbody tr th {\n",
       "        vertical-align: top;\n",
       "    }\n",
       "\n",
       "    .dataframe thead th {\n",
       "        text-align: right;\n",
       "    }\n",
       "</style>\n",
       "<table border=\"1\" class=\"dataframe\">\n",
       "  <thead>\n",
       "    <tr style=\"text-align: right;\">\n",
       "      <th>resultado</th>\n",
       "      <th>Nome da Disciplina</th>\n",
       "      <th>Aprovado</th>\n",
       "      <th>Reprovado</th>\n",
       "      <th>Outros</th>\n",
       "      <th>total</th>\n",
       "      <th>taxa_aprovacao</th>\n",
       "      <th>taxa_reprovacao</th>\n",
       "    </tr>\n",
       "  </thead>\n",
       "  <tbody>\n",
       "    <tr>\n",
       "      <th>0</th>\n",
       "      <td>INTRODUCAO A PROBALIDADE E ESTATISTICA</td>\n",
       "      <td>11.0</td>\n",
       "      <td>22.0</td>\n",
       "      <td>0.0</td>\n",
       "      <td>33.0</td>\n",
       "      <td>33.33</td>\n",
       "      <td>66.67</td>\n",
       "    </tr>\n",
       "    <tr>\n",
       "      <th>1</th>\n",
       "      <td>PROGRAMACAO I</td>\n",
       "      <td>259.0</td>\n",
       "      <td>458.0</td>\n",
       "      <td>42.0</td>\n",
       "      <td>759.0</td>\n",
       "      <td>34.12</td>\n",
       "      <td>60.34</td>\n",
       "    </tr>\n",
       "    <tr>\n",
       "      <th>2</th>\n",
       "      <td>FUNDAMENTOS DE MATEMATICA</td>\n",
       "      <td>224.0</td>\n",
       "      <td>384.0</td>\n",
       "      <td>41.0</td>\n",
       "      <td>649.0</td>\n",
       "      <td>34.51</td>\n",
       "      <td>59.17</td>\n",
       "    </tr>\n",
       "    <tr>\n",
       "      <th>3</th>\n",
       "      <td>TRABALHO DE CURSO</td>\n",
       "      <td>85.0</td>\n",
       "      <td>123.0</td>\n",
       "      <td>0.0</td>\n",
       "      <td>208.0</td>\n",
       "      <td>40.87</td>\n",
       "      <td>59.13</td>\n",
       "    </tr>\n",
       "    <tr>\n",
       "      <th>4</th>\n",
       "      <td>GEOMETRIA ANALITICA E VETORIAL</td>\n",
       "      <td>262.0</td>\n",
       "      <td>508.0</td>\n",
       "      <td>94.0</td>\n",
       "      <td>864.0</td>\n",
       "      <td>30.32</td>\n",
       "      <td>58.80</td>\n",
       "    </tr>\n",
       "    <tr>\n",
       "      <th>5</th>\n",
       "      <td>CALCULO I</td>\n",
       "      <td>278.0</td>\n",
       "      <td>540.0</td>\n",
       "      <td>137.0</td>\n",
       "      <td>955.0</td>\n",
       "      <td>29.11</td>\n",
       "      <td>56.54</td>\n",
       "    </tr>\n",
       "    <tr>\n",
       "      <th>6</th>\n",
       "      <td>MECANICA</td>\n",
       "      <td>173.0</td>\n",
       "      <td>279.0</td>\n",
       "      <td>44.0</td>\n",
       "      <td>496.0</td>\n",
       "      <td>34.88</td>\n",
       "      <td>56.25</td>\n",
       "    </tr>\n",
       "    <tr>\n",
       "      <th>7</th>\n",
       "      <td>ESTRUTURA DE DADOS I</td>\n",
       "      <td>222.0</td>\n",
       "      <td>385.0</td>\n",
       "      <td>132.0</td>\n",
       "      <td>739.0</td>\n",
       "      <td>30.04</td>\n",
       "      <td>52.10</td>\n",
       "    </tr>\n",
       "    <tr>\n",
       "      <th>8</th>\n",
       "      <td>PROGRAMACAO II</td>\n",
       "      <td>207.0</td>\n",
       "      <td>251.0</td>\n",
       "      <td>56.0</td>\n",
       "      <td>514.0</td>\n",
       "      <td>40.27</td>\n",
       "      <td>48.83</td>\n",
       "    </tr>\n",
       "    <tr>\n",
       "      <th>9</th>\n",
       "      <td>BANCO DE DADOS</td>\n",
       "      <td>190.0</td>\n",
       "      <td>268.0</td>\n",
       "      <td>95.0</td>\n",
       "      <td>553.0</td>\n",
       "      <td>34.36</td>\n",
       "      <td>48.46</td>\n",
       "    </tr>\n",
       "  </tbody>\n",
       "</table>\n",
       "</div>"
      ],
      "text/plain": [
       "resultado                      Nome da Disciplina  Aprovado  Reprovado  \\\n",
       "0          INTRODUCAO A PROBALIDADE E ESTATISTICA      11.0       22.0   \n",
       "1                                   PROGRAMACAO I     259.0      458.0   \n",
       "2                       FUNDAMENTOS DE MATEMATICA     224.0      384.0   \n",
       "3                               TRABALHO DE CURSO      85.0      123.0   \n",
       "4                  GEOMETRIA ANALITICA E VETORIAL     262.0      508.0   \n",
       "5                                       CALCULO I     278.0      540.0   \n",
       "6                                        MECANICA     173.0      279.0   \n",
       "7                            ESTRUTURA DE DADOS I     222.0      385.0   \n",
       "8                                  PROGRAMACAO II     207.0      251.0   \n",
       "9                                  BANCO DE DADOS     190.0      268.0   \n",
       "\n",
       "resultado  Outros  total  taxa_aprovacao  taxa_reprovacao  \n",
       "0             0.0   33.0           33.33            66.67  \n",
       "1            42.0  759.0           34.12            60.34  \n",
       "2            41.0  649.0           34.51            59.17  \n",
       "3             0.0  208.0           40.87            59.13  \n",
       "4            94.0  864.0           30.32            58.80  \n",
       "5           137.0  955.0           29.11            56.54  \n",
       "6            44.0  496.0           34.88            56.25  \n",
       "7           132.0  739.0           30.04            52.10  \n",
       "8            56.0  514.0           40.27            48.83  \n",
       "9            95.0  553.0           34.36            48.46  "
      ]
     },
     "metadata": {},
     "output_type": "display_data"
    }
   ],
   "source": [
    "# Seleciona as 10 disciplinas com maiores taxas de reprovação\n",
    "top10 = (\n",
    "    tabela_taxa_filtrada\n",
    "    .reset_index()\n",
    "    .nlargest(10, \"taxa_reprovacao\")\n",
    ")\n",
    "\n",
    "# Arredonda as taxas para 2 casas decimais\n",
    "top10[\"taxa_aprovacao\"] = top10[\"taxa_aprovacao\"].round(2)\n",
    "top10[\"taxa_reprovacao\"] = top10[\"taxa_reprovacao\"].round(2)\n",
    "\n",
    "# Mostra a tabela formatada no Jupyter (sem quebras)\n",
    "from IPython.display import display\n",
    "display(\n",
    "    top10[[\n",
    "        \"Nome da Disciplina\",\n",
    "        \"Aprovado\",\n",
    "        \"Reprovado\",\n",
    "        \"Outros\",\n",
    "        \"total\",\n",
    "        \"taxa_aprovacao\",\n",
    "        \"taxa_reprovacao\"\n",
    "    ]]\n",
    ")\n"
   ]
  }
 ],
 "metadata": {
  "kernelspec": {
   "display_name": "venv",
   "language": "python",
   "name": "python3"
  },
  "language_info": {
   "codemirror_mode": {
    "name": "ipython",
    "version": 3
   },
   "file_extension": ".py",
   "mimetype": "text/x-python",
   "name": "python",
   "nbconvert_exporter": "python",
   "pygments_lexer": "ipython3",
   "version": "3.12.6"
  }
 },
 "nbformat": 4,
 "nbformat_minor": 5
}
