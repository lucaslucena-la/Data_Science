{
 "cells": [
  {
   "cell_type": "markdown",
   "id": "ee49a0b2",
   "metadata": {},
   "source": [
    "<div style = \"text-align:center\">\n",
    "\n",
    " # EDA Com pandas\n",
    "</div>\n",
    "\n"
   ]
  },
  {
   "cell_type": "code",
   "execution_count": 2,
   "id": "e94d5519",
   "metadata": {},
   "outputs": [],
   "source": [
    "\n",
    "import pandas as pd\n",
    "import seaborn as sns\n",
    "import matplotlib.pyplot as plt\n",
    "from scipy.stats import skew, kurtosis\n",
    "\n"
   ]
  },
  {
   "cell_type": "markdown",
   "id": "d2d16fc4",
   "metadata": {},
   "source": [
    "### Carregamento do Dataset"
   ]
  },
  {
   "cell_type": "code",
   "execution_count": 3,
   "id": "cad72415",
   "metadata": {},
   "outputs": [
    {
     "name": "stdout",
     "output_type": "stream",
     "text": [
      "Número de linhas e colunas: (11555, 15) \n",
      "\n"
     ]
    },
    {
     "data": {
      "text/html": [
       "<div>\n",
       "<style scoped>\n",
       "    .dataframe tbody tr th:only-of-type {\n",
       "        vertical-align: middle;\n",
       "    }\n",
       "\n",
       "    .dataframe tbody tr th {\n",
       "        vertical-align: top;\n",
       "    }\n",
       "\n",
       "    .dataframe thead th {\n",
       "        text-align: right;\n",
       "    }\n",
       "</style>\n",
       "<table border=\"1\" class=\"dataframe\">\n",
       "  <thead>\n",
       "    <tr style=\"text-align: right;\">\n",
       "      <th></th>\n",
       "      <th>campus</th>\n",
       "      <th>curso</th>\n",
       "      <th>sexo</th>\n",
       "      <th>dataNascimento</th>\n",
       "      <th>estadoCivil</th>\n",
       "      <th>ocorrenciaDescricao</th>\n",
       "      <th>periodo</th>\n",
       "      <th>endereco</th>\n",
       "      <th>municipio</th>\n",
       "      <th>bairro</th>\n",
       "      <th>cep</th>\n",
       "      <th>uf</th>\n",
       "      <th>anoNascimento</th>\n",
       "      <th>anoIngresso</th>\n",
       "      <th>anoEvasao</th>\n",
       "    </tr>\n",
       "  </thead>\n",
       "  <tbody>\n",
       "    <tr>\n",
       "      <th>0</th>\n",
       "      <td>CAMPUS CUIABÁ</td>\n",
       "      <td>ENGENHARIA CIVIL - SERIADO</td>\n",
       "      <td>M</td>\n",
       "      <td>1987-04-23 00:00:00.000</td>\n",
       "      <td>Solteiro(a)</td>\n",
       "      <td>EXCLUSAO POR DESISTENCIA</td>\n",
       "      <td>20201</td>\n",
       "      <td>RUA CURSINO DO AMARANTE 1022</td>\n",
       "      <td>CUIABA</td>\n",
       "      <td>QUILOMBO</td>\n",
       "      <td>78045070</td>\n",
       "      <td>MT</td>\n",
       "      <td>1987.0</td>\n",
       "      <td>2008.0</td>\n",
       "      <td>2020</td>\n",
       "    </tr>\n",
       "    <tr>\n",
       "      <th>1</th>\n",
       "      <td>CAMPUS CUIABÁ</td>\n",
       "      <td>BACHARELADO EM CIÊNCIAS SOCIAIS</td>\n",
       "      <td>M</td>\n",
       "      <td>1992-04-16 00:00:00.000</td>\n",
       "      <td>Solteiro(a)</td>\n",
       "      <td>EXCLUSAO POR DESISTENCIA</td>\n",
       "      <td>20201</td>\n",
       "      <td>Rua A, n250</td>\n",
       "      <td>CUIABA</td>\n",
       "      <td>Bairro Residencial Paiaguas</td>\n",
       "      <td>78048258</td>\n",
       "      <td>MT</td>\n",
       "      <td>1992.0</td>\n",
       "      <td>2010.0</td>\n",
       "      <td>2020</td>\n",
       "    </tr>\n",
       "    <tr>\n",
       "      <th>2</th>\n",
       "      <td>CAMPUS CUIABÁ</td>\n",
       "      <td>ENGENHARIA SANITARIA E AMBIENTAL - SERIADO  SEM</td>\n",
       "      <td>F</td>\n",
       "      <td>1990-10-10 00:00:00.000</td>\n",
       "      <td>Solteiro(a)</td>\n",
       "      <td>EXCLUSAO POR DESISTENCIA</td>\n",
       "      <td>20201</td>\n",
       "      <td>RUA AMÂNCIO PEDROSO DE JESUS                  ...</td>\n",
       "      <td>CUIABA</td>\n",
       "      <td>CARUMBÉ</td>\n",
       "      <td>78050660</td>\n",
       "      <td>MT</td>\n",
       "      <td>1990.0</td>\n",
       "      <td>2009.0</td>\n",
       "      <td>2020</td>\n",
       "    </tr>\n",
       "    <tr>\n",
       "      <th>3</th>\n",
       "      <td>CAMPUS CUIABÁ</td>\n",
       "      <td>GEOLOGIA - SERIADO</td>\n",
       "      <td>M</td>\n",
       "      <td>1982-09-30 00:00:00.000</td>\n",
       "      <td>Solteiro(a)</td>\n",
       "      <td>EXCLUSAO POR DESISTENCIA</td>\n",
       "      <td>20201</td>\n",
       "      <td>TRAVESSA AGUA CLARA - 119</td>\n",
       "      <td>AQUIDAUANA</td>\n",
       "      <td>COHAB NOVA</td>\n",
       "      <td>78025433</td>\n",
       "      <td>MS</td>\n",
       "      <td>1982.0</td>\n",
       "      <td>2010.0</td>\n",
       "      <td>2020</td>\n",
       "    </tr>\n",
       "    <tr>\n",
       "      <th>4</th>\n",
       "      <td>CAMPUS CUIABÁ</td>\n",
       "      <td>DIREITO - SERIADO MATUTINO</td>\n",
       "      <td>F</td>\n",
       "      <td>1992-01-10 00:00:00.000</td>\n",
       "      <td>Solteiro(a)</td>\n",
       "      <td>EXCLUSAO POR DESISTENCIA</td>\n",
       "      <td>20201</td>\n",
       "      <td>RUA I, N 91, CS 03, RES GOLDEN VILLE</td>\n",
       "      <td>CUIABA</td>\n",
       "      <td>ALVORADA</td>\n",
       "      <td>78048487</td>\n",
       "      <td>MT</td>\n",
       "      <td>1992.0</td>\n",
       "      <td>2010.0</td>\n",
       "      <td>2020</td>\n",
       "    </tr>\n",
       "    <tr>\n",
       "      <th>...</th>\n",
       "      <td>...</td>\n",
       "      <td>...</td>\n",
       "      <td>...</td>\n",
       "      <td>...</td>\n",
       "      <td>...</td>\n",
       "      <td>...</td>\n",
       "      <td>...</td>\n",
       "      <td>...</td>\n",
       "      <td>...</td>\n",
       "      <td>...</td>\n",
       "      <td>...</td>\n",
       "      <td>...</td>\n",
       "      <td>...</td>\n",
       "      <td>...</td>\n",
       "      <td>...</td>\n",
       "    </tr>\n",
       "    <tr>\n",
       "      <th>11550</th>\n",
       "      <td>CAMPUS SINOP</td>\n",
       "      <td>MEDICINA VETERINÁRIA - BACHARELADO</td>\n",
       "      <td>F</td>\n",
       "      <td>2005-09-30 00:00:00.000</td>\n",
       "      <td>Solteiro(a)</td>\n",
       "      <td>EXCLUSAO CONFORME EDITAL SISU - PELA INSTITUIÇÃO</td>\n",
       "      <td>20241</td>\n",
       "      <td>Avenida Curuá-Una, 7055</td>\n",
       "      <td>SANTAREM</td>\n",
       "      <td>Jutaí</td>\n",
       "      <td>68045000</td>\n",
       "      <td>PA</td>\n",
       "      <td>2005.0</td>\n",
       "      <td>2024.0</td>\n",
       "      <td>2024</td>\n",
       "    </tr>\n",
       "    <tr>\n",
       "      <th>11551</th>\n",
       "      <td>CAMPUS SINOP</td>\n",
       "      <td>ZOOTECNIA - BACHARELADO</td>\n",
       "      <td>F</td>\n",
       "      <td>2002-05-15 00:00:00.000</td>\n",
       "      <td>Solteiro(a)</td>\n",
       "      <td>EXCLUSAO POR DESISTENCIA</td>\n",
       "      <td>20241</td>\n",
       "      <td>Rua Vinte e Quatro, 174</td>\n",
       "      <td>BETIM</td>\n",
       "      <td>Capelinha</td>\n",
       "      <td>32678270</td>\n",
       "      <td>MG</td>\n",
       "      <td>2002.0</td>\n",
       "      <td>2024.0</td>\n",
       "      <td>2024</td>\n",
       "    </tr>\n",
       "    <tr>\n",
       "      <th>11552</th>\n",
       "      <td>CAMPUS SINOP</td>\n",
       "      <td>ENGENHARIA AGRÍCOLA E AMBIENTAL  BACHARELADO</td>\n",
       "      <td>F</td>\n",
       "      <td>2003-03-28 00:00:00.000</td>\n",
       "      <td>Solteiro(a)</td>\n",
       "      <td>EXCLUSAO CONFORME EDITAL SISU - PELA INSTITUIÇÃO</td>\n",
       "      <td>20241</td>\n",
       "      <td>Rua G-1, 367</td>\n",
       "      <td>CUIABA</td>\n",
       "      <td>Residencial Nova Canaã</td>\n",
       "      <td>78052860</td>\n",
       "      <td>MT</td>\n",
       "      <td>2003.0</td>\n",
       "      <td>2024.0</td>\n",
       "      <td>2024</td>\n",
       "    </tr>\n",
       "    <tr>\n",
       "      <th>11553</th>\n",
       "      <td>CAMPUS SINOP</td>\n",
       "      <td>QUÍMICA - BACHARELADO</td>\n",
       "      <td>M</td>\n",
       "      <td>1980-11-01 00:00:00.000</td>\n",
       "      <td>Solteiro(a)</td>\n",
       "      <td>EXCLUSAO CONFORME EDITAL SISU - PELA INSTITUIÇÃO</td>\n",
       "      <td>20241</td>\n",
       "      <td>Rua Ary Barroso, 218</td>\n",
       "      <td>SINOP</td>\n",
       "      <td>Aquarela Brasil Residencial</td>\n",
       "      <td>78556554</td>\n",
       "      <td>MT</td>\n",
       "      <td>1980.0</td>\n",
       "      <td>2024.0</td>\n",
       "      <td>2024</td>\n",
       "    </tr>\n",
       "    <tr>\n",
       "      <th>11554</th>\n",
       "      <td>CAMPUS VÁRZEA GRANDE</td>\n",
       "      <td>ENGENHARIA DE TRANSPORTES</td>\n",
       "      <td>M</td>\n",
       "      <td>2005-10-12 00:00:00.000</td>\n",
       "      <td>Solteiro(a)</td>\n",
       "      <td>EXCLUSAO CONFORME EDITAL SISU - PELA INSTITUIÇÃO</td>\n",
       "      <td>20241</td>\n",
       "      <td>Rua das Aroeiras, 31</td>\n",
       "      <td>CUIABA</td>\n",
       "      <td>Novo Mundo</td>\n",
       "      <td>78149496</td>\n",
       "      <td>MT</td>\n",
       "      <td>2005.0</td>\n",
       "      <td>2024.0</td>\n",
       "      <td>2024</td>\n",
       "    </tr>\n",
       "  </tbody>\n",
       "</table>\n",
       "<p>11555 rows × 15 columns</p>\n",
       "</div>"
      ],
      "text/plain": [
       "                     campus                                            curso  \\\n",
       "0             CAMPUS CUIABÁ                       ENGENHARIA CIVIL - SERIADO   \n",
       "1             CAMPUS CUIABÁ                  BACHARELADO EM CIÊNCIAS SOCIAIS   \n",
       "2             CAMPUS CUIABÁ  ENGENHARIA SANITARIA E AMBIENTAL - SERIADO  SEM   \n",
       "3             CAMPUS CUIABÁ                               GEOLOGIA - SERIADO   \n",
       "4             CAMPUS CUIABÁ                       DIREITO - SERIADO MATUTINO   \n",
       "...                     ...                                              ...   \n",
       "11550          CAMPUS SINOP               MEDICINA VETERINÁRIA - BACHARELADO   \n",
       "11551          CAMPUS SINOP                          ZOOTECNIA - BACHARELADO   \n",
       "11552          CAMPUS SINOP     ENGENHARIA AGRÍCOLA E AMBIENTAL  BACHARELADO   \n",
       "11553          CAMPUS SINOP                            QUÍMICA - BACHARELADO   \n",
       "11554  CAMPUS VÁRZEA GRANDE                        ENGENHARIA DE TRANSPORTES   \n",
       "\n",
       "      sexo           dataNascimento  estadoCivil  \\\n",
       "0        M  1987-04-23 00:00:00.000  Solteiro(a)   \n",
       "1        M  1992-04-16 00:00:00.000  Solteiro(a)   \n",
       "2        F  1990-10-10 00:00:00.000  Solteiro(a)   \n",
       "3        M  1982-09-30 00:00:00.000  Solteiro(a)   \n",
       "4        F  1992-01-10 00:00:00.000  Solteiro(a)   \n",
       "...    ...                      ...          ...   \n",
       "11550    F  2005-09-30 00:00:00.000  Solteiro(a)   \n",
       "11551    F  2002-05-15 00:00:00.000  Solteiro(a)   \n",
       "11552    F  2003-03-28 00:00:00.000  Solteiro(a)   \n",
       "11553    M  1980-11-01 00:00:00.000  Solteiro(a)   \n",
       "11554    M  2005-10-12 00:00:00.000  Solteiro(a)   \n",
       "\n",
       "                                    ocorrenciaDescricao  periodo  \\\n",
       "0                              EXCLUSAO POR DESISTENCIA    20201   \n",
       "1                              EXCLUSAO POR DESISTENCIA    20201   \n",
       "2                              EXCLUSAO POR DESISTENCIA    20201   \n",
       "3                              EXCLUSAO POR DESISTENCIA    20201   \n",
       "4                              EXCLUSAO POR DESISTENCIA    20201   \n",
       "...                                                 ...      ...   \n",
       "11550  EXCLUSAO CONFORME EDITAL SISU - PELA INSTITUIÇÃO    20241   \n",
       "11551                          EXCLUSAO POR DESISTENCIA    20241   \n",
       "11552  EXCLUSAO CONFORME EDITAL SISU - PELA INSTITUIÇÃO    20241   \n",
       "11553  EXCLUSAO CONFORME EDITAL SISU - PELA INSTITUIÇÃO    20241   \n",
       "11554  EXCLUSAO CONFORME EDITAL SISU - PELA INSTITUIÇÃO    20241   \n",
       "\n",
       "                                                endereco   municipio  \\\n",
       "0                           RUA CURSINO DO AMARANTE 1022      CUIABA   \n",
       "1                                            Rua A, n250      CUIABA   \n",
       "2      RUA AMÂNCIO PEDROSO DE JESUS                  ...      CUIABA   \n",
       "3                              TRAVESSA AGUA CLARA - 119  AQUIDAUANA   \n",
       "4                   RUA I, N 91, CS 03, RES GOLDEN VILLE      CUIABA   \n",
       "...                                                  ...         ...   \n",
       "11550                            Avenida Curuá-Una, 7055    SANTAREM   \n",
       "11551                            Rua Vinte e Quatro, 174       BETIM   \n",
       "11552                                       Rua G-1, 367      CUIABA   \n",
       "11553                               Rua Ary Barroso, 218       SINOP   \n",
       "11554                               Rua das Aroeiras, 31      CUIABA   \n",
       "\n",
       "                            bairro       cep  uf  anoNascimento  anoIngresso  \\\n",
       "0                         QUILOMBO  78045070  MT         1987.0       2008.0   \n",
       "1      Bairro Residencial Paiaguas  78048258  MT         1992.0       2010.0   \n",
       "2                          CARUMBÉ  78050660  MT         1990.0       2009.0   \n",
       "3                       COHAB NOVA  78025433  MS         1982.0       2010.0   \n",
       "4                         ALVORADA  78048487  MT         1992.0       2010.0   \n",
       "...                            ...       ...  ..            ...          ...   \n",
       "11550                        Jutaí  68045000  PA         2005.0       2024.0   \n",
       "11551                    Capelinha  32678270  MG         2002.0       2024.0   \n",
       "11552       Residencial Nova Canaã  78052860  MT         2003.0       2024.0   \n",
       "11553  Aquarela Brasil Residencial  78556554  MT         1980.0       2024.0   \n",
       "11554                   Novo Mundo  78149496  MT         2005.0       2024.0   \n",
       "\n",
       "       anoEvasao  \n",
       "0           2020  \n",
       "1           2020  \n",
       "2           2020  \n",
       "3           2020  \n",
       "4           2020  \n",
       "...          ...  \n",
       "11550       2024  \n",
       "11551       2024  \n",
       "11552       2024  \n",
       "11553       2024  \n",
       "11554       2024  \n",
       "\n",
       "[11555 rows x 15 columns]"
      ]
     },
     "execution_count": 3,
     "metadata": {},
     "output_type": "execute_result"
    }
   ],
   "source": [
    "# Carregar o dataset\n",
    "df = pd.read_csv(\"evasao.csv\")\n",
    "\n",
    "# Verificar o número de linhas e colunas\n",
    "print(\"Número de linhas e colunas:\", df.shape , \"\\n\")\n",
    "\n",
    "pd.DataFrame(df)"
   ]
  },
  {
   "cell_type": "markdown",
   "id": "a04cc0b3",
   "metadata": {},
   "source": [
    "### Informações gerais sobre o dataset\n"
   ]
  },
  {
   "cell_type": "code",
   "execution_count": 4,
   "id": "797931ba",
   "metadata": {},
   "outputs": [
    {
     "name": "stdout",
     "output_type": "stream",
     "text": [
      "<class 'pandas.core.frame.DataFrame'>\n",
      "RangeIndex: 11555 entries, 0 to 11554\n",
      "Data columns (total 15 columns):\n",
      " #   Column               Non-Null Count  Dtype  \n",
      "---  ------               --------------  -----  \n",
      " 0   campus               11555 non-null  object \n",
      " 1   curso                11555 non-null  object \n",
      " 2   sexo                 11555 non-null  object \n",
      " 3   dataNascimento       11554 non-null  object \n",
      " 4   estadoCivil          11555 non-null  object \n",
      " 5   ocorrenciaDescricao  11555 non-null  object \n",
      " 6   periodo              11555 non-null  int64  \n",
      " 7   endereco             11555 non-null  object \n",
      " 8   municipio            11550 non-null  object \n",
      " 9   bairro               11555 non-null  object \n",
      " 10  cep                  11519 non-null  object \n",
      " 11  uf                   11550 non-null  object \n",
      " 12  anoNascimento        11554 non-null  float64\n",
      " 13  anoIngresso          11552 non-null  float64\n",
      " 14  anoEvasao            11555 non-null  int64  \n",
      "dtypes: float64(2), int64(2), object(11)\n",
      "memory usage: 1.3+ MB\n"
     ]
    }
   ],
   "source": [
    "df.info()"
   ]
  },
  {
   "cell_type": "code",
   "execution_count": 5,
   "id": "cd5130b6",
   "metadata": {},
   "outputs": [
    {
     "data": {
      "text/plain": [
       "campus                     4\n",
       "curso                    148\n",
       "sexo                       2\n",
       "dataNascimento          6065\n",
       "estadoCivil                3\n",
       "ocorrenciaDescricao       19\n",
       "periodo                    9\n",
       "endereco               10887\n",
       "municipio                632\n",
       "bairro                  3729\n",
       "cep                     5168\n",
       "uf                        27\n",
       "anoNascimento             65\n",
       "anoIngresso               24\n",
       "anoEvasao                  5\n",
       "dtype: int64"
      ]
     },
     "execution_count": 5,
     "metadata": {},
     "output_type": "execute_result"
    }
   ],
   "source": [
    "#Verifica a quantidade de valores únicos por coluna \n",
    "df.nunique()"
   ]
  },
  {
   "cell_type": "markdown",
   "id": "64219c33",
   "metadata": {},
   "source": [
    "<div style = 'color: red;'> \n",
    "\n",
    "#### Observação: \n",
    "\n",
    "</div>\n",
    "Para este dataset, as variáveis numéricas úteis são:anoNascimento, anoIngresso, anoEvasao. Logo irei criar a idade dos alunos no ano de ingresso e no ano de evasão\n",
    "\n",
    "\n"
   ]
  },
  {
   "cell_type": "markdown",
   "id": "15c47ba1",
   "metadata": {},
   "source": [
    "#### Conversão de colunas de data e criação de variáveis úteis"
   ]
  },
  {
   "cell_type": "code",
   "execution_count": null,
   "id": "e00322e3",
   "metadata": {},
   "outputs": [],
   "source": [
    "# Convertendo data de nascimento para datetime\n",
    "df['dataNascimento'] = pd.to_datetime(df['dataNascimento'], errors='coerce')"
   ]
  },
  {
   "cell_type": "code",
   "execution_count": null,
   "id": "3dfb0dff",
   "metadata": {},
   "outputs": [],
   "source": [
    "#idade do aluno no ano de evasão \n",
    "df['idade_evasao'] = df['anoEvasao'] - df['dataNascimento'].dt.year\n"
   ]
  },
  {
   "cell_type": "code",
   "execution_count": 21,
   "id": "21a1decb",
   "metadata": {},
   "outputs": [],
   "source": [
    "# Cálculo da idade no ano de ingresso\n",
    "df['idade_ingresso'] = df['anoIngresso'] - df['dataNascimento'].dt.year"
   ]
  },
  {
   "cell_type": "markdown",
   "id": "2c14b77d",
   "metadata": {},
   "source": [
    "### Medidas de tendência central (idade)"
   ]
  },
  {
   "cell_type": "markdown",
   "id": "64cce3a2",
   "metadata": {},
   "source": [
    "#### Idade no Ingresso"
   ]
  },
  {
   "cell_type": "code",
   "execution_count": 22,
   "id": "0a25242c",
   "metadata": {},
   "outputs": [
    {
     "name": "stdout",
     "output_type": "stream",
     "text": [
      "\n",
      "Medidas de Tendência Central - Idade no Ingresso:\n",
      "\n",
      "Média: 23.466279975759676\n",
      "Mediana: 20.0\n",
      "Moda: 19.0\n"
     ]
    }
   ],
   "source": [
    "print(\"\\nMedidas de Tendência Central - Idade no Ingresso:\\n\")\n",
    "print(\"Média:\", df['idade_ingresso'].mean())\n",
    "print(\"Mediana:\", df['idade_ingresso'].median())\n",
    "print(\"Moda:\", df['idade_ingresso'].mode()[0])\n"
   ]
  },
  {
   "cell_type": "markdown",
   "id": "c11bb4d1",
   "metadata": {},
   "source": [
    "#### Idade na evasão"
   ]
  },
  {
   "cell_type": "code",
   "execution_count": null,
   "id": "e286ad9f",
   "metadata": {},
   "outputs": [
    {
     "name": "stdout",
     "output_type": "stream",
     "text": [
      "\n",
      "Medidas de Tendência Central - Idade na Evasão:\n",
      "\n",
      "Média: 27.40643932837113\n",
      "Mediana: 25.0\n",
      "Moda: 20.0\n"
     ]
    }
   ],
   "source": [
    "print(\"\\nMedidas de Tendência Central - Idade na Evasão:\\n\")\n",
    "print(\"Média:\", df['idade_evasao'].mean())\n",
    "print(\"Mediana:\", df['idade_evasao'].median())\n",
    "print(\"Moda:\", df['idade_evasao'].mode()[0])\n"
   ]
  },
  {
   "cell_type": "markdown",
   "id": "a169509c",
   "metadata": {},
   "source": [
    "### Medidas de dispersão (idade)"
   ]
  },
  {
   "cell_type": "markdown",
   "id": "40a2e577",
   "metadata": {},
   "source": [
    "#### Idade no Ingresso"
   ]
  },
  {
   "cell_type": "code",
   "execution_count": 23,
   "id": "ffb2d9e9",
   "metadata": {},
   "outputs": [
    {
     "name": "stdout",
     "output_type": "stream",
     "text": [
      "\n",
      "Medidas de Dispersão - Idade no Ingresso:\n",
      "\n",
      "Desvio padrão: 7.680021960931796\n",
      "Variância: 58.98273732039467\n",
      "Amplitude: 72.0\n"
     ]
    }
   ],
   "source": [
    "print(\"\\nMedidas de Dispersão - Idade no Ingresso:\\n\")\n",
    "print(\"Desvio padrão:\", df['idade_ingresso'].std())\n",
    "print(\"Variância:\", df['idade_ingresso'].var())\n",
    "print(\"Amplitude:\", df['idade_ingresso'].max() - df['idade_ingresso'].min())\n"
   ]
  },
  {
   "cell_type": "markdown",
   "id": "0b0ffb62",
   "metadata": {},
   "source": [
    "#### Idade na evasão"
   ]
  },
  {
   "cell_type": "code",
   "execution_count": null,
   "id": "37442540",
   "metadata": {},
   "outputs": [
    {
     "name": "stdout",
     "output_type": "stream",
     "text": [
      "Desvio padrão: 8.654356895057399\n",
      "Variância: 74.89789326702754\n",
      "Amplitude: 79.0\n"
     ]
    }
   ],
   "source": [
    "print(\"Desvio padrão:\", df['idade_evasao'].std())\n",
    "print(\"Variância:\", df['idade_evasao'].var())\n",
    "print(\"Amplitude:\", df['idade_evasao'].max() - df['idade_evasao'].min())"
   ]
  },
  {
   "cell_type": "markdown",
   "id": "abe558ac",
   "metadata": {},
   "source": [
    "### Medidas de forma (idade)"
   ]
  },
  {
   "cell_type": "markdown",
   "id": "cc571044",
   "metadata": {},
   "source": [
    "#### Assimetria"
   ]
  },
  {
   "cell_type": "markdown",
   "id": "29aac162",
   "metadata": {},
   "source": [
    "##### Idade no Ingresso"
   ]
  },
  {
   "cell_type": "code",
   "execution_count": null,
   "id": "a03c1e02",
   "metadata": {},
   "outputs": [
    {
     "name": "stdout",
     "output_type": "stream",
     "text": [
      "Assimetria (Skewness): 2.1238382287664317\n"
     ]
    }
   ],
   "source": [
    "print(\"Assimetria (Skewness):\", skew(df['idade_ingresso'].dropna()))"
   ]
  },
  {
   "cell_type": "markdown",
   "id": "70ec014e",
   "metadata": {},
   "source": [
    "##### Idade na evasão"
   ]
  },
  {
   "cell_type": "code",
   "execution_count": null,
   "id": "a76328fc",
   "metadata": {},
   "outputs": [
    {
     "name": "stdout",
     "output_type": "stream",
     "text": [
      "Assimetria (Skewness): 1.5907306499442602\n"
     ]
    }
   ],
   "source": [
    "print(\"Assimetria (Skewness):\", skew(df['idade_evasao'].dropna()))"
   ]
  },
  {
   "cell_type": "markdown",
   "id": "b3bd02af",
   "metadata": {},
   "source": [
    "#### Curtose"
   ]
  },
  {
   "cell_type": "markdown",
   "id": "ae93fc9a",
   "metadata": {},
   "source": [
    "##### Idade no Ingresso"
   ]
  },
  {
   "cell_type": "code",
   "execution_count": null,
   "id": "3296ec25",
   "metadata": {},
   "outputs": [],
   "source": [
    "print(\"Curtose (Kurtosis):\", kurtosis(df['idade_ingresso'].dropna()))"
   ]
  },
  {
   "cell_type": "markdown",
   "id": "4e73fb48",
   "metadata": {},
   "source": [
    "##### Idade na Evasão"
   ]
  },
  {
   "cell_type": "code",
   "execution_count": 13,
   "id": "4f4192fe",
   "metadata": {},
   "outputs": [
    {
     "name": "stdout",
     "output_type": "stream",
     "text": [
      "Curtose (Kurtosis): 2.950641791152405\n"
     ]
    }
   ],
   "source": [
    "print(\"Curtose (Kurtosis):\", kurtosis(df['idade_evasao'].dropna()))"
   ]
  },
  {
   "cell_type": "markdown",
   "id": "7d2ac1de",
   "metadata": {},
   "source": [
    "### Quartis, IQR e detecção de outliers"
   ]
  },
  {
   "cell_type": "markdown",
   "id": "7dc6bd22",
   "metadata": {},
   "source": [
    "### Idade no Ingresso"
   ]
  },
  {
   "cell_type": "code",
   "execution_count": 25,
   "id": "0b8b3ddc",
   "metadata": {},
   "outputs": [
    {
     "name": "stdout",
     "output_type": "stream",
     "text": [
      "\n",
      "Quartis:\n",
      "Q1: 19.0\n",
      "Q3: 25.0\n",
      "IQR: 6.0\n",
      "Outliers encontrados: 1162\n"
     ]
    }
   ],
   "source": [
    "# Cálculo dos quartis e IQR\n",
    "Q1 = df['idade_ingresso'].quantile(0.25)\n",
    "Q3 = df['idade_ingresso'].quantile(0.75)\n",
    "IQR = Q3 - Q1\n",
    "\n",
    "# Limites para definir outliers\n",
    "limite_inferior = Q1 - 1.5 * IQR\n",
    "limite_superior = Q3 + 1.5 * IQR\n",
    "\n",
    "# Filtrando outliers\n",
    "outliers = df[(df['idade_ingresso'] < limite_inferior) | (df['idade_ingresso'] > limite_superior)]\n",
    "\n",
    "# Resultado\n",
    "print(\"\\nQuartis:\")\n",
    "print(\"Q1:\", Q1)\n",
    "print(\"Q3:\", Q3)\n",
    "print(\"IQR:\", IQR)\n",
    "print(f\"Outliers encontrados: {len(outliers)}\")\n"
   ]
  },
  {
   "cell_type": "markdown",
   "id": "5098a442",
   "metadata": {},
   "source": [
    "### Idade na Evasão"
   ]
  },
  {
   "cell_type": "code",
   "execution_count": 16,
   "id": "62f0bbc6",
   "metadata": {},
   "outputs": [
    {
     "name": "stdout",
     "output_type": "stream",
     "text": [
      "\n",
      "Quartis:\n",
      "Q1: 21.0\n",
      "Q3: 31.0\n",
      "IQR: 10.0\n",
      "Outliers encontrados: 520\n"
     ]
    }
   ],
   "source": [
    "Q1 = df['idade_evasao'].quantile(0.25)\n",
    "Q3 = df['idade_evasao'].quantile(0.75)\n",
    "IQR = Q3 - Q1\n",
    "\n",
    "limite_inferior = Q1 - 1.5 * IQR\n",
    "limite_superior = Q3 + 1.5 * IQR\n",
    "\n",
    "outliers = df[(df['idade_evasao'] < limite_inferior) | (df['idade_evasao'] > limite_superior)]\n",
    "print(\"\\nQuartis:\")\n",
    "print(\"Q1:\", Q1)\n",
    "print(\"Q3:\", Q3)\n",
    "print(\"IQR:\", IQR)\n",
    "print(f'Outliers encontrados: {len(outliers)}')\n"
   ]
  },
  {
   "cell_type": "markdown",
   "id": "c611df15",
   "metadata": {},
   "source": [
    "### Visualizações"
   ]
  },
  {
   "cell_type": "markdown",
   "id": "c7249c01",
   "metadata": {},
   "source": [
    "#### Histograma da idade no ingresso"
   ]
  },
  {
   "cell_type": "code",
   "execution_count": 26,
   "id": "264c082c",
   "metadata": {},
   "outputs": [
    {
     "data": {
      "image/png": "[encoded data removed]",
      "text/plain": [
       "<Figure size 640x480 with 1 Axes>"
      ]
     },
     "metadata": {},
     "output_type": "display_data"
    }
   ],
   "source": [
    "df['idade_ingresso'].hist(bins=30)\n",
    "plt.title('Distribuição de Idade na Evasão')\n",
    "plt.xlabel('Idade')\n",
    "plt.ylabel('Frequência')\n",
    "plt.grid(True)\n",
    "plt.show()\n"
   ]
  },
  {
   "cell_type": "markdown",
   "id": "b526ade3",
   "metadata": {},
   "source": [
    "#### Histograma da idade na evasão"
   ]
  },
  {
   "cell_type": "code",
   "execution_count": 17,
   "id": "784dfb55",
   "metadata": {},
   "outputs": [
    {
     "data": {
      "image/png": "[encoded data removed]",
      "text/plain": [
       "<Figure size 640x480 with 1 Axes>"
      ]
     },
     "metadata": {},
     "output_type": "display_data"
    }
   ],
   "source": [
    "df['idade_evasao'].hist(bins=30)\n",
    "plt.title('Distribuição de Idade na Evasão')\n",
    "plt.xlabel('Idade')\n",
    "plt.ylabel('Frequência')\n",
    "plt.grid(True)\n",
    "plt.show()\n"
   ]
  },
  {
   "cell_type": "markdown",
   "id": "9a40fff1",
   "metadata": {},
   "source": [
    "#### Boxplot da idade no Ingresso"
   ]
  },
  {
   "cell_type": "code",
   "execution_count": 27,
   "id": "64ca7281",
   "metadata": {},
   "outputs": [
    {
     "data": {
      "image/png": "[encoded data removed]",
      "text/plain": [
       "<Figure size 800x400 with 1 Axes>"
      ]
     },
     "metadata": {},
     "output_type": "display_data"
    }
   ],
   "source": [
    "plt.figure(figsize=(8, 4))\n",
    "sns.boxplot(x=df['idade_ingresso'])\n",
    "plt.title(\"Boxplot - Idade no Ingresso\")\n",
    "plt.xlabel(\"Idade\")\n",
    "plt.grid(True)\n",
    "plt.show()"
   ]
  },
  {
   "cell_type": "markdown",
   "id": "40bc5cfb",
   "metadata": {},
   "source": [
    "#### Boxplot da idade na Evasão"
   ]
  },
  {
   "cell_type": "code",
   "execution_count": 28,
   "id": "8117e023",
   "metadata": {},
   "outputs": [
    {
     "data": {
      "image/png": "[encoded data removed]",
      "text/plain": [
       "<Figure size 800x400 with 1 Axes>"
      ]
     },
     "metadata": {},
     "output_type": "display_data"
    }
   ],
   "source": [
    "plt.figure(figsize=(8, 4))\n",
    "sns.boxplot(x=df['idade_evasao'])\n",
    "plt.title(\"Boxplot - Idade no evasão\")\n",
    "plt.xlabel(\"Idade\")\n",
    "plt.grid(True)\n",
    "plt.show()"
   ]
  },
  {
   "cell_type": "markdown",
   "id": "8985899b",
   "metadata": {},
   "source": [
    "<div style = \"text-align:center\">\n",
    "\n",
    "# Análises Descritivas (panorama geral dos dados)\n",
    "</div>\n",
    "\n"
   ]
  },
  {
   "cell_type": "markdown",
   "id": "31e106e5",
   "metadata": {},
   "source": [
    "## Taxa de evasão por curso e campus"
   ]
  },
  {
   "cell_type": "markdown",
   "id": "28b52512",
   "metadata": {},
   "source": [
    "#### Quantidade e percentual de alunos evadidos por curso."
   ]
  },
  {
   "cell_type": "code",
   "execution_count": 1,
   "id": "b71e7674",
   "metadata": {},
   "outputs": [
    {
     "ename": "NameError",
     "evalue": "name 'df' is not defined",
     "output_type": "error",
     "traceback": [
      "\u001b[31m---------------------------------------------------------------------------\u001b[39m",
      "\u001b[31mNameError\u001b[39m                                 Traceback (most recent call last)",
      "\u001b[36mCell\u001b[39m\u001b[36m \u001b[39m\u001b[32mIn[1]\u001b[39m\u001b[32m, line 2\u001b[39m\n\u001b[32m      1\u001b[39m \u001b[38;5;66;03m# Quantidade absoluta\u001b[39;00m\n\u001b[32m----> \u001b[39m\u001b[32m2\u001b[39m evasao_por_curso= \u001b[43mdf\u001b[49m[\u001b[33m'\u001b[39m\u001b[33mcurso\u001b[39m\u001b[33m'\u001b[39m].value_counts().sort_values(ascending=\u001b[38;5;28;01mFalse\u001b[39;00m)\n\u001b[32m      4\u001b[39m \u001b[38;5;28mprint\u001b[39m(\u001b[33m\"\u001b[39m\u001b[33mTop 10 cursos com mais evasões:\u001b[39m\u001b[33m\"\u001b[39m)\n\u001b[32m      5\u001b[39m \u001b[38;5;28mprint\u001b[39m(evasao_por_curso.head())\n",
      "\u001b[31mNameError\u001b[39m: name 'df' is not defined"
     ]
    }
   ],
   "source": [
    "# Quantidade absoluta\n",
    "evasao_por_curso= df['curso'].value_counts().sort_values(ascending=False)\n",
    "\n",
    "print(\"Top 10 cursos com mais evasões:\")\n",
    "print(evasao_por_curso.head())"
   ]
  },
  {
   "cell_type": "markdown",
   "id": "d87af224",
   "metadata": {},
   "source": [
    "#### Percentual de evasões por curso"
   ]
  },
  {
   "cell_type": "code",
   "execution_count": 37,
   "id": "be5bd715",
   "metadata": {},
   "outputs": [
    {
     "name": "stdout",
     "output_type": "stream",
     "text": [
      "\n",
      "Top 10 cursos com maior percentual de evasão:\n",
      "curso\n",
      "PSICOLOGIA                                     3.95\n",
      "ENGENHARIA ELÉTRICA                            3.83\n",
      "ZOOTECNIA - BACHARELADO                        3.59\n",
      "ENGENHARIA FLORESTAL - BACHARELADO             3.28\n",
      "AGRONOMIA - BACHARELADO                        3.07\n",
      "ESTATÍSTICA                                    2.75\n",
      "NUTRIÇÃO - BACHARELADO                         2.72\n",
      "ENGENHARIA CIVIL - SERIADO                     2.61\n",
      "ARQUITETURA E URBANISMO - SERIADO SEMESTRAL    2.35\n",
      "MEDICINA - BACHARELADO                         2.21\n",
      "Name: proportion, dtype: float64\n"
     ]
    }
   ],
   "source": [
    "# Calculando o percentual de evasão por curso   \n",
    "percentual_evasao_curso = df['curso'].value_counts(normalize=True).sort_values(ascending=False) * 100\n",
    "\n",
    "print(\"\\nTop 10 cursos com maior percentual de evasão:\")\n",
    "print(percentual_evasao_curso.head(10).round(2))"
   ]
  },
  {
   "cell_type": "markdown",
   "id": "278d22d2",
   "metadata": {},
   "source": [
    "#### Visualização"
   ]
  },
  {
   "cell_type": "markdown",
   "id": "f4cd082f",
   "metadata": {},
   "source": [
    "Top 10 cursos com mais evasões"
   ]
  },
  {
   "cell_type": "code",
   "execution_count": 46,
   "id": "56e12b1c",
   "metadata": {},
   "outputs": [
    {
     "data": {
      "image/png": "[encoded data removed]",
      "text/plain": [
       "<Figure size 1000x600 with 1 Axes>"
      ]
     },
     "metadata": {},
     "output_type": "display_data"
    }
   ],
   "source": [
    "plt.figure(figsize=(10,6))\n",
    "sns.barplot(\n",
    "    x=evasao_por_curso.head(10).values,\n",
    "    y=evasao_por_curso.head(10).index,\n",
    "    hue=evasao_por_curso.head(10).index,\n",
    "    palette=\"viridis\",\n",
    "    legend=False\n",
    ")\n",
    "plt.title(\"Top 10 Cursos com Mais Evasões (Quantidade Absoluta)\")\n",
    "plt.xlabel(\"Quantidade de Evasões\")\n",
    "plt.ylabel(\"Curso\")\n",
    "plt.grid(True)\n",
    "plt.show()"
   ]
  },
  {
   "cell_type": "markdown",
   "id": "ddceb16c",
   "metadata": {},
   "source": [
    "### Comparação entre campi\n"
   ]
  },
  {
   "cell_type": "markdown",
   "id": "ad196b4f",
   "metadata": {},
   "source": [
    "#### Quantida de evasões por campus"
   ]
  },
  {
   "cell_type": "code",
   "execution_count": 54,
   "id": "c7e276ac",
   "metadata": {},
   "outputs": [
    {
     "name": "stdout",
     "output_type": "stream",
     "text": [
      "Evasões por campus:\n",
      "campus\n",
      "CAMPUS CUIABÁ           8022\n",
      "CAMPUS SINOP            1476\n",
      "CAMPUS ARAGUAIA         1422\n",
      "CAMPUS VÁRZEA GRANDE     635\n",
      "Name: count, dtype: int64\n"
     ]
    }
   ],
   "source": [
    "#Quantidade absoluta\n",
    "evasao_por_campus= df['campus'].value_counts().sort_values(ascending=False)\n",
    "\n",
    "print(\"Evasões por campus:\")\n",
    "print(evasao_por_campus)"
   ]
  },
  {
   "cell_type": "markdown",
   "id": "e3647cdb",
   "metadata": {},
   "source": [
    "####  Percentual de evasões por campus"
   ]
  },
  {
   "cell_type": "code",
   "execution_count": 60,
   "id": "61728585",
   "metadata": {},
   "outputs": [
    {
     "name": "stdout",
     "output_type": "stream",
     "text": [
      "\n",
      "Percentual de evasões por campus:\n",
      "campus\n",
      "CAMPUS CUIABÁ           69.42\n",
      "CAMPUS SINOP            12.77\n",
      "CAMPUS ARAGUAIA         12.31\n",
      "CAMPUS VÁRZEA GRANDE     5.50\n",
      "Name: proportion, dtype: float64\n"
     ]
    }
   ],
   "source": [
    "# Calculando o percentual de evasão por curso   \n",
    "percentual_evasao_campus = df['campus'].value_counts(normalize=True).sort_values(ascending=False) * 100\n",
    "\n",
    "print(\"\\nPercentual de evasões por campus:\")\n",
    "print(percentual_evasao_campus.round(2))"
   ]
  },
  {
   "cell_type": "markdown",
   "id": "674520e1",
   "metadata": {},
   "source": [
    "#### Visualização"
   ]
  },
  {
   "cell_type": "code",
   "execution_count": 65,
   "id": "7f5ce618",
   "metadata": {},
   "outputs": [
    {
     "data": {
      "image/png": "[encoded data removed]",
      "text/plain": [
       "<Figure size 1000x500 with 1 Axes>"
      ]
     },
     "metadata": {},
     "output_type": "display_data"
    }
   ],
   "source": [
    "plt.figure(figsize=(10,5))\n",
    "sns.barplot(\n",
    "    x=evasao_por_campus.values,\n",
    "    y=evasao_por_campus.index,\n",
    "    hue=evasao_por_campus.index,\n",
    "    palette=\"viridis\",\n",
    "    legend=False\n",
    ")\n",
    "\n",
    "plt.title(\"Evasão por Campus (Quantidade Absoluta)\")\n",
    "plt.xlabel(\"Número de Evasões\")\n",
    "plt.ylabel(\"Campus\")\n",
    "plt.grid(True)\n",
    "plt.show()\n",
    "\n"
   ]
  },
  {
   "cell_type": "markdown",
   "id": "c2291a2f",
   "metadata": {},
   "source": [
    "## Distribuição por Sexo"
   ]
  },
  {
   "cell_type": "markdown",
   "id": "361bcf5a",
   "metadata": {},
   "source": [
    "### Percentual de evasão por sexo (masculino/feminino)."
   ]
  },
  {
   "cell_type": "code",
   "execution_count": 68,
   "id": "f3d92f0e",
   "metadata": {},
   "outputs": [
    {
     "name": "stdout",
     "output_type": "stream",
     "text": [
      "\n",
      "Quantidade de alunos evadidos por sexo:\n",
      "sexo\n",
      "M    5921\n",
      "F    5634\n",
      "Name: count, dtype: int64\n",
      "\n",
      "Percentual de evasão por sexo:\n",
      "sexo\n",
      "M    51.24\n",
      "F    48.76\n",
      "Name: proportion, dtype: float64\n"
     ]
    }
   ],
   "source": [
    "#quantidade de alunos que foram evadidos por sexo\n",
    "evasao_por_sexo = df['sexo'].value_counts().sort_values(ascending=False)    \n",
    "print(\"\\nQuantidade de alunos evadidos por sexo:\")\n",
    "print(evasao_por_sexo)\n",
    "\n",
    "# Percentual de evasão por sexo (masculino/feminino).\n",
    "percentual_evasao_sexo = df['sexo'].value_counts(normalize=True) * 100\n",
    "print(\"\\nPercentual de evasão por sexo:\")\n",
    "print(percentual_evasao_sexo.round(2))\n"
   ]
  },
  {
   "cell_type": "markdown",
   "id": "d97c22b2",
   "metadata": {},
   "source": [
    "## Distribuição por estado civil\n"
   ]
  },
  {
   "cell_type": "markdown",
   "id": "fe7a8122",
   "metadata": {},
   "source": [
    "### Ver se há correlação entre estado civil e evasão"
   ]
  },
  {
   "cell_type": "code",
   "execution_count": 78,
   "id": "08d82412",
   "metadata": {},
   "outputs": [
    {
     "name": "stdout",
     "output_type": "stream",
     "text": [
      "Total de evasões registradas: 11555\n",
      "\n",
      "Evasões por Estado Civil:\n",
      "\n",
      "estadoCivil\n",
      "Solteiro(a)      10868\n",
      "Casado(a)          630\n",
      "Divorciado(a)       57\n",
      "Name: count, dtype: int64\n",
      "\n",
      "Percentual de Evasões por Estado Civil:\n",
      "\n",
      "estadoCivil\n",
      "Solteiro(a)      94.05\n",
      "Casado(a)         5.45\n",
      "Divorciado(a)     0.49\n",
      "Name: proportion, dtype: float64\n"
     ]
    }
   ],
   "source": [
    "total_evasoes = len(df)\n",
    "print(f\"Total de evasões registradas: {total_evasoes}\\n\")\n",
    "\n",
    "\n",
    "# Contagem de evasões por estado civil\n",
    "estado_evasao = df['estadoCivil'].value_counts()\n",
    "\n",
    "# Percentual\n",
    "estado_evasao_percentual = df['estadoCivil'].value_counts(normalize=True) * 100\n",
    "\n",
    "print(\"Evasões por Estado Civil:\\n\")\n",
    "print(estado_evasao)\n",
    "\n",
    "print(\"\\nPercentual de Evasões por Estado Civil:\\n\")\n",
    "print(estado_evasao_percentual.round(2))"
   ]
  },
  {
   "cell_type": "markdown",
   "id": "54ea1dc0",
   "metadata": {},
   "source": [
    "## Análises Temporais\n"
   ]
  },
  {
   "cell_type": "markdown",
   "id": "7efaac51",
   "metadata": {},
   "source": [
    "### Evasão total por ano"
   ]
  },
  {
   "cell_type": "code",
   "execution_count": 79,
   "id": "da39c1cc",
   "metadata": {},
   "outputs": [
    {
     "name": "stdout",
     "output_type": "stream",
     "text": [
      "Evasões por ano:\n",
      "anoEvasao\n",
      "2020    1013\n",
      "2021    1361\n",
      "2022    2269\n",
      "2023    6212\n",
      "2024     700\n",
      "Name: count, dtype: int64\n"
     ]
    }
   ],
   "source": [
    "# Agrupar por ano de evasão\n",
    "evasao_ano = df['anoEvasao'].value_counts().sort_index()\n",
    "\n",
    "print(\"Evasões por ano:\")\n",
    "print(evasao_ano)\n"
   ]
  },
  {
   "cell_type": "markdown",
   "id": "54087fc9",
   "metadata": {},
   "source": [
    "#### Gráfico: Evasão total por ano"
   ]
  },
  {
   "cell_type": "code",
   "execution_count": 82,
   "id": "1b80d5e5",
   "metadata": {},
   "outputs": [
    {
     "data": {
      "image/png": "[encoded data removed]",
      "text/plain": [
       "<Figure size 1000x500 with 1 Axes>"
      ]
     },
     "metadata": {},
     "output_type": "display_data"
    }
   ],
   "source": [
    "plt.figure(figsize=(10,5))\n",
    "evasao_ano.plot(kind='line', marker='o')\n",
    "plt.title(\"Evolução da Evasão ao Longo dos Anos\")\n",
    "plt.xlabel(\"Ano\")\n",
    "plt.ylabel(\"Quantidade de Evasões\")\n",
    "plt.grid(True)\n",
    "plt.show()"
   ]
  },
  {
   "cell_type": "markdown",
   "id": "358020e1",
   "metadata": {},
   "source": [
    "#### Evasão por ano e por sexo"
   ]
  },
  {
   "cell_type": "code",
   "execution_count": 85,
   "id": "bda89b1c",
   "metadata": {},
   "outputs": [
    {
     "name": "stdout",
     "output_type": "stream",
     "text": [
      "Evasões por ano e sexo:\n",
      "sexo          F     M\n",
      "anoEvasao            \n",
      "2020        487   526\n",
      "2021        703   658\n",
      "2022        975  1294\n",
      "2023       3117  3095\n",
      "2024        352   348\n"
     ]
    }
   ],
   "source": [
    "evasao_ano_sexo = df.groupby(['anoEvasao', 'sexo']).size().unstack()\n",
    "\n",
    "print(\"Evasões por ano e sexo:\")\n",
    "print(evasao_ano_sexo.tail())"
   ]
  },
  {
   "cell_type": "markdown",
   "id": "9f9304d7",
   "metadata": {},
   "source": [
    "#### Gráfico: Evasão por sexo ao longo dos anos"
   ]
  },
  {
   "cell_type": "code",
   "execution_count": 86,
   "id": "b61d7216",
   "metadata": {},
   "outputs": [
    {
     "data": {
      "text/plain": [
       "<Figure size 1000x500 with 0 Axes>"
      ]
     },
     "metadata": {},
     "output_type": "display_data"
    },
    {
     "data": {
      "image/png": "[encoded data removed]",
      "text/plain": [
       "<Figure size 640x480 with 1 Axes>"
      ]
     },
     "metadata": {},
     "output_type": "display_data"
    }
   ],
   "source": [
    "plt.figure(figsize=(10,5))\n",
    "evasao_ano_sexo.plot(marker='o')\n",
    "plt.title(\"Evolução da Evasão ao Longo dos Anos por Sexo\")\n",
    "plt.xlabel(\"Ano\")\n",
    "plt.ylabel(\"Quantidade de Evasões\")\n",
    "plt.grid(True)\n",
    "plt.legend(title='Sexo')\n",
    "plt.show()\n"
   ]
  },
  {
   "cell_type": "markdown",
   "id": "98ca3727",
   "metadata": {},
   "source": [
    "#### Evasão por ano e por campus"
   ]
  },
  {
   "cell_type": "code",
   "execution_count": 87,
   "id": "d3995ab0",
   "metadata": {},
   "outputs": [
    {
     "name": "stdout",
     "output_type": "stream",
     "text": [
      "Evasões por ano e campus:\n",
      "campus     CAMPUS ARAGUAIA  CAMPUS CUIABÁ  CAMPUS SINOP  CAMPUS VÁRZEA GRANDE\n",
      "anoEvasao                                                                    \n",
      "2020                   149            651           129                    84\n",
      "2021                   135            900           226                   100\n",
      "2022                   327           1590           263                    89\n",
      "2023                   729           4365           788                   330\n",
      "2024                    82            516            70                    32\n"
     ]
    }
   ],
   "source": [
    "# Agrupamento por ano e campus\n",
    "evasao_ano_campus = df.groupby(['anoEvasao', 'campus']).size().unstack()\n",
    "\n",
    "print(\"Evasões por ano e campus:\")\n",
    "print(evasao_ano_campus.tail())\n"
   ]
  },
  {
   "cell_type": "markdown",
   "id": "59d2f526",
   "metadata": {},
   "source": [
    "####  Gráfico: Evasão por campus ao longo dos anos\n",
    "\n"
   ]
  },
  {
   "cell_type": "code",
   "execution_count": 92,
   "id": "742c4b30",
   "metadata": {},
   "outputs": [
    {
     "data": {
      "text/plain": [
       "<Figure size 1200x1000 with 0 Axes>"
      ]
     },
     "metadata": {},
     "output_type": "display_data"
    },
    {
     "data": {
      "image/png": "[encoded data removed]",
      "text/plain": [
       "<Figure size 640x480 with 1 Axes>"
      ]
     },
     "metadata": {},
     "output_type": "display_data"
    }
   ],
   "source": [
    "plt.figure(figsize=(12,10))\n",
    "evasao_ano_campus.plot(marker='o')\n",
    "plt.title(\"Evolução da Evasão ao Longo dos Anos por Campus\")\n",
    "plt.xlabel(\"Ano\")\n",
    "plt.ylabel(\"Quantidade de Evasões\")\n",
    "plt.grid(True)\n",
    "plt.legend(title='Campus', bbox_to_anchor=(1.05, 1), loc='upper left')\n",
    "plt.tight_layout()\n",
    "plt.show()\n"
   ]
  },
  {
   "cell_type": "markdown",
   "id": "7e2fae7d",
   "metadata": {},
   "source": [
    "### Tempo médio até a evasão\n",
    "\n"
   ]
  },
  {
   "cell_type": "code",
   "execution_count": 100,
   "id": "5bbf9c01",
   "metadata": {},
   "outputs": [],
   "source": [
    "# Cálculo do tempo de permanência no curso\n",
    "df['anos_no_curso'] = df['anoEvasao'] - df['anoIngresso']\n"
   ]
  },
  {
   "cell_type": "code",
   "execution_count": 101,
   "id": "1f61d020",
   "metadata": {},
   "outputs": [
    {
     "name": "stdout",
     "output_type": "stream",
     "text": [
      "Tempo médio até a evasão (em anos):\n",
      "Média: 3.94\n",
      "Mediana: 3.00\n",
      "Desvio padrão: 3.35\n"
     ]
    }
   ],
   "source": [
    "print(\"Tempo médio até a evasão (em anos):\")\n",
    "print(f\"Média: {df['anos_no_curso'].mean():.2f}\")\n",
    "print(f\"Mediana: {df['anos_no_curso'].median():.2f}\")\n",
    "print(f\"Desvio padrão: {df['anos_no_curso'].std():.2f}\")\n"
   ]
  },
  {
   "cell_type": "markdown",
   "id": "8a418d2d",
   "metadata": {},
   "source": [
    "## Análises gográficas"
   ]
  },
  {
   "cell_type": "markdown",
   "id": "d36a76a6",
   "metadata": {},
   "source": [
    "### Evasão por munícipio ou estado (UF)"
   ]
  },
  {
   "cell_type": "code",
   "execution_count": 97,
   "id": "efedf5f6",
   "metadata": {},
   "outputs": [
    {
     "name": "stdout",
     "output_type": "stream",
     "text": [
      "\n",
      "Top 10 municípios com mais evasões:\n",
      "municipio\n",
      "CUIABA              6089\n",
      "VARZEA GRANDE       1240\n",
      "BARRA DO GARCAS      764\n",
      "SINOP                732\n",
      "ARAGARCAS            131\n",
      "RONDONOPOLIS         101\n",
      "SAO PAULO             77\n",
      "SORRISO               66\n",
      "TANGARA DA SERRA      60\n",
      "BRASILIA              59\n",
      "Name: count, dtype: int64\n"
     ]
    }
   ],
   "source": [
    "#mapeamente dos municípios/UF de origem com maiores índeces de evasão\n",
    "evasao_por_municipio = df['municipio'].value_counts().sort_values(ascending=False)\n",
    "print(\"\\nTop 10 municípios com mais evasões:\")\n",
    "print(evasao_por_municipio.head(10))"
   ]
  },
  {
   "cell_type": "code",
   "execution_count": 107,
   "id": "842cb7dc",
   "metadata": {},
   "outputs": [
    {
     "data": {
      "image/png": "[encoded data removed]",
      "text/plain": [
       "<Figure size 1000x500 with 1 Axes>"
      ]
     },
     "metadata": {},
     "output_type": "display_data"
    }
   ],
   "source": [
    "plt.figure(figsize=(10,5))\n",
    "sns.barplot(\n",
    "    x=evasao_por_municipio.head(10).values,\n",
    "    y=evasao_por_municipio.head(10).index,\n",
    "    hue=evasao_por_municipio.head(10).index,\n",
    "    palette=\"rocket\",\n",
    "    legend=False\n",
    ")\n",
    "plt.title(\"Top 10 Municípios com Mais Evasões\")\n",
    "plt.xlabel(\"Quantidade de Evasões\")\n",
    "plt.ylabel(\"Município\")\n",
    "plt.grid(True)\n",
    "plt.show()\n"
   ]
  },
  {
   "cell_type": "code",
   "execution_count": 113,
   "id": "53cb0131",
   "metadata": {},
   "outputs": [
    {
     "name": "stdout",
     "output_type": "stream",
     "text": [
      "10 Estados de origem com mais índices de evasões\n",
      "\n",
      "uf\n",
      "MT    10038\n",
      "SP      370\n",
      "GO      344\n",
      "MG      147\n",
      "RO      118\n",
      "PA       82\n",
      "RJ       67\n",
      "DF       59\n",
      "MS       52\n",
      "PR       41\n",
      "Name: count, dtype: int64\n"
     ]
    }
   ],
   "source": [
    "evasao_uf = df['uf'].value_counts()\n",
    "print(\"10 Estados de origem com mais índices de evasões\\n\")\n",
    "print(evasao_uf.head(10))\n"
   ]
  },
  {
   "cell_type": "markdown",
   "id": "2cb2f17d",
   "metadata": {},
   "source": [
    "### Análise de bairros"
   ]
  },
  {
   "cell_type": "code",
   "execution_count": 116,
   "id": "97b0a680",
   "metadata": {},
   "outputs": [
    {
     "name": "stdout",
     "output_type": "stream",
     "text": [
      "\n",
      "Top 10  com mais evasões:\n",
      "bairro\n",
      "Centro             348\n",
      "Boa Esperança      213\n",
      "CENTRO             158\n",
      "Jardim Imperial    131\n",
      "Morada da Serra    105\n",
      "Dom Aquino          94\n",
      "centro              93\n",
      "Tijucal             84\n",
      "Cristo Rei          78\n",
      "Cidade Alta         76\n",
      "Name: count, dtype: int64\n"
     ]
    }
   ],
   "source": [
    "evasao_por_bairro = df['bairro'].value_counts().sort_values(ascending=False)\n",
    "print(\"\\nTop 10  com mais evasões:\")\n",
    "print(evasao_por_bairro.head(10))"
   ]
  },
  {
   "cell_type": "markdown",
   "id": "0d6aa9b3",
   "metadata": {},
   "source": [
    "## Análises por características acadêmicas"
   ]
  },
  {
   "cell_type": "markdown",
   "id": "0231ecf3",
   "metadata": {},
   "source": [
    "### Evasão por período de curso"
   ]
  },
  {
   "cell_type": "code",
   "execution_count": 123,
   "id": "fcaba364",
   "metadata": {},
   "outputs": [
    {
     "name": "stdout",
     "output_type": "stream",
     "text": [
      "\n",
      "Evasões por período:\n",
      "periodo\n",
      "20201     706\n",
      "20202     307\n",
      "20211     784\n",
      "20212     577\n",
      "20221    1682\n",
      "20222     587\n",
      "20231    5553\n",
      "20232     659\n",
      "20241     700\n",
      "Name: count, dtype: int64 \n",
      "\n",
      "Evasões no início (1º e 2º período): 1013\n",
      "Evasões em fases mais avançadas: 10542\n",
      "\n",
      "Há mais evasões em fases mais avançadas do curso.\n"
     ]
    }
   ],
   "source": [
    "# Considerando que os períodos 20201 e 20202 representam o 1º e 2º período\n",
    "evasao_por_periodo = df['periodo'].value_counts().sort_index()\n",
    "print(\"\\nEvasões por período:\")\n",
    "print(evasao_por_periodo,\"\\n\")\n",
    "\n",
    "evasoes_inicio = evasao_por_periodo.loc[[20201, 20202]].sum()\n",
    "evasoes_avancado = evasao_por_periodo.drop([20201, 20202]).sum()\n",
    "#loc: seleciona os períodos 20201 e 20202 da série.\n",
    "#drop: remove os períodos 20201 e 20202 da série, considerando que são os dois primeiros períodos do curso.\n",
    "\n",
    "print(f\"Evasões no início (1º e 2º período): {evasoes_inicio}\")\n",
    "print(f\"Evasões em fases mais avançadas: {evasoes_avancado}\\n\")\n",
    "\n",
    "if evasoes_inicio > evasoes_avancado:\n",
    "    print(\"Há mais evasões no início do curso.\")\n",
    "else:\n",
    "    print(\"Há mais evasões em fases mais avançadas do curso.\")\n"
   ]
  },
  {
   "cell_type": "markdown",
   "id": "e3b4aa40",
   "metadata": {},
   "source": [
    "### Tipos de ocorrência da evasão"
   ]
  },
  {
   "cell_type": "code",
   "execution_count": 126,
   "id": "6333a4ae",
   "metadata": {},
   "outputs": [
    {
     "name": "stdout",
     "output_type": "stream",
     "text": [
      "Tipos de ocorrência de evasão mais comuns:\n",
      "\n",
      "ocorrenciaDescricao\n",
      "EXCLUSÃO DE VÍNCULO ACADÊMICO                              4116\n",
      "EXCLUSAO POR DESISTENCIA                                   3481\n",
      "EXCLUSAO POR TRANSFERENCIA DE REGIME                       1624\n",
      "EXCLUSAO CONFORME EDITAL SISU - PELA INSTITUIÇÃO            943\n",
      "EXCLUSAO POR TRANSFERENCIA INTERNA                          774\n",
      "EXCLUÍDO POR DUPLICIDADE DE VÍNCULO - LEI NR. 12.089/09     210\n",
      "EXCLUSAO POR TRANSFERENCIA DE TURNO                          98\n",
      "EXCLUSAO POR TRANSFERENCIA EXTERNA                           67\n",
      "EXCLUIDO POR SOLICITACAO DA IES                              52\n",
      "EXCLUSAO POR DECISAO DO CONSUNI                              52\n",
      "Name: count, dtype: int64\n"
     ]
    }
   ],
   "source": [
    "# Agrupar e contar os tipos de ocorrência de evasão\n",
    "tipos_ocorrencia = df['ocorrenciaDescricao'].value_counts()\n",
    "\n",
    "print(\"Tipos de ocorrência de evasão mais comuns:\\n\")\n",
    "print(tipos_ocorrencia.head(10))\n"
   ]
  },
  {
   "cell_type": "code",
   "execution_count": 127,
   "id": "eabff2f9",
   "metadata": {},
   "outputs": [
    {
     "name": "stdout",
     "output_type": "stream",
     "text": [
      "\n",
      "Percentual dos tipos de ocorrência mais comuns:\n",
      "ocorrenciaDescricao\n",
      "EXCLUSÃO DE VÍNCULO ACADÊMICO                              35.62\n",
      "EXCLUSAO POR DESISTENCIA                                   30.13\n",
      "EXCLUSAO POR TRANSFERENCIA DE REGIME                       14.05\n",
      "EXCLUSAO CONFORME EDITAL SISU - PELA INSTITUIÇÃO            8.16\n",
      "EXCLUSAO POR TRANSFERENCIA INTERNA                          6.70\n",
      "EXCLUÍDO POR DUPLICIDADE DE VÍNCULO - LEI NR. 12.089/09     1.82\n",
      "EXCLUSAO POR TRANSFERENCIA DE TURNO                         0.85\n",
      "EXCLUSAO POR TRANSFERENCIA EXTERNA                          0.58\n",
      "EXCLUIDO POR SOLICITACAO DA IES                             0.45\n",
      "EXCLUSAO POR DECISAO DO CONSUNI                             0.45\n",
      "Name: proportion, dtype: float64\n"
     ]
    }
   ],
   "source": [
    "# Percentual de cada tipo\n",
    "tipos_ocorrencia_percentual = df['ocorrenciaDescricao'].value_counts(normalize=True) * 100\n",
    "print(\"\\nPercentual dos tipos de ocorrência mais comuns:\")\n",
    "print(tipos_ocorrencia_percentual.head(10).round(2))"
   ]
  },
  {
   "cell_type": "markdown",
   "id": "a0ecc974",
   "metadata": {},
   "source": [
    "## Análise Cruzadas"
   ]
  },
  {
   "cell_type": "markdown",
   "id": "5ae3488d",
   "metadata": {},
   "source": [
    "### Evasão por sexo × curso"
   ]
  },
  {
   "cell_type": "code",
   "execution_count": 136,
   "id": "0c0637fc",
   "metadata": {},
   "outputs": [
    {
     "name": "stdout",
     "output_type": "stream",
     "text": [
      "sexo                                           F    M\n",
      "curso                                                \n",
      "PSICOLOGIA                                   324  132\n",
      "ENGENHARIA ELÉTRICA                           68  375\n",
      "ZOOTECNIA - BACHARELADO                      260  155\n",
      "ENGENHARIA FLORESTAL - BACHARELADO           159  220\n",
      "AGRONOMIA - BACHARELADO                      108  247\n",
      "ESTATÍSTICA                                  100  218\n",
      "NUTRIÇÃO - BACHARELADO                       253   61\n",
      "ENGENHARIA CIVIL - SERIADO                   105  197\n",
      "ARQUITETURA E URBANISMO - SERIADO SEMESTRAL  194   77\n",
      "MEDICINA - BACHARELADO                       127  128\n"
     ]
    }
   ],
   "source": [
    "# Tabela cruzada: evasão por sexo e curso\n",
    "evasao_sexo_curso = pd.crosstab(df['curso'], df['sexo'])\n",
    "\n",
    "# Exibir os top 10 cursos com mais evasões, separados por sexo\n",
    "top10_cursos = evasao_por_curso.head(10).index\n",
    "print(evasao_sexo_curso.loc[top10_cursos])"
   ]
  },
  {
   "cell_type": "markdown",
   "id": "6e914f03",
   "metadata": {},
   "source": [
    "### Evasão por campus x tempo até evasão"
   ]
  },
  {
   "cell_type": "code",
   "execution_count": 140,
   "id": "babb407b",
   "metadata": {
    "vscode": {
     "languageId": "ruby"
    }
   },
   "outputs": [
    {
     "name": "stdout",
     "output_type": "stream",
     "text": [
      "Tempo até a evasão por campus (em anos):\n",
      "\n",
      "                      count  mean\n",
      "campus                           \n",
      "CAMPUS ARAGUAIA        1422  4.67\n",
      "CAMPUS CUIABÁ          8020  3.86\n",
      "CAMPUS SINOP           1475  3.90\n",
      "CAMPUS VÁRZEA GRANDE    635  3.37\n"
     ]
    }
   ],
   "source": [
    "# Agrupar por campus e calcular estatísticas do tempo até a evasão\n",
    "tempo_evasao_por_campus = df.groupby('campus')['anos_no_curso'].agg(['count', 'mean']).round(2)\n",
    "\n",
    "print(\"Tempo até a evasão por campus (em anos):\\n\")\n",
    "print(tempo_evasao_por_campus)\n",
    "\n",
    "# count: número de evasões por campus\n",
    "# mean: média de anos no curso até a evasão\n"
   ]
  },
  {
   "cell_type": "markdown",
   "id": "11a3d427",
   "metadata": {},
   "source": [
    "### Estado Civil x tempo de permanência"
   ]
  },
  {
   "cell_type": "code",
   "execution_count": 146,
   "id": "5569ff52",
   "metadata": {},
   "outputs": [
    {
     "name": "stdout",
     "output_type": "stream",
     "text": [
      "Tempo de permanência no curso por estado civil (em anos):\n",
      "\n",
      "               count  mean  median   std\n",
      "estadoCivil                             \n",
      "Casado(a)        629  6.21     6.0  2.98\n",
      "Divorciado(a)     57  6.58     7.0  2.92\n",
      "Solteiro(a)    10866  3.79     3.0  3.32\n"
     ]
    }
   ],
   "source": [
    "# Agrupar por estado civil e calcular estatísticas do tempo de permanência\n",
    "tempo_permanencia_estado_civil = df.groupby('estadoCivil')['anos_no_curso'].agg(['count', 'mean', 'median', 'std']).round(2)\n",
    "\n",
    "print(\"Tempo de permanência no curso por estado civil (em anos):\\n\")\n",
    "print(tempo_permanencia_estado_civil)\n",
    "\n"
   ]
  },
  {
   "cell_type": "markdown",
   "id": "f5dae670",
   "metadata": {},
   "source": [
    "### Município x Idade de evasão"
   ]
  },
  {
   "cell_type": "code",
   "execution_count": 150,
   "id": "fc13f476",
   "metadata": {},
   "outputs": [
    {
     "name": "stdout",
     "output_type": "stream",
     "text": [
      "Top 10 municípios com maior média de idade na evasão:\n",
      "municipio\n",
      "MANDAGUARI     70.0\n",
      "CAJAZEIRAS     59.0\n",
      "MACEIO         52.0\n",
      "LADARIO        49.0\n",
      "ITATUBA        46.0\n",
      "JAPIRA         43.0\n",
      "APUCARANA      42.0\n",
      "TARUMA         42.0\n",
      "AREALVA        41.0\n",
      "CASSILANDIA    38.7\n",
      "Name: idade_evasao, dtype: float64\n"
     ]
    }
   ],
   "source": [
    "municipio_idade = df.groupby('municipio')['idade_evasao'].mean().sort_values(ascending=False)\n",
    "\n",
    "print(\"Top 10 municípios com maior média de idade na evasão:\")\n",
    "print(municipio_idade.head(10).round(1))\n"
   ]
  },
  {
   "cell_type": "markdown",
   "id": "1b48b690",
   "metadata": {},
   "source": [
    "### Evasão por curso × ano de ingresso\n",
    "\n"
   ]
  },
  {
   "cell_type": "code",
   "execution_count": null,
   "id": "3a569ad9",
   "metadata": {
    "vscode": {
     "languageId": "ruby"
    }
   },
   "outputs": [
    {
     "name": "stdout",
     "output_type": "stream",
     "text": [
      "Evasão por curso × ano de ingresso (top 5 cursos):\n",
      "\n",
      "curso        PSICOLOGIA  ENGENHARIA ELÉTRICA  ZOOTECNIA - BACHARELADO  \\\n",
      "anoIngresso                                                             \n",
      "1996.0                0                    0                        0   \n",
      "2002.0                0                    0                        0   \n",
      "2003.0                0                    0                        0   \n",
      "2004.0                0                    0                        0   \n",
      "2005.0                0                    0                        0   \n",
      "2006.0                0                    0                        0   \n",
      "2007.0                0                    0                        0   \n",
      "2008.0                0                    0                        0   \n",
      "2009.0                0                    0                        1   \n",
      "2010.0                1                    2                        0   \n",
      "2011.0                0                    4                        6   \n",
      "2012.0                2                   10                        4   \n",
      "2013.0                3                    6                       10   \n",
      "2014.0                6                   15                       18   \n",
      "2015.0               11                   22                       36   \n",
      "2016.0                6                   32                       65   \n",
      "2017.0               20                   41                       67   \n",
      "2018.0               29                   71                       16   \n",
      "2019.0               65                   78                       31   \n",
      "2020.0               93                   70                       21   \n",
      "2021.0               97                   92                       45   \n",
      "2022.0               97                    0                       49   \n",
      "2023.0               20                    0                       38   \n",
      "2024.0                6                    0                        8   \n",
      "\n",
      "curso        ENGENHARIA FLORESTAL - BACHARELADO  AGRONOMIA - BACHARELADO  \n",
      "anoIngresso                                                               \n",
      "1996.0                                        0                        0  \n",
      "2002.0                                        0                        0  \n",
      "2003.0                                        0                        0  \n",
      "2004.0                                        0                        0  \n",
      "2005.0                                        0                        0  \n",
      "2006.0                                        0                        0  \n",
      "2007.0                                        0                        0  \n",
      "2008.0                                        0                        0  \n",
      "2009.0                                        0                        0  \n",
      "2010.0                                        0                        0  \n",
      "2011.0                                        9                        5  \n",
      "2012.0                                       10                        8  \n",
      "2013.0                                       16                       18  \n",
      "2014.0                                       23                       29  \n",
      "2015.0                                       34                       37  \n",
      "2016.0                                       56                       48  \n",
      "2017.0                                       54                       54  \n",
      "2018.0                                       22                        9  \n",
      "2019.0                                       24                       19  \n",
      "2020.0                                       27                       26  \n",
      "2021.0                                       44                       31  \n",
      "2022.0                                       23                       34  \n",
      "2023.0                                       34                       30  \n",
      "2024.0                                        2                        7  \n"
     ]
    }
   ],
   "source": [
    "# Filtrar apenas anos de ingresso a partir de 2008\n",
    "evasao_ano_ingresso_curso_2008 = evasao_ano_ingresso_curso.loc[2008.0:]\n",
    "\n",
    "# Exibir os top 5 cursos com mais evasões ao longo dos anos de ingresso (de 2008 em diante)\n",
    "print(\"Evasão por curso × ano de ingresso (top 5 cursos, de 2008 em diante):\\n\")\n",
    "print(evasao_ano_ingresso_curso_2008[top5_cursos])"
   ]
  },
  {
   "cell_type": "code",
   "execution_count": 4,
   "id": "f7bf5ac7",
   "metadata": {
    "vscode": {
     "languageId": "ruby"
    }
   },
   "outputs": [
    {
     "name": "stdout",
     "output_type": "stream",
     "text": [
      "Campi disponíveis:\n",
      "['CAMPUS CUIABÁ' 'CAMPUS ARAGUAIA' 'CAMPUS SINOP' 'CAMPUS VÁRZEA GRANDE']\n",
      "\n",
      "UFs de origem dos alunos:\n",
      "['MT' 'MS' 'GO' 'SP' 'RO' 'PA' 'RJ' 'MG' 'BA' 'MA' 'TO' 'ES' 'PI' 'DF'\n",
      " 'PE' 'RS' 'CE' 'PR' 'AM' 'SC' 'RN' 'AP' 'AL' 'PB' 'SE' 'AC' 'RR' nan]\n"
     ]
    }
   ],
   "source": [
    "print(\"Campi disponíveis:\")\n",
    "print(df['campus'].unique())\n",
    "\n",
    "print(\"\\nUFs de origem dos alunos:\")\n",
    "print(df['uf'].unique())\n"
   ]
  },
  {
   "cell_type": "code",
   "execution_count": 11,
   "id": "ddcfb5ba",
   "metadata": {
    "vscode": {
     "languageId": "ruby"
    }
   },
   "outputs": [
    {
     "name": "stdout",
     "output_type": "stream",
     "text": [
      "Ingressantes de MT: 10038\n",
      "Ingressantes de outras UFs: 1517\n",
      "Total de ingressantes: 11555\n",
      "Percentual de fora: 13.13%\n",
      "Percentual de MT: 86.87%\n"
     ]
    }
   ],
   "source": [
    "# Comparando a quantidade de ingressantes de fora do estado vs de MT\n",
    "qtd_mt = contagem[False]\n",
    "qtd_fora = contagem[True]\n",
    "\n",
    "print(f\"Ingressantes de MT: {qtd_mt}\")\n",
    "print(f\"Ingressantes de outras UFs: {qtd_fora}\")\n",
    "print(f\"Total de ingressantes: {qtd_mt + qtd_fora}\")\n",
    "print(f\"Percentual de fora: {percentuais[True]:.2f}%\")\n",
    "print(f\"Percentual de MT: {percentuais[False]:.2f}%\")"
   ]
  },
  {
   "cell_type": "code",
   "execution_count": 7,
   "id": "bf19f3f6",
   "metadata": {
    "vscode": {
     "languageId": "ruby"
    }
   },
   "outputs": [
    {
     "name": "stdout",
     "output_type": "stream",
     "text": [
      "Quantidade de alunos ingressantes de fora de MT por UF:\n",
      "SP: 370\n",
      "GO: 344\n",
      "MG: 147\n",
      "RO: 118\n",
      "PA: 82\n",
      "RJ: 67\n",
      "DF: 59\n",
      "MS: 52\n",
      "PR: 41\n",
      "BA: 36\n",
      "MA: 28\n",
      "TO: 22\n",
      "CE: 19\n",
      "AM: 19\n",
      "RS: 17\n",
      "ES: 16\n",
      "PI: 13\n",
      "SC: 13\n",
      "PE: 11\n",
      "AC: 9\n",
      "AP: 7\n",
      "RN: 7\n",
      "PB: 6\n",
      "AL: 5\n",
      "SE: 3\n",
      "RR: 1\n"
     ]
    }
   ],
   "source": [
    "# Listar quantidade de alunos ingressantes de cada UF diferente de MT, um por um\n",
    "fora_mt = df[df['fora_do_estado']]\n",
    "contagem_uf_fora = fora_mt['uf'].value_counts()\n",
    "\n",
    "print(\"Quantidade de alunos ingressantes de fora de MT por UF:\")\n",
    "for uf, qtd in contagem_uf_fora.items():\n",
    "    print(f\"{uf}: {qtd}\")\n"
   ]
  },
  {
   "cell_type": "markdown",
   "id": "dc5e6569",
   "metadata": {},
   "source": [
    "Quantidade de Alunos Evadidos De dentro e fora do estado do Mato Grosso"
   ]
  },
  {
   "cell_type": "code",
   "execution_count": 8,
   "id": "2aa5fd96",
   "metadata": {
    "vscode": {
     "languageId": "ruby"
    }
   },
   "outputs": [
    {
     "name": "stdout",
     "output_type": "stream",
     "text": [
      "Locais (MT): 1517\n",
      "De outras UFs: 10038\n"
     ]
    }
   ],
   "source": [
    "evasao_local_vs_fora = df['fora_do_estado'].value_counts()\n",
    "labels = ['Locais (MT)', 'De outras UFs']\n",
    "for label, qtd in zip(labels, evasao_local_vs_fora.values[::-1]):\n",
    "    print(f\"{label}: {qtd}\")\n"
   ]
  },
  {
   "cell_type": "markdown",
   "id": "388edef5",
   "metadata": {},
   "source": [
    "Quantidade de alunos evadidos Por estado"
   ]
  },
  {
   "cell_type": "code",
   "execution_count": 12,
   "id": "5226e1ce",
   "metadata": {},
   "outputs": [
    {
     "name": "stdout",
     "output_type": "stream",
     "text": [
      "Quantidade de evasões por UF:\n",
      "uf\n",
      "MT    10038\n",
      "SP      370\n",
      "GO      344\n",
      "MG      147\n",
      "RO      118\n",
      "PA       82\n",
      "RJ       67\n",
      "DF       59\n",
      "MS       52\n",
      "PR       41\n",
      "BA       36\n",
      "MA       28\n",
      "TO       22\n",
      "CE       19\n",
      "AM       19\n",
      "RS       17\n",
      "ES       16\n",
      "PI       13\n",
      "SC       13\n",
      "PE       11\n",
      "AC        9\n",
      "AP        7\n",
      "RN        7\n",
      "PB        6\n",
      "AL        5\n",
      "SE        3\n",
      "RR        1\n",
      "Name: count, dtype: int64\n"
     ]
    }
   ],
   "source": [
    "evasao_uf = df['uf'].value_counts()\n",
    "print(\"Quantidade de evasões por UF:\")\n",
    "print(evasao_uf)"
   ]
  },
  {
   "cell_type": "code",
   "execution_count": 9,
   "id": "86b27cae",
   "metadata": {
    "vscode": {
     "languageId": "ruby"
    }
   },
   "outputs": [
    {
     "name": "stdout",
     "output_type": "stream",
     "text": [
      "\n",
      "Percentual de evasão por origem:\n",
      "Locais (MT): 13.13%\n",
      "De outras UFs: 86.87%\n"
     ]
    }
   ],
   "source": [
    "total_evasoes = len(df)\n",
    "percentuais = (evasao_local_vs_fora / total_evasoes * 100).round(2)\n",
    "\n",
    "print(\"\\nPercentual de evasão por origem:\")\n",
    "for label, pct in zip(labels, percentuais.values[::-1]):\n",
    "    print(f\"{label}: {pct}%\")\n"
   ]
  }
 ],
 "metadata": {
  "kernelspec": {
   "display_name": "venv",
   "language": "python",
   "name": "python3"
  },
  "language_info": {
   "codemirror_mode": {
    "name": "ipython",
    "version": 3
   },
   "file_extension": ".py",
   "mimetype": "text/x-python",
   "name": "python",
   "nbconvert_exporter": "python",
   "pygments_lexer": "ipython3",
   "version": "3.12.6"
  }
 },
 "nbformat": 4,
 "nbformat_minor": 5
}
