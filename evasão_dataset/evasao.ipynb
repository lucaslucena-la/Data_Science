{
 "cells": [
  {
   "cell_type": "markdown",
   "id": "ee49a0b2",
   "metadata": {},
   "source": [
    "<div style = \"text-align:center\">\n",
    "\n",
    "# EDA Com pandas\n",
    "</div>\n",
    "\n"
   ]
  },
  {
   "cell_type": "code",
   "execution_count": 1,
   "id": "e94d5519",
   "metadata": {},
   "outputs": [],
   "source": [
    "\n",
    "import pandas as pd\n",
    "import seaborn as sns\n",
    "import matplotlib.pyplot as plt\n",
    "from scipy.stats import skew, kurtosis\n",
    "\n"
   ]
  },
  {
   "cell_type": "markdown",
   "id": "d2d16fc4",
   "metadata": {},
   "source": [
    "### Carregamento do Dataset"
   ]
  },
  {
   "cell_type": "code",
   "execution_count": 3,
   "id": "cad72415",
   "metadata": {},
   "outputs": [
    {
     "name": "stdout",
     "output_type": "stream",
     "text": [
      "Número de linhas e colunas: (11555, 15) \n",
      "\n"
     ]
    },
    {
     "data": {
      "text/html": [
       "<div>\n",
       "<style scoped>\n",
       "    .dataframe tbody tr th:only-of-type {\n",
       "        vertical-align: middle;\n",
       "    }\n",
       "\n",
       "    .dataframe tbody tr th {\n",
       "        vertical-align: top;\n",
       "    }\n",
       "\n",
       "    .dataframe thead th {\n",
       "        text-align: right;\n",
       "    }\n",
       "</style>\n",
       "<table border=\"1\" class=\"dataframe\">\n",
       "  <thead>\n",
       "    <tr style=\"text-align: right;\">\n",
       "      <th></th>\n",
       "      <th>campus</th>\n",
       "      <th>curso</th>\n",
       "      <th>sexo</th>\n",
       "      <th>dataNascimento</th>\n",
       "      <th>estadoCivil</th>\n",
       "      <th>ocorrenciaDescricao</th>\n",
       "      <th>periodo</th>\n",
       "      <th>endereco</th>\n",
       "      <th>municipio</th>\n",
       "      <th>bairro</th>\n",
       "      <th>cep</th>\n",
       "      <th>uf</th>\n",
       "      <th>anoNascimento</th>\n",
       "      <th>anoIngresso</th>\n",
       "      <th>anoEvasao</th>\n",
       "    </tr>\n",
       "  </thead>\n",
       "  <tbody>\n",
       "    <tr>\n",
       "      <th>0</th>\n",
       "      <td>CAMPUS CUIABÁ</td>\n",
       "      <td>ENGENHARIA CIVIL - SERIADO</td>\n",
       "      <td>M</td>\n",
       "      <td>1987-04-23 00:00:00.000</td>\n",
       "      <td>Solteiro(a)</td>\n",
       "      <td>EXCLUSAO POR DESISTENCIA</td>\n",
       "      <td>20201</td>\n",
       "      <td>RUA CURSINO DO AMARANTE 1022</td>\n",
       "      <td>CUIABA</td>\n",
       "      <td>QUILOMBO</td>\n",
       "      <td>78045070</td>\n",
       "      <td>MT</td>\n",
       "      <td>1987.0</td>\n",
       "      <td>2008.0</td>\n",
       "      <td>2020</td>\n",
       "    </tr>\n",
       "    <tr>\n",
       "      <th>1</th>\n",
       "      <td>CAMPUS CUIABÁ</td>\n",
       "      <td>BACHARELADO EM CIÊNCIAS SOCIAIS</td>\n",
       "      <td>M</td>\n",
       "      <td>1992-04-16 00:00:00.000</td>\n",
       "      <td>Solteiro(a)</td>\n",
       "      <td>EXCLUSAO POR DESISTENCIA</td>\n",
       "      <td>20201</td>\n",
       "      <td>Rua A, n250</td>\n",
       "      <td>CUIABA</td>\n",
       "      <td>Bairro Residencial Paiaguas</td>\n",
       "      <td>78048258</td>\n",
       "      <td>MT</td>\n",
       "      <td>1992.0</td>\n",
       "      <td>2010.0</td>\n",
       "      <td>2020</td>\n",
       "    </tr>\n",
       "    <tr>\n",
       "      <th>2</th>\n",
       "      <td>CAMPUS CUIABÁ</td>\n",
       "      <td>ENGENHARIA SANITARIA E AMBIENTAL - SERIADO  SEM</td>\n",
       "      <td>F</td>\n",
       "      <td>1990-10-10 00:00:00.000</td>\n",
       "      <td>Solteiro(a)</td>\n",
       "      <td>EXCLUSAO POR DESISTENCIA</td>\n",
       "      <td>20201</td>\n",
       "      <td>RUA AMÂNCIO PEDROSO DE JESUS                  ...</td>\n",
       "      <td>CUIABA</td>\n",
       "      <td>CARUMBÉ</td>\n",
       "      <td>78050660</td>\n",
       "      <td>MT</td>\n",
       "      <td>1990.0</td>\n",
       "      <td>2009.0</td>\n",
       "      <td>2020</td>\n",
       "    </tr>\n",
       "    <tr>\n",
       "      <th>3</th>\n",
       "      <td>CAMPUS CUIABÁ</td>\n",
       "      <td>GEOLOGIA - SERIADO</td>\n",
       "      <td>M</td>\n",
       "      <td>1982-09-30 00:00:00.000</td>\n",
       "      <td>Solteiro(a)</td>\n",
       "      <td>EXCLUSAO POR DESISTENCIA</td>\n",
       "      <td>20201</td>\n",
       "      <td>TRAVESSA AGUA CLARA - 119</td>\n",
       "      <td>AQUIDAUANA</td>\n",
       "      <td>COHAB NOVA</td>\n",
       "      <td>78025433</td>\n",
       "      <td>MS</td>\n",
       "      <td>1982.0</td>\n",
       "      <td>2010.0</td>\n",
       "      <td>2020</td>\n",
       "    </tr>\n",
       "    <tr>\n",
       "      <th>4</th>\n",
       "      <td>CAMPUS CUIABÁ</td>\n",
       "      <td>DIREITO - SERIADO MATUTINO</td>\n",
       "      <td>F</td>\n",
       "      <td>1992-01-10 00:00:00.000</td>\n",
       "      <td>Solteiro(a)</td>\n",
       "      <td>EXCLUSAO POR DESISTENCIA</td>\n",
       "      <td>20201</td>\n",
       "      <td>RUA I, N 91, CS 03, RES GOLDEN VILLE</td>\n",
       "      <td>CUIABA</td>\n",
       "      <td>ALVORADA</td>\n",
       "      <td>78048487</td>\n",
       "      <td>MT</td>\n",
       "      <td>1992.0</td>\n",
       "      <td>2010.0</td>\n",
       "      <td>2020</td>\n",
       "    </tr>\n",
       "    <tr>\n",
       "      <th>...</th>\n",
       "      <td>...</td>\n",
       "      <td>...</td>\n",
       "      <td>...</td>\n",
       "      <td>...</td>\n",
       "      <td>...</td>\n",
       "      <td>...</td>\n",
       "      <td>...</td>\n",
       "      <td>...</td>\n",
       "      <td>...</td>\n",
       "      <td>...</td>\n",
       "      <td>...</td>\n",
       "      <td>...</td>\n",
       "      <td>...</td>\n",
       "      <td>...</td>\n",
       "      <td>...</td>\n",
       "    </tr>\n",
       "    <tr>\n",
       "      <th>11550</th>\n",
       "      <td>CAMPUS SINOP</td>\n",
       "      <td>MEDICINA VETERINÁRIA - BACHARELADO</td>\n",
       "      <td>F</td>\n",
       "      <td>2005-09-30 00:00:00.000</td>\n",
       "      <td>Solteiro(a)</td>\n",
       "      <td>EXCLUSAO CONFORME EDITAL SISU - PELA INSTITUIÇÃO</td>\n",
       "      <td>20241</td>\n",
       "      <td>Avenida Curuá-Una, 7055</td>\n",
       "      <td>SANTAREM</td>\n",
       "      <td>Jutaí</td>\n",
       "      <td>68045000</td>\n",
       "      <td>PA</td>\n",
       "      <td>2005.0</td>\n",
       "      <td>2024.0</td>\n",
       "      <td>2024</td>\n",
       "    </tr>\n",
       "    <tr>\n",
       "      <th>11551</th>\n",
       "      <td>CAMPUS SINOP</td>\n",
       "      <td>ZOOTECNIA - BACHARELADO</td>\n",
       "      <td>F</td>\n",
       "      <td>2002-05-15 00:00:00.000</td>\n",
       "      <td>Solteiro(a)</td>\n",
       "      <td>EXCLUSAO POR DESISTENCIA</td>\n",
       "      <td>20241</td>\n",
       "      <td>Rua Vinte e Quatro, 174</td>\n",
       "      <td>BETIM</td>\n",
       "      <td>Capelinha</td>\n",
       "      <td>32678270</td>\n",
       "      <td>MG</td>\n",
       "      <td>2002.0</td>\n",
       "      <td>2024.0</td>\n",
       "      <td>2024</td>\n",
       "    </tr>\n",
       "    <tr>\n",
       "      <th>11552</th>\n",
       "      <td>CAMPUS SINOP</td>\n",
       "      <td>ENGENHARIA AGRÍCOLA E AMBIENTAL  BACHARELADO</td>\n",
       "      <td>F</td>\n",
       "      <td>2003-03-28 00:00:00.000</td>\n",
       "      <td>Solteiro(a)</td>\n",
       "      <td>EXCLUSAO CONFORME EDITAL SISU - PELA INSTITUIÇÃO</td>\n",
       "      <td>20241</td>\n",
       "      <td>Rua G-1, 367</td>\n",
       "      <td>CUIABA</td>\n",
       "      <td>Residencial Nova Canaã</td>\n",
       "      <td>78052860</td>\n",
       "      <td>MT</td>\n",
       "      <td>2003.0</td>\n",
       "      <td>2024.0</td>\n",
       "      <td>2024</td>\n",
       "    </tr>\n",
       "    <tr>\n",
       "      <th>11553</th>\n",
       "      <td>CAMPUS SINOP</td>\n",
       "      <td>QUÍMICA - BACHARELADO</td>\n",
       "      <td>M</td>\n",
       "      <td>1980-11-01 00:00:00.000</td>\n",
       "      <td>Solteiro(a)</td>\n",
       "      <td>EXCLUSAO CONFORME EDITAL SISU - PELA INSTITUIÇÃO</td>\n",
       "      <td>20241</td>\n",
       "      <td>Rua Ary Barroso, 218</td>\n",
       "      <td>SINOP</td>\n",
       "      <td>Aquarela Brasil Residencial</td>\n",
       "      <td>78556554</td>\n",
       "      <td>MT</td>\n",
       "      <td>1980.0</td>\n",
       "      <td>2024.0</td>\n",
       "      <td>2024</td>\n",
       "    </tr>\n",
       "    <tr>\n",
       "      <th>11554</th>\n",
       "      <td>CAMPUS VÁRZEA GRANDE</td>\n",
       "      <td>ENGENHARIA DE TRANSPORTES</td>\n",
       "      <td>M</td>\n",
       "      <td>2005-10-12 00:00:00.000</td>\n",
       "      <td>Solteiro(a)</td>\n",
       "      <td>EXCLUSAO CONFORME EDITAL SISU - PELA INSTITUIÇÃO</td>\n",
       "      <td>20241</td>\n",
       "      <td>Rua das Aroeiras, 31</td>\n",
       "      <td>CUIABA</td>\n",
       "      <td>Novo Mundo</td>\n",
       "      <td>78149496</td>\n",
       "      <td>MT</td>\n",
       "      <td>2005.0</td>\n",
       "      <td>2024.0</td>\n",
       "      <td>2024</td>\n",
       "    </tr>\n",
       "  </tbody>\n",
       "</table>\n",
       "<p>11555 rows × 15 columns</p>\n",
       "</div>"
      ],
      "text/plain": [
       "                     campus                                            curso  \\\n",
       "0             CAMPUS CUIABÁ                       ENGENHARIA CIVIL - SERIADO   \n",
       "1             CAMPUS CUIABÁ                  BACHARELADO EM CIÊNCIAS SOCIAIS   \n",
       "2             CAMPUS CUIABÁ  ENGENHARIA SANITARIA E AMBIENTAL - SERIADO  SEM   \n",
       "3             CAMPUS CUIABÁ                               GEOLOGIA - SERIADO   \n",
       "4             CAMPUS CUIABÁ                       DIREITO - SERIADO MATUTINO   \n",
       "...                     ...                                              ...   \n",
       "11550          CAMPUS SINOP               MEDICINA VETERINÁRIA - BACHARELADO   \n",
       "11551          CAMPUS SINOP                          ZOOTECNIA - BACHARELADO   \n",
       "11552          CAMPUS SINOP     ENGENHARIA AGRÍCOLA E AMBIENTAL  BACHARELADO   \n",
       "11553          CAMPUS SINOP                            QUÍMICA - BACHARELADO   \n",
       "11554  CAMPUS VÁRZEA GRANDE                        ENGENHARIA DE TRANSPORTES   \n",
       "\n",
       "      sexo           dataNascimento  estadoCivil  \\\n",
       "0        M  1987-04-23 00:00:00.000  Solteiro(a)   \n",
       "1        M  1992-04-16 00:00:00.000  Solteiro(a)   \n",
       "2        F  1990-10-10 00:00:00.000  Solteiro(a)   \n",
       "3        M  1982-09-30 00:00:00.000  Solteiro(a)   \n",
       "4        F  1992-01-10 00:00:00.000  Solteiro(a)   \n",
       "...    ...                      ...          ...   \n",
       "11550    F  2005-09-30 00:00:00.000  Solteiro(a)   \n",
       "11551    F  2002-05-15 00:00:00.000  Solteiro(a)   \n",
       "11552    F  2003-03-28 00:00:00.000  Solteiro(a)   \n",
       "11553    M  1980-11-01 00:00:00.000  Solteiro(a)   \n",
       "11554    M  2005-10-12 00:00:00.000  Solteiro(a)   \n",
       "\n",
       "                                    ocorrenciaDescricao  periodo  \\\n",
       "0                              EXCLUSAO POR DESISTENCIA    20201   \n",
       "1                              EXCLUSAO POR DESISTENCIA    20201   \n",
       "2                              EXCLUSAO POR DESISTENCIA    20201   \n",
       "3                              EXCLUSAO POR DESISTENCIA    20201   \n",
       "4                              EXCLUSAO POR DESISTENCIA    20201   \n",
       "...                                                 ...      ...   \n",
       "11550  EXCLUSAO CONFORME EDITAL SISU - PELA INSTITUIÇÃO    20241   \n",
       "11551                          EXCLUSAO POR DESISTENCIA    20241   \n",
       "11552  EXCLUSAO CONFORME EDITAL SISU - PELA INSTITUIÇÃO    20241   \n",
       "11553  EXCLUSAO CONFORME EDITAL SISU - PELA INSTITUIÇÃO    20241   \n",
       "11554  EXCLUSAO CONFORME EDITAL SISU - PELA INSTITUIÇÃO    20241   \n",
       "\n",
       "                                                endereco   municipio  \\\n",
       "0                           RUA CURSINO DO AMARANTE 1022      CUIABA   \n",
       "1                                            Rua A, n250      CUIABA   \n",
       "2      RUA AMÂNCIO PEDROSO DE JESUS                  ...      CUIABA   \n",
       "3                              TRAVESSA AGUA CLARA - 119  AQUIDAUANA   \n",
       "4                   RUA I, N 91, CS 03, RES GOLDEN VILLE      CUIABA   \n",
       "...                                                  ...         ...   \n",
       "11550                            Avenida Curuá-Una, 7055    SANTAREM   \n",
       "11551                            Rua Vinte e Quatro, 174       BETIM   \n",
       "11552                                       Rua G-1, 367      CUIABA   \n",
       "11553                               Rua Ary Barroso, 218       SINOP   \n",
       "11554                               Rua das Aroeiras, 31      CUIABA   \n",
       "\n",
       "                            bairro       cep  uf  anoNascimento  anoIngresso  \\\n",
       "0                         QUILOMBO  78045070  MT         1987.0       2008.0   \n",
       "1      Bairro Residencial Paiaguas  78048258  MT         1992.0       2010.0   \n",
       "2                          CARUMBÉ  78050660  MT         1990.0       2009.0   \n",
       "3                       COHAB NOVA  78025433  MS         1982.0       2010.0   \n",
       "4                         ALVORADA  78048487  MT         1992.0       2010.0   \n",
       "...                            ...       ...  ..            ...          ...   \n",
       "11550                        Jutaí  68045000  PA         2005.0       2024.0   \n",
       "11551                    Capelinha  32678270  MG         2002.0       2024.0   \n",
       "11552       Residencial Nova Canaã  78052860  MT         2003.0       2024.0   \n",
       "11553  Aquarela Brasil Residencial  78556554  MT         1980.0       2024.0   \n",
       "11554                   Novo Mundo  78149496  MT         2005.0       2024.0   \n",
       "\n",
       "       anoEvasao  \n",
       "0           2020  \n",
       "1           2020  \n",
       "2           2020  \n",
       "3           2020  \n",
       "4           2020  \n",
       "...          ...  \n",
       "11550       2024  \n",
       "11551       2024  \n",
       "11552       2024  \n",
       "11553       2024  \n",
       "11554       2024  \n",
       "\n",
       "[11555 rows x 15 columns]"
      ]
     },
     "execution_count": 3,
     "metadata": {},
     "output_type": "execute_result"
    }
   ],
   "source": [
    "# Carregar o dataset\n",
    "df = pd.read_csv(\"evasao.csv\")\n",
    "\n",
    "# Verificar o número de linhas e colunas\n",
    "print(\"Número de linhas e colunas:\", df.shape , \"\\n\")\n",
    "\n",
    "pd.DataFrame(df)"
   ]
  },
  {
   "cell_type": "markdown",
   "id": "a04cc0b3",
   "metadata": {},
   "source": [
    "### Informações gerais sobre o dataset\n"
   ]
  },
  {
   "cell_type": "code",
   "execution_count": 4,
   "id": "797931ba",
   "metadata": {},
   "outputs": [
    {
     "name": "stdout",
     "output_type": "stream",
     "text": [
      "<class 'pandas.core.frame.DataFrame'>\n",
      "RangeIndex: 11555 entries, 0 to 11554\n",
      "Data columns (total 15 columns):\n",
      " #   Column               Non-Null Count  Dtype  \n",
      "---  ------               --------------  -----  \n",
      " 0   campus               11555 non-null  object \n",
      " 1   curso                11555 non-null  object \n",
      " 2   sexo                 11555 non-null  object \n",
      " 3   dataNascimento       11554 non-null  object \n",
      " 4   estadoCivil          11555 non-null  object \n",
      " 5   ocorrenciaDescricao  11555 non-null  object \n",
      " 6   periodo              11555 non-null  int64  \n",
      " 7   endereco             11555 non-null  object \n",
      " 8   municipio            11550 non-null  object \n",
      " 9   bairro               11555 non-null  object \n",
      " 10  cep                  11519 non-null  object \n",
      " 11  uf                   11550 non-null  object \n",
      " 12  anoNascimento        11554 non-null  float64\n",
      " 13  anoIngresso          11552 non-null  float64\n",
      " 14  anoEvasao            11555 non-null  int64  \n",
      "dtypes: float64(2), int64(2), object(11)\n",
      "memory usage: 1.3+ MB\n"
     ]
    }
   ],
   "source": [
    "df.info()"
   ]
  },
  {
   "cell_type": "code",
   "execution_count": 5,
   "id": "cd5130b6",
   "metadata": {},
   "outputs": [
    {
     "data": {
      "text/plain": [
       "campus                     4\n",
       "curso                    148\n",
       "sexo                       2\n",
       "dataNascimento          6065\n",
       "estadoCivil                3\n",
       "ocorrenciaDescricao       19\n",
       "periodo                    9\n",
       "endereco               10887\n",
       "municipio                632\n",
       "bairro                  3729\n",
       "cep                     5168\n",
       "uf                        27\n",
       "anoNascimento             65\n",
       "anoIngresso               24\n",
       "anoEvasao                  5\n",
       "dtype: int64"
      ]
     },
     "execution_count": 5,
     "metadata": {},
     "output_type": "execute_result"
    }
   ],
   "source": [
    "#Verifica a quantidade de valores únicos por coluna \n",
    "df.nunique()"
   ]
  },
  {
   "cell_type": "markdown",
   "id": "64219c33",
   "metadata": {},
   "source": [
    "<div style = 'color: red;'> \n",
    "\n",
    "#### Observação: \n",
    "\n",
    "</div>\n",
    "Para este dataset, as variáveis numéricas úteis são:anoNascimento, anoIngresso, anoEvasao. Logo irei criar a idade dos alunos no ano de ingresso e no ano de evasão\n",
    "\n",
    "\n"
   ]
  },
  {
   "cell_type": "markdown",
   "id": "15c47ba1",
   "metadata": {},
   "source": [
    "#### Conversão de colunas de data e criação de variáveis úteis"
   ]
  },
  {
   "cell_type": "code",
   "execution_count": 6,
   "id": "e00322e3",
   "metadata": {},
   "outputs": [],
   "source": [
    "# Convertendo data de nascimento para datetime\n",
    "df['dataNascimento'] = pd.to_datetime(df['dataNascimento'], errors='coerce')"
   ]
  },
  {
   "cell_type": "code",
   "execution_count": 9,
   "id": "3dfb0dff",
   "metadata": {},
   "outputs": [],
   "source": [
    "# Cria a idade do aluno no ano de evasão \n",
    "df['idade_evasao'] = df['anoEvasao'] - df['dataNascimento'].dt.year\n"
   ]
  },
  {
   "cell_type": "code",
   "execution_count": 21,
   "id": "21a1decb",
   "metadata": {},
   "outputs": [],
   "source": [
    "# Cálculo da idade no ano de ingresso\n",
    "df['idade_ingresso'] = df['anoIngresso'] - df['dataNascimento'].dt.year"
   ]
  },
  {
   "cell_type": "markdown",
   "id": "2c14b77d",
   "metadata": {},
   "source": [
    "### Medidas de tendência central (idade)"
   ]
  },
  {
   "cell_type": "markdown",
   "id": "64cce3a2",
   "metadata": {},
   "source": [
    "#### Idade no Ingresso"
   ]
  },
  {
   "cell_type": "code",
   "execution_count": 22,
   "id": "0a25242c",
   "metadata": {},
   "outputs": [
    {
     "name": "stdout",
     "output_type": "stream",
     "text": [
      "\n",
      "Medidas de Tendência Central - Idade no Ingresso:\n",
      "\n",
      "Média: 23.466279975759676\n",
      "Mediana: 20.0\n",
      "Moda: 19.0\n"
     ]
    }
   ],
   "source": [
    "print(\"\\nMedidas de Tendência Central - Idade no Ingresso:\\n\")\n",
    "print(\"Média:\", df['idade_ingresso'].mean())\n",
    "print(\"Mediana:\", df['idade_ingresso'].median())\n",
    "print(\"Moda:\", df['idade_ingresso'].mode()[0])\n"
   ]
  },
  {
   "cell_type": "markdown",
   "id": "c11bb4d1",
   "metadata": {},
   "source": [
    "#### Idade na evasão"
   ]
  },
  {
   "cell_type": "code",
   "execution_count": null,
   "id": "e286ad9f",
   "metadata": {},
   "outputs": [
    {
     "name": "stdout",
     "output_type": "stream",
     "text": [
      "\n",
      "Medidas de Tendência Central - Idade na Evasão:\n",
      "\n",
      "Média: 27.40643932837113\n",
      "Mediana: 25.0\n",
      "Moda: 20.0\n"
     ]
    }
   ],
   "source": [
    "print(\"\\nMedidas de Tendência Central - Idade na Evasão:\\n\")\n",
    "print(\"Média:\", df['idade_evasao'].mean())\n",
    "print(\"Mediana:\", df['idade_evasao'].median())\n",
    "print(\"Moda:\", df['idade_evasao'].mode()[0])\n"
   ]
  },
  {
   "cell_type": "markdown",
   "id": "a169509c",
   "metadata": {},
   "source": [
    "### Medidas de dispersão (idade)"
   ]
  },
  {
   "cell_type": "markdown",
   "id": "40a2e577",
   "metadata": {},
   "source": [
    "#### Idade no Ingresso"
   ]
  },
  {
   "cell_type": "code",
   "execution_count": 23,
   "id": "ffb2d9e9",
   "metadata": {},
   "outputs": [
    {
     "name": "stdout",
     "output_type": "stream",
     "text": [
      "\n",
      "Medidas de Dispersão - Idade no Ingresso:\n",
      "\n",
      "Desvio padrão: 7.680021960931796\n",
      "Variância: 58.98273732039467\n",
      "Amplitude: 72.0\n"
     ]
    }
   ],
   "source": [
    "print(\"\\nMedidas de Dispersão - Idade no Ingresso:\\n\")\n",
    "print(\"Desvio padrão:\", df['idade_ingresso'].std())\n",
    "print(\"Variância:\", df['idade_ingresso'].var())\n",
    "print(\"Amplitude:\", df['idade_ingresso'].max() - df['idade_ingresso'].min())\n"
   ]
  },
  {
   "cell_type": "markdown",
   "id": "0b0ffb62",
   "metadata": {},
   "source": [
    "#### Idade na evasão"
   ]
  },
  {
   "cell_type": "code",
   "execution_count": null,
   "id": "37442540",
   "metadata": {},
   "outputs": [
    {
     "name": "stdout",
     "output_type": "stream",
     "text": [
      "Desvio padrão: 8.654356895057399\n",
      "Variância: 74.89789326702754\n",
      "Amplitude: 79.0\n"
     ]
    }
   ],
   "source": [
    "print(\"Desvio padrão:\", df['idade_evasao'].std())\n",
    "print(\"Variância:\", df['idade_evasao'].var())\n",
    "print(\"Amplitude:\", df['idade_evasao'].max() - df['idade_evasao'].min())"
   ]
  },
  {
   "cell_type": "markdown",
   "id": "abe558ac",
   "metadata": {},
   "source": [
    "### Medidas de forma (idade)"
   ]
  },
  {
   "cell_type": "markdown",
   "id": "cc571044",
   "metadata": {},
   "source": [
    "#### Assimetria"
   ]
  },
  {
   "cell_type": "markdown",
   "id": "29aac162",
   "metadata": {},
   "source": [
    "##### Idade no Ingresso"
   ]
  },
  {
   "cell_type": "code",
   "execution_count": null,
   "id": "a03c1e02",
   "metadata": {},
   "outputs": [
    {
     "name": "stdout",
     "output_type": "stream",
     "text": [
      "Assimetria (Skewness): 2.1238382287664317\n"
     ]
    }
   ],
   "source": [
    "print(\"Assimetria (Skewness):\", skew(df['idade_ingresso'].dropna()))"
   ]
  },
  {
   "cell_type": "markdown",
   "id": "70ec014e",
   "metadata": {},
   "source": [
    "##### Idade na evasão"
   ]
  },
  {
   "cell_type": "code",
   "execution_count": null,
   "id": "a76328fc",
   "metadata": {},
   "outputs": [
    {
     "name": "stdout",
     "output_type": "stream",
     "text": [
      "Assimetria (Skewness): 1.5907306499442602\n"
     ]
    }
   ],
   "source": [
    "print(\"Assimetria (Skewness):\", skew(df['idade_evasao'].dropna()))"
   ]
  },
  {
   "cell_type": "markdown",
   "id": "b3bd02af",
   "metadata": {},
   "source": [
    "#### Curtose"
   ]
  },
  {
   "cell_type": "markdown",
   "id": "ae93fc9a",
   "metadata": {},
   "source": [
    "##### Idade no Ingresso"
   ]
  },
  {
   "cell_type": "code",
   "execution_count": null,
   "id": "3296ec25",
   "metadata": {},
   "outputs": [],
   "source": [
    "print(\"Curtose (Kurtosis):\", kurtosis(df['idade_ingresso'].dropna()))"
   ]
  },
  {
   "cell_type": "markdown",
   "id": "4e73fb48",
   "metadata": {},
   "source": [
    "##### Idade na Evasão"
   ]
  },
  {
   "cell_type": "code",
   "execution_count": 13,
   "id": "4f4192fe",
   "metadata": {},
   "outputs": [
    {
     "name": "stdout",
     "output_type": "stream",
     "text": [
      "Curtose (Kurtosis): 2.950641791152405\n"
     ]
    }
   ],
   "source": [
    "print(\"Curtose (Kurtosis):\", kurtosis(df['idade_evasao'].dropna()))"
   ]
  },
  {
   "cell_type": "markdown",
   "id": "7d2ac1de",
   "metadata": {},
   "source": [
    "### Quartis, IQR e detecção de outliers"
   ]
  },
  {
   "cell_type": "markdown",
   "id": "7dc6bd22",
   "metadata": {},
   "source": [
    "### Idade no Ingresso"
   ]
  },
  {
   "cell_type": "code",
   "execution_count": 25,
   "id": "0b8b3ddc",
   "metadata": {},
   "outputs": [
    {
     "name": "stdout",
     "output_type": "stream",
     "text": [
      "\n",
      "Quartis:\n",
      "Q1: 19.0\n",
      "Q3: 25.0\n",
      "IQR: 6.0\n",
      "Outliers encontrados: 1162\n"
     ]
    }
   ],
   "source": [
    "# Cálculo dos quartis e IQR\n",
    "Q1 = df['idade_ingresso'].quantile(0.25)\n",
    "Q3 = df['idade_ingresso'].quantile(0.75)\n",
    "IQR = Q3 - Q1\n",
    "\n",
    "# Limites para definir outliers\n",
    "limite_inferior = Q1 - 1.5 * IQR\n",
    "limite_superior = Q3 + 1.5 * IQR\n",
    "\n",
    "# Filtrando outliers\n",
    "outliers = df[(df['idade_ingresso'] < limite_inferior) | (df['idade_ingresso'] > limite_superior)]\n",
    "\n",
    "# Resultado\n",
    "print(\"\\nQuartis:\")\n",
    "print(\"Q1:\", Q1)\n",
    "print(\"Q3:\", Q3)\n",
    "print(\"IQR:\", IQR)\n",
    "print(f\"Outliers encontrados: {len(outliers)}\")\n"
   ]
  },
  {
   "cell_type": "markdown",
   "id": "5098a442",
   "metadata": {},
   "source": [
    "### Idade na Evasão"
   ]
  },
  {
   "cell_type": "code",
   "execution_count": 16,
   "id": "62f0bbc6",
   "metadata": {},
   "outputs": [
    {
     "name": "stdout",
     "output_type": "stream",
     "text": [
      "\n",
      "Quartis:\n",
      "Q1: 21.0\n",
      "Q3: 31.0\n",
      "IQR: 10.0\n",
      "Outliers encontrados: 520\n"
     ]
    }
   ],
   "source": [
    "Q1 = df['idade_evasao'].quantile(0.25)\n",
    "Q3 = df['idade_evasao'].quantile(0.75)\n",
    "IQR = Q3 - Q1\n",
    "\n",
    "limite_inferior = Q1 - 1.5 * IQR\n",
    "limite_superior = Q3 + 1.5 * IQR\n",
    "\n",
    "outliers = df[(df['idade_evasao'] < limite_inferior) | (df['idade_evasao'] > limite_superior)]\n",
    "print(\"\\nQuartis:\")\n",
    "print(\"Q1:\", Q1)\n",
    "print(\"Q3:\", Q3)\n",
    "print(\"IQR:\", IQR)\n",
    "print(f'Outliers encontrados: {len(outliers)}')\n"
   ]
  },
  {
   "cell_type": "markdown",
   "id": "c611df15",
   "metadata": {},
   "source": [
    "### Visualizações"
   ]
  },
  {
   "cell_type": "markdown",
   "id": "c7249c01",
   "metadata": {},
   "source": [
    "#### Histograma da idade no ingresso"
   ]
  },
  {
   "cell_type": "code",
   "execution_count": 26,
   "id": "264c082c",
   "metadata": {},
   "outputs": [
    {
     "data": {
      "image/png": "[encoded data removed]",
      "text/plain": [
       "<Figure size 640x480 with 1 Axes>"
      ]
     },
     "metadata": {},
     "output_type": "display_data"
    }
   ],
   "source": [
    "df['idade_ingresso'].hist(bins=30)\n",
    "plt.title('Distribuição de Idade na Evasão')\n",
    "plt.xlabel('Idade')\n",
    "plt.ylabel('Frequência')\n",
    "plt.grid(True)\n",
    "plt.show()\n"
   ]
  },
  {
   "cell_type": "markdown",
   "id": "b526ade3",
   "metadata": {},
   "source": [
    "#### Histograma da idade na evasão"
   ]
  },
  {
   "cell_type": "code",
   "execution_count": 17,
   "id": "784dfb55",
   "metadata": {},
   "outputs": [
    {
     "data": {
      "image/png": "[encoded data removed]",
      "text/plain": [
       "<Figure size 640x480 with 1 Axes>"
      ]
     },
     "metadata": {},
     "output_type": "display_data"
    }
   ],
   "source": [
    "df['idade_evasao'].hist(bins=30)\n",
    "plt.title('Distribuição de Idade na Evasão')\n",
    "plt.xlabel('Idade')\n",
    "plt.ylabel('Frequência')\n",
    "plt.grid(True)\n",
    "plt.show()\n"
   ]
  },
  {
   "cell_type": "markdown",
   "id": "9a40fff1",
   "metadata": {},
   "source": [
    "#### Boxplot da idade no Ingresso"
   ]
  },
  {
   "cell_type": "code",
   "execution_count": 27,
   "id": "64ca7281",
   "metadata": {},
   "outputs": [
    {
     "data": {
      "image/png": "[encoded data removed]",
      "text/plain": [
       "<Figure size 800x400 with 1 Axes>"
      ]
     },
     "metadata": {},
     "output_type": "display_data"
    }
   ],
   "source": [
    "plt.figure(figsize=(8, 4))\n",
    "sns.boxplot(x=df['idade_ingresso'])\n",
    "plt.title(\"Boxplot - Idade no Ingresso\")\n",
    "plt.xlabel(\"Idade\")\n",
    "plt.grid(True)\n",
    "plt.show()"
   ]
  },
  {
   "cell_type": "markdown",
   "id": "40bc5cfb",
   "metadata": {},
   "source": [
    "#### Boxplot da idade na Evasão"
   ]
  },
  {
   "cell_type": "code",
   "execution_count": 28,
   "id": "8117e023",
   "metadata": {},
   "outputs": [
    {
     "data": {
      "image/png": "[encoded data removed]",
      "text/plain": [
       "<Figure size 800x400 with 1 Axes>"
      ]
     },
     "metadata": {},
     "output_type": "display_data"
    }
   ],
   "source": [
    "plt.figure(figsize=(8, 4))\n",
    "sns.boxplot(x=df['idade_evasao'])\n",
    "plt.title(\"Boxplot - Idade no evasão\")\n",
    "plt.xlabel(\"Idade\")\n",
    "plt.grid(True)\n",
    "plt.show()"
   ]
  }
 ],
 "metadata": {
  "kernelspec": {
   "display_name": "venv",
   "language": "python",
   "name": "venv"
  },
  "language_info": {
   "codemirror_mode": {
    "name": "ipython",
    "version": 3
   },
   "file_extension": ".py",
   "mimetype": "text/x-python",
   "name": "python",
   "nbconvert_exporter": "python",
   "pygments_lexer": "ipython3",
   "version": "3.12.6"
  }
 },
 "nbformat": 4,
 "nbformat_minor": 5
}
