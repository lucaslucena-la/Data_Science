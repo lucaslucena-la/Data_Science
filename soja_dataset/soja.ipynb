{
 "cells": [
  {
   "cell_type": "code",
   "execution_count": 8,
   "id": "bfee5744",
   "metadata": {},
   "outputs": [
    {
     "name": "stdout",
     "output_type": "stream",
     "text": [
      "Média:\n",
      "Estadual    69.006515\n",
      "Nacional    72.807099\n",
      "dtype: float64\n",
      "\n",
      "Mediana:\n",
      "Estadual    56.5336\n",
      "Nacional    61.4030\n",
      "dtype: float64\n",
      "Não há moda em 'Estadual' (todos os valores são únicos).\n",
      "Não há moda em 'Nacional' (todos os valores são únicos).\n"
     ]
    }
   ],
   "source": [
    "import pandas as pd\n",
    "\n",
    "df = pd.read_csv('preco_soja.csv', sep=',')\n",
    "\n",
    "df['Estadual'] = df['Estadual'].astype(str).str.replace(',', '.').astype(float)\n",
    "df['Nacional'] = df['Nacional'].astype(str).str.replace(',', '.').astype(float)\n",
    "\n",
    "# Medidas de centralidade\n",
    "print(\"Média:\")\n",
    "print(df[['Estadual', 'Nacional']].mean())\n",
    "\n",
    "print(\"\\nMediana:\")\n",
    "print(df[['Estadual', 'Nacional']].median())\n",
    "\n",
    "moda_estadual = df['Estadual'].mode()\n",
    "moda_nacional = df['Nacional'].mode()\n",
    "\n",
    "if len(moda_estadual) == len(df['Estadual'].unique()):\n",
    "    print(\"Não há moda em 'Estadual' (todos os valores são únicos).\")\n",
    "else:\n",
    "    print(\"Moda Estadual:\", moda_estadual[0])\n",
    "\n",
    "if len(moda_nacional) == len(df['Nacional'].unique()):\n",
    "    print(\"Não há moda em 'Nacional' (todos os valores são únicos).\")\n",
    "else:\n",
    "    print(\"Moda Nacional:\", moda_nacional[0])\n"
   ]
  },
  {
   "cell_type": "code",
   "execution_count": 2,
   "id": "aca18d7b",
   "metadata": {},
   "outputs": [
    {
     "name": "stdout",
     "output_type": "stream",
     "text": [
      "Desvio padrão:\n",
      "Estadual    42.612101\n",
      "Nacional    43.074328\n",
      "dtype: float64\n",
      "\n",
      "Variância:\n",
      "Estadual    1815.791186\n",
      "Nacional    1855.397709\n",
      "dtype: float64\n",
      "\n",
      "Amplitude:\n",
      "Estadual    161.9111\n",
      "Nacional    169.9885\n",
      "dtype: float64\n"
     ]
    }
   ],
   "source": [
    "# Medidas de dispersão\n",
    "print(\"Desvio padrão:\")\n",
    "print(df[['Estadual', 'Nacional']].std())\n",
    "\n",
    "print(\"\\nVariância:\")\n",
    "print(df[['Estadual', 'Nacional']].var())\n",
    "\n",
    "print(\"\\nAmplitude:\")\n",
    "print(df[['Estadual', 'Nacional']].max() - df[['Estadual', 'Nacional']].min())\n"
   ]
  },
  {
   "cell_type": "code",
   "execution_count": 3,
   "id": "5a545352",
   "metadata": {},
   "outputs": [
    {
     "name": "stdout",
     "output_type": "stream",
     "text": [
      "Correlação (Pearson):\n",
      "          Estadual  Nacional\n",
      "Estadual  1.000000  0.996386\n",
      "Nacional  0.996386  1.000000\n"
     ]
    }
   ],
   "source": [
    "# Correlação entre os preços Estadual e Nacional\n",
    "print(\"Correlação (Pearson):\")\n",
    "print(df[['Estadual', 'Nacional']].corr())\n"
   ]
  }
 ],
 "metadata": {
  "kernelspec": {
   "display_name": "venv",
   "language": "python",
   "name": "venv"
  },
  "language_info": {
   "codemirror_mode": {
    "name": "ipython",
    "version": 3
   },
   "file_extension": ".py",
   "mimetype": "text/x-python",
   "name": "python",
   "nbconvert_exporter": "python",
   "pygments_lexer": "ipython3",
   "version": "3.12.6"
  }
 },
 "nbformat": 4,
 "nbformat_minor": 5
}
