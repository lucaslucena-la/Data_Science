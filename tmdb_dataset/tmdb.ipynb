{
 "cells": [
  {
   "cell_type": "markdown",
   "id": "a098959b",
   "metadata": {},
   "source": [
    "# EDA com Pandas"
   ]
  },
  {
   "cell_type": "code",
   "execution_count": 2,
   "id": "2919a509",
   "metadata": {},
   "outputs": [],
   "source": [
    "import pandas as pd\n",
    "import numpy as np\n",
    "import matplotlib.pyplot as plt\n",
    "import seaborn as sns\n",
    "from scipy.stats import shapiro, ttest_ind, mannwhitneyu\n",
    "import ast"
   ]
  },
  {
   "cell_type": "markdown",
   "id": "526b115d",
   "metadata": {},
   "source": [
    "## Carregamento dos Datasets"
   ]
  },
  {
   "cell_type": "code",
   "execution_count": 3,
   "id": "429847cd",
   "metadata": {},
   "outputs": [
    {
     "name": "stdout",
     "output_type": "stream",
     "text": [
      "Número de linhas e colunas: (4803, 20) \n",
      "\n"
     ]
    }
   ],
   "source": [
    "# Carregar o dataset\n",
    "df = pd.read_csv(\"tmdb_5000_movies.csv\")\n",
    "\n",
    "# Verificar o número de linhas e colunas\n",
    "print(\"Número de linhas e colunas:\", df.shape , \"\\n\")\n",
    "\n"
   ]
  },
  {
   "cell_type": "markdown",
   "id": "b9e3514b",
   "metadata": {},
   "source": [
    "Algumas informações\n"
   ]
  },
  {
   "cell_type": "code",
   "execution_count": 4,
   "id": "fcbfede8",
   "metadata": {},
   "outputs": [
    {
     "name": "stdout",
     "output_type": "stream",
     "text": [
      "<class 'pandas.core.frame.DataFrame'>\n",
      "RangeIndex: 4803 entries, 0 to 4802\n",
      "Data columns (total 20 columns):\n",
      " #   Column                Non-Null Count  Dtype  \n",
      "---  ------                --------------  -----  \n",
      " 0   budget                4803 non-null   int64  \n",
      " 1   genres                4803 non-null   object \n",
      " 2   homepage              1712 non-null   object \n",
      " 3   id                    4803 non-null   int64  \n",
      " 4   keywords              4803 non-null   object \n",
      " 5   original_language     4803 non-null   object \n",
      " 6   original_title        4803 non-null   object \n",
      " 7   overview              4800 non-null   object \n",
      " 8   popularity            4803 non-null   float64\n",
      " 9   production_companies  4803 non-null   object \n",
      " 10  production_countries  4803 non-null   object \n",
      " 11  release_date          4802 non-null   object \n",
      " 12  revenue               4803 non-null   int64  \n",
      " 13  runtime               4801 non-null   float64\n",
      " 14  spoken_languages      4803 non-null   object \n",
      " 15  status                4803 non-null   object \n",
      " 16  tagline               3959 non-null   object \n",
      " 17  title                 4803 non-null   object \n",
      " 18  vote_average          4803 non-null   float64\n",
      " 19  vote_count            4803 non-null   int64  \n",
      "dtypes: float64(3), int64(4), object(13)\n",
      "memory usage: 750.6+ KB\n"
     ]
    }
   ],
   "source": [
    "df.info()"
   ]
  },
  {
   "cell_type": "code",
   "execution_count": 5,
   "id": "b30ed3cf",
   "metadata": {},
   "outputs": [
    {
     "data": {
      "text/html": [
       "<div>\n",
       "<style scoped>\n",
       "    .dataframe tbody tr th:only-of-type {\n",
       "        vertical-align: middle;\n",
       "    }\n",
       "\n",
       "    .dataframe tbody tr th {\n",
       "        vertical-align: top;\n",
       "    }\n",
       "\n",
       "    .dataframe thead th {\n",
       "        text-align: right;\n",
       "    }\n",
       "</style>\n",
       "<table border=\"1\" class=\"dataframe\">\n",
       "  <thead>\n",
       "    <tr style=\"text-align: right;\">\n",
       "      <th></th>\n",
       "      <th>budget</th>\n",
       "      <th>id</th>\n",
       "      <th>popularity</th>\n",
       "      <th>revenue</th>\n",
       "      <th>runtime</th>\n",
       "      <th>vote_average</th>\n",
       "      <th>vote_count</th>\n",
       "    </tr>\n",
       "  </thead>\n",
       "  <tbody>\n",
       "    <tr>\n",
       "      <th>count</th>\n",
       "      <td>4.803000e+03</td>\n",
       "      <td>4803.000000</td>\n",
       "      <td>4803.000000</td>\n",
       "      <td>4.803000e+03</td>\n",
       "      <td>4801.000000</td>\n",
       "      <td>4803.000000</td>\n",
       "      <td>4803.000000</td>\n",
       "    </tr>\n",
       "    <tr>\n",
       "      <th>mean</th>\n",
       "      <td>2.904504e+07</td>\n",
       "      <td>57165.484281</td>\n",
       "      <td>21.492301</td>\n",
       "      <td>8.226064e+07</td>\n",
       "      <td>106.875859</td>\n",
       "      <td>6.092172</td>\n",
       "      <td>690.217989</td>\n",
       "    </tr>\n",
       "    <tr>\n",
       "      <th>std</th>\n",
       "      <td>4.072239e+07</td>\n",
       "      <td>88694.614033</td>\n",
       "      <td>31.816650</td>\n",
       "      <td>1.628571e+08</td>\n",
       "      <td>22.611935</td>\n",
       "      <td>1.194612</td>\n",
       "      <td>1234.585891</td>\n",
       "    </tr>\n",
       "    <tr>\n",
       "      <th>min</th>\n",
       "      <td>0.000000e+00</td>\n",
       "      <td>5.000000</td>\n",
       "      <td>0.000000</td>\n",
       "      <td>0.000000e+00</td>\n",
       "      <td>0.000000</td>\n",
       "      <td>0.000000</td>\n",
       "      <td>0.000000</td>\n",
       "    </tr>\n",
       "    <tr>\n",
       "      <th>25%</th>\n",
       "      <td>7.900000e+05</td>\n",
       "      <td>9014.500000</td>\n",
       "      <td>4.668070</td>\n",
       "      <td>0.000000e+00</td>\n",
       "      <td>94.000000</td>\n",
       "      <td>5.600000</td>\n",
       "      <td>54.000000</td>\n",
       "    </tr>\n",
       "    <tr>\n",
       "      <th>50%</th>\n",
       "      <td>1.500000e+07</td>\n",
       "      <td>14629.000000</td>\n",
       "      <td>12.921594</td>\n",
       "      <td>1.917000e+07</td>\n",
       "      <td>103.000000</td>\n",
       "      <td>6.200000</td>\n",
       "      <td>235.000000</td>\n",
       "    </tr>\n",
       "    <tr>\n",
       "      <th>75%</th>\n",
       "      <td>4.000000e+07</td>\n",
       "      <td>58610.500000</td>\n",
       "      <td>28.313505</td>\n",
       "      <td>9.291719e+07</td>\n",
       "      <td>118.000000</td>\n",
       "      <td>6.800000</td>\n",
       "      <td>737.000000</td>\n",
       "    </tr>\n",
       "    <tr>\n",
       "      <th>max</th>\n",
       "      <td>3.800000e+08</td>\n",
       "      <td>459488.000000</td>\n",
       "      <td>875.581305</td>\n",
       "      <td>2.787965e+09</td>\n",
       "      <td>338.000000</td>\n",
       "      <td>10.000000</td>\n",
       "      <td>13752.000000</td>\n",
       "    </tr>\n",
       "  </tbody>\n",
       "</table>\n",
       "</div>"
      ],
      "text/plain": [
       "             budget             id   popularity       revenue      runtime  \\\n",
       "count  4.803000e+03    4803.000000  4803.000000  4.803000e+03  4801.000000   \n",
       "mean   2.904504e+07   57165.484281    21.492301  8.226064e+07   106.875859   \n",
       "std    4.072239e+07   88694.614033    31.816650  1.628571e+08    22.611935   \n",
       "min    0.000000e+00       5.000000     0.000000  0.000000e+00     0.000000   \n",
       "25%    7.900000e+05    9014.500000     4.668070  0.000000e+00    94.000000   \n",
       "50%    1.500000e+07   14629.000000    12.921594  1.917000e+07   103.000000   \n",
       "75%    4.000000e+07   58610.500000    28.313505  9.291719e+07   118.000000   \n",
       "max    3.800000e+08  459488.000000   875.581305  2.787965e+09   338.000000   \n",
       "\n",
       "       vote_average    vote_count  \n",
       "count   4803.000000   4803.000000  \n",
       "mean       6.092172    690.217989  \n",
       "std        1.194612   1234.585891  \n",
       "min        0.000000      0.000000  \n",
       "25%        5.600000     54.000000  \n",
       "50%        6.200000    235.000000  \n",
       "75%        6.800000    737.000000  \n",
       "max       10.000000  13752.000000  "
      ]
     },
     "execution_count": 5,
     "metadata": {},
     "output_type": "execute_result"
    }
   ],
   "source": [
    "df.describe()\n"
   ]
  },
  {
   "cell_type": "markdown",
   "id": "8d127387",
   "metadata": {},
   "source": [
    "Verificar Valores Unicos"
   ]
  },
  {
   "cell_type": "code",
   "execution_count": 6,
   "id": "649c995a",
   "metadata": {},
   "outputs": [
    {
     "name": "stdout",
     "output_type": "stream",
     "text": [
      "\n",
      "=== Valores Únicos (nunique) ===\n"
     ]
    },
    {
     "data": {
      "text/plain": [
       "budget                   436\n",
       "genres                  1175\n",
       "homepage                1691\n",
       "id                      4803\n",
       "keywords                4222\n",
       "original_language         37\n",
       "original_title          4801\n",
       "overview                4800\n",
       "popularity              4802\n",
       "production_companies    3697\n",
       "production_countries     469\n",
       "release_date            3280\n",
       "revenue                 3297\n",
       "runtime                  156\n",
       "spoken_languages         544\n",
       "status                     3\n",
       "tagline                 3944\n",
       "title                   4800\n",
       "vote_average              71\n",
       "vote_count              1609\n",
       "dtype: int64"
      ]
     },
     "execution_count": 6,
     "metadata": {},
     "output_type": "execute_result"
    }
   ],
   "source": [
    "print(\"\\n=== Valores Únicos (nunique) ===\")\n",
    "\n",
    "df.nunique()\n"
   ]
  },
  {
   "cell_type": "markdown",
   "id": "41ca2081",
   "metadata": {},
   "source": [
    "Verificar se há Duplicatas"
   ]
  },
  {
   "cell_type": "code",
   "execution_count": 7,
   "id": "c7bd42ed",
   "metadata": {},
   "outputs": [
    {
     "name": "stdout",
     "output_type": "stream",
     "text": [
      "\n",
      "=== Duplicatas (linhas) ===\n"
     ]
    },
    {
     "data": {
      "text/html": [
       "<div>\n",
       "<style scoped>\n",
       "    .dataframe tbody tr th:only-of-type {\n",
       "        vertical-align: middle;\n",
       "    }\n",
       "\n",
       "    .dataframe tbody tr th {\n",
       "        vertical-align: top;\n",
       "    }\n",
       "\n",
       "    .dataframe thead th {\n",
       "        text-align: right;\n",
       "    }\n",
       "</style>\n",
       "<table border=\"1\" class=\"dataframe\">\n",
       "  <thead>\n",
       "    <tr style=\"text-align: right;\">\n",
       "      <th></th>\n",
       "      <th>budget</th>\n",
       "      <th>genres</th>\n",
       "      <th>homepage</th>\n",
       "      <th>id</th>\n",
       "      <th>keywords</th>\n",
       "      <th>original_language</th>\n",
       "      <th>original_title</th>\n",
       "      <th>overview</th>\n",
       "      <th>popularity</th>\n",
       "      <th>production_companies</th>\n",
       "      <th>production_countries</th>\n",
       "      <th>release_date</th>\n",
       "      <th>revenue</th>\n",
       "      <th>runtime</th>\n",
       "      <th>spoken_languages</th>\n",
       "      <th>status</th>\n",
       "      <th>tagline</th>\n",
       "      <th>title</th>\n",
       "      <th>vote_average</th>\n",
       "      <th>vote_count</th>\n",
       "    </tr>\n",
       "  </thead>\n",
       "  <tbody>\n",
       "  </tbody>\n",
       "</table>\n",
       "</div>"
      ],
      "text/plain": [
       "Empty DataFrame\n",
       "Columns: [budget, genres, homepage, id, keywords, original_language, original_title, overview, popularity, production_companies, production_countries, release_date, revenue, runtime, spoken_languages, status, tagline, title, vote_average, vote_count]\n",
       "Index: []"
      ]
     },
     "execution_count": 7,
     "metadata": {},
     "output_type": "execute_result"
    }
   ],
   "source": [
    "print(\"\\n=== Duplicatas (linhas) ===\")\n",
    "df[df.duplicated()]\n"
   ]
  },
  {
   "cell_type": "markdown",
   "id": "bdcaf8a2",
   "metadata": {},
   "source": [
    "Verificar Valores nulos"
   ]
  },
  {
   "cell_type": "code",
   "execution_count": 8,
   "id": "f54282dd",
   "metadata": {},
   "outputs": [
    {
     "name": "stdout",
     "output_type": "stream",
     "text": [
      "\n",
      "=== Nulos por coluna ===\n"
     ]
    },
    {
     "data": {
      "text/plain": [
       "budget                     0\n",
       "genres                     0\n",
       "homepage                3091\n",
       "id                         0\n",
       "keywords                   0\n",
       "original_language          0\n",
       "original_title             0\n",
       "overview                   3\n",
       "popularity                 0\n",
       "production_companies       0\n",
       "production_countries       0\n",
       "release_date               1\n",
       "revenue                    0\n",
       "runtime                    2\n",
       "spoken_languages           0\n",
       "status                     0\n",
       "tagline                  844\n",
       "title                      0\n",
       "vote_average               0\n",
       "vote_count                 0\n",
       "dtype: int64"
      ]
     },
     "execution_count": 8,
     "metadata": {},
     "output_type": "execute_result"
    }
   ],
   "source": [
    "print(\"\\n=== Nulos por coluna ===\")\n",
    "df.isna().sum()\n"
   ]
  },
  {
   "cell_type": "code",
   "execution_count": 9,
   "id": "abc9cf15",
   "metadata": {},
   "outputs": [],
   "source": [
    "# Selecionar colunas essenciais para análise/merge\n",
    "tmdb = df[['id','original_title','release_date','genres','vote_average','vote_count']].copy()\n",
    "tmdb = tmdb.rename(columns={'id':'tmdbId'})"
   ]
  },
  {
   "cell_type": "code",
   "execution_count": 13,
   "id": "6d1f9a47",
   "metadata": {},
   "outputs": [],
   "source": [
    "# precisamos converter essas colunas em tipos de dados adequados\n",
    "tmdb['release_year'] = pd.to_datetime(tmdb['release_date'], errors='coerce').dt.year\n",
    "df['release_year'] = df['release_date'].dt.year\n"
   ]
  },
  {
   "cell_type": "markdown",
   "id": "e8e68599",
   "metadata": {},
   "source": [
    "### Carregamento dos Datasets MovieLens"
   ]
  },
  {
   "cell_type": "code",
   "execution_count": 14,
   "id": "28b408b9",
   "metadata": {},
   "outputs": [
    {
     "name": "stdout",
     "output_type": "stream",
     "text": [
      "Formato links: (87585, 3)\n",
      "Formato movies: (87585, 3)\n",
      "Formato ratings: (32000204, 4)\n"
     ]
    }
   ],
   "source": [
    "links = pd.read_csv(\"links.csv\")\n",
    "movies_ml = pd.read_csv(\"movies.csv\")\n",
    "ratings = pd.read_csv(\"ratings.csv\")\n",
    "\n",
    "print(\"Formato links:\", links.shape)\n",
    "print(\"Formato movies:\", movies_ml.shape)\n",
    "print(\"Formato ratings:\", ratings.shape)\n"
   ]
  },
  {
   "cell_type": "code",
   "execution_count": 15,
   "id": "430eb298",
   "metadata": {},
   "outputs": [],
   "source": [
    "# garantir tipos e chaves\n",
    "links['tmdbId'] = pd.to_numeric(links['tmdbId'], errors='coerce').astype('Int64')\n",
    "links = links.dropna(subset=['tmdbId']).copy()\n",
    "links['tmdbId'] = links['tmdbId'].astype('int64')\n",
    "ratings['movieId'] = ratings['movieId'].astype('int64')"
   ]
  },
  {
   "cell_type": "markdown",
   "id": "08aa6508",
   "metadata": {},
   "source": [
    "#### Carregamento DataSet Oscar"
   ]
  },
  {
   "cell_type": "code",
   "execution_count": 16,
   "id": "cff6f311",
   "metadata": {},
   "outputs": [
    {
     "data": {
      "text/html": [
       "<div>\n",
       "<style scoped>\n",
       "    .dataframe tbody tr th:only-of-type {\n",
       "        vertical-align: middle;\n",
       "    }\n",
       "\n",
       "    .dataframe tbody tr th {\n",
       "        vertical-align: top;\n",
       "    }\n",
       "\n",
       "    .dataframe thead th {\n",
       "        text-align: right;\n",
       "    }\n",
       "</style>\n",
       "<table border=\"1\" class=\"dataframe\">\n",
       "  <thead>\n",
       "    <tr style=\"text-align: right;\">\n",
       "      <th></th>\n",
       "      <th>year_film</th>\n",
       "      <th>year_ceremony</th>\n",
       "      <th>ceremony</th>\n",
       "      <th>category</th>\n",
       "      <th>canon_category</th>\n",
       "      <th>name</th>\n",
       "      <th>film</th>\n",
       "      <th>winner</th>\n",
       "    </tr>\n",
       "  </thead>\n",
       "  <tbody>\n",
       "    <tr>\n",
       "      <th>0</th>\n",
       "      <td>1927</td>\n",
       "      <td>1928</td>\n",
       "      <td>1</td>\n",
       "      <td>ACTOR</td>\n",
       "      <td>ACTOR IN A LEADING ROLE</td>\n",
       "      <td>Richard Barthelmess</td>\n",
       "      <td>The Noose</td>\n",
       "      <td>False</td>\n",
       "    </tr>\n",
       "    <tr>\n",
       "      <th>1</th>\n",
       "      <td>1927</td>\n",
       "      <td>1928</td>\n",
       "      <td>1</td>\n",
       "      <td>ACTOR</td>\n",
       "      <td>ACTOR IN A LEADING ROLE</td>\n",
       "      <td>Richard Barthelmess</td>\n",
       "      <td>The Patent Leather Kid</td>\n",
       "      <td>False</td>\n",
       "    </tr>\n",
       "    <tr>\n",
       "      <th>2</th>\n",
       "      <td>1927</td>\n",
       "      <td>1928</td>\n",
       "      <td>1</td>\n",
       "      <td>ACTOR</td>\n",
       "      <td>ACTOR IN A LEADING ROLE</td>\n",
       "      <td>Emil Jannings</td>\n",
       "      <td>The Last Command</td>\n",
       "      <td>True</td>\n",
       "    </tr>\n",
       "    <tr>\n",
       "      <th>3</th>\n",
       "      <td>1927</td>\n",
       "      <td>1928</td>\n",
       "      <td>1</td>\n",
       "      <td>ACTOR</td>\n",
       "      <td>ACTOR IN A LEADING ROLE</td>\n",
       "      <td>Emil Jannings</td>\n",
       "      <td>The Way of All Flesh</td>\n",
       "      <td>True</td>\n",
       "    </tr>\n",
       "    <tr>\n",
       "      <th>4</th>\n",
       "      <td>1927</td>\n",
       "      <td>1928</td>\n",
       "      <td>1</td>\n",
       "      <td>ACTRESS</td>\n",
       "      <td>ACTRESS IN A LEADING ROLE</td>\n",
       "      <td>Louise Dresser</td>\n",
       "      <td>A Ship Comes In</td>\n",
       "      <td>False</td>\n",
       "    </tr>\n",
       "  </tbody>\n",
       "</table>\n",
       "</div>"
      ],
      "text/plain": [
       "   year_film  year_ceremony  ceremony category             canon_category  \\\n",
       "0       1927           1928         1    ACTOR    ACTOR IN A LEADING ROLE   \n",
       "1       1927           1928         1    ACTOR    ACTOR IN A LEADING ROLE   \n",
       "2       1927           1928         1    ACTOR    ACTOR IN A LEADING ROLE   \n",
       "3       1927           1928         1    ACTOR    ACTOR IN A LEADING ROLE   \n",
       "4       1927           1928         1  ACTRESS  ACTRESS IN A LEADING ROLE   \n",
       "\n",
       "                  name                    film  winner  \n",
       "0  Richard Barthelmess               The Noose   False  \n",
       "1  Richard Barthelmess  The Patent Leather Kid   False  \n",
       "2        Emil Jannings        The Last Command    True  \n",
       "3        Emil Jannings    The Way of All Flesh    True  \n",
       "4       Louise Dresser         A Ship Comes In   False  "
      ]
     },
     "execution_count": 16,
     "metadata": {},
     "output_type": "execute_result"
    }
   ],
   "source": [
    "oscars = pd.read_csv(\"the_oscar_award.csv\")\n",
    "oscars.head()\n"
   ]
  },
  {
   "cell_type": "markdown",
   "id": "b3957735",
   "metadata": {},
   "source": [
    "#### Criação de uma nova tabela \"Premiado\""
   ]
  },
  {
   "cell_type": "code",
   "execution_count": 17,
   "id": "ebdd3112",
   "metadata": {},
   "outputs": [],
   "source": [
    "# Criar coluna premiado: 1 se ganhou, 0 se não\n",
    "oscars['premiado'] = oscars['winner'].astype(int)"
   ]
  },
  {
   "cell_type": "markdown",
   "id": "db90f98e",
   "metadata": {},
   "source": [
    "Deixar só uma linha por filme\n",
    "\n",
    "O dataset de Oscars tem várias linhas por filme (uma para cada categoria).\n",
    "Vamos deixar um único registro por filme, com a informação de se já ganhou ou foi indicado."
   ]
  },
  {
   "cell_type": "code",
   "execution_count": 18,
   "id": "3b561593",
   "metadata": {},
   "outputs": [
    {
     "data": {
      "text/html": [
       "<div>\n",
       "<style scoped>\n",
       "    .dataframe tbody tr th:only-of-type {\n",
       "        vertical-align: middle;\n",
       "    }\n",
       "\n",
       "    .dataframe tbody tr th {\n",
       "        vertical-align: top;\n",
       "    }\n",
       "\n",
       "    .dataframe thead th {\n",
       "        text-align: right;\n",
       "    }\n",
       "</style>\n",
       "<table border=\"1\" class=\"dataframe\">\n",
       "  <thead>\n",
       "    <tr style=\"text-align: right;\">\n",
       "      <th></th>\n",
       "      <th>film</th>\n",
       "      <th>year_film</th>\n",
       "      <th>premiado</th>\n",
       "      <th>indicado</th>\n",
       "    </tr>\n",
       "  </thead>\n",
       "  <tbody>\n",
       "    <tr>\n",
       "      <th>0</th>\n",
       "      <td>$1,000 a Minute</td>\n",
       "      <td>1935</td>\n",
       "      <td>0</td>\n",
       "      <td>1</td>\n",
       "    </tr>\n",
       "    <tr>\n",
       "      <th>1</th>\n",
       "      <td>'38'</td>\n",
       "      <td>1986</td>\n",
       "      <td>0</td>\n",
       "      <td>1</td>\n",
       "    </tr>\n",
       "    <tr>\n",
       "      <th>2</th>\n",
       "      <td>'Crocodile' Dundee</td>\n",
       "      <td>1986</td>\n",
       "      <td>0</td>\n",
       "      <td>1</td>\n",
       "    </tr>\n",
       "    <tr>\n",
       "      <th>3</th>\n",
       "      <td>'Round Midnight</td>\n",
       "      <td>1986</td>\n",
       "      <td>1</td>\n",
       "      <td>2</td>\n",
       "    </tr>\n",
       "    <tr>\n",
       "      <th>4</th>\n",
       "      <td>(A) Torzija [(A) Torsion]</td>\n",
       "      <td>2003</td>\n",
       "      <td>0</td>\n",
       "      <td>1</td>\n",
       "    </tr>\n",
       "    <tr>\n",
       "      <th>5</th>\n",
       "      <td>...And Justice for All</td>\n",
       "      <td>1979</td>\n",
       "      <td>0</td>\n",
       "      <td>2</td>\n",
       "    </tr>\n",
       "    <tr>\n",
       "      <th>6</th>\n",
       "      <td>10</td>\n",
       "      <td>1979</td>\n",
       "      <td>0</td>\n",
       "      <td>2</td>\n",
       "    </tr>\n",
       "    <tr>\n",
       "      <th>7</th>\n",
       "      <td>102 Dalmatians</td>\n",
       "      <td>2000</td>\n",
       "      <td>0</td>\n",
       "      <td>1</td>\n",
       "    </tr>\n",
       "    <tr>\n",
       "      <th>8</th>\n",
       "      <td>12</td>\n",
       "      <td>2007</td>\n",
       "      <td>0</td>\n",
       "      <td>1</td>\n",
       "    </tr>\n",
       "    <tr>\n",
       "      <th>9</th>\n",
       "      <td>12 Angry Men</td>\n",
       "      <td>1957</td>\n",
       "      <td>0</td>\n",
       "      <td>3</td>\n",
       "    </tr>\n",
       "    <tr>\n",
       "      <th>10</th>\n",
       "      <td>12 Monkeys</td>\n",
       "      <td>1995</td>\n",
       "      <td>0</td>\n",
       "      <td>2</td>\n",
       "    </tr>\n",
       "    <tr>\n",
       "      <th>11</th>\n",
       "      <td>12 Years a Slave</td>\n",
       "      <td>2013</td>\n",
       "      <td>1</td>\n",
       "      <td>9</td>\n",
       "    </tr>\n",
       "    <tr>\n",
       "      <th>12</th>\n",
       "      <td>127 Hours</td>\n",
       "      <td>2010</td>\n",
       "      <td>0</td>\n",
       "      <td>6</td>\n",
       "    </tr>\n",
       "    <tr>\n",
       "      <th>13</th>\n",
       "      <td>12:01 PM</td>\n",
       "      <td>1990</td>\n",
       "      <td>0</td>\n",
       "      <td>1</td>\n",
       "    </tr>\n",
       "    <tr>\n",
       "      <th>14</th>\n",
       "      <td>13 Hours: The Secret Soldiers of Benghazi</td>\n",
       "      <td>2016</td>\n",
       "      <td>0</td>\n",
       "      <td>1</td>\n",
       "    </tr>\n",
       "    <tr>\n",
       "      <th>15</th>\n",
       "      <td>13th</td>\n",
       "      <td>2016</td>\n",
       "      <td>0</td>\n",
       "      <td>1</td>\n",
       "    </tr>\n",
       "    <tr>\n",
       "      <th>16</th>\n",
       "      <td>140 Days under the World</td>\n",
       "      <td>1964</td>\n",
       "      <td>0</td>\n",
       "      <td>1</td>\n",
       "    </tr>\n",
       "    <tr>\n",
       "      <th>17</th>\n",
       "      <td>1776</td>\n",
       "      <td>1972</td>\n",
       "      <td>0</td>\n",
       "      <td>1</td>\n",
       "    </tr>\n",
       "    <tr>\n",
       "      <th>18</th>\n",
       "      <td>1848</td>\n",
       "      <td>1949</td>\n",
       "      <td>0</td>\n",
       "      <td>1</td>\n",
       "    </tr>\n",
       "    <tr>\n",
       "      <th>19</th>\n",
       "      <td>1917</td>\n",
       "      <td>2019</td>\n",
       "      <td>1</td>\n",
       "      <td>10</td>\n",
       "    </tr>\n",
       "  </tbody>\n",
       "</table>\n",
       "</div>"
      ],
      "text/plain": [
       "                                         film  year_film  premiado  indicado\n",
       "0                             $1,000 a Minute       1935         0         1\n",
       "1                                        '38'       1986         0         1\n",
       "2                          'Crocodile' Dundee       1986         0         1\n",
       "3                             'Round Midnight       1986         1         2\n",
       "4                   (A) Torzija [(A) Torsion]       2003         0         1\n",
       "5                      ...And Justice for All       1979         0         2\n",
       "6                                          10       1979         0         2\n",
       "7                              102 Dalmatians       2000         0         1\n",
       "8                                          12       2007         0         1\n",
       "9                                12 Angry Men       1957         0         3\n",
       "10                                 12 Monkeys       1995         0         2\n",
       "11                           12 Years a Slave       2013         1         9\n",
       "12                                  127 Hours       2010         0         6\n",
       "13                                   12:01 PM       1990         0         1\n",
       "14  13 Hours: The Secret Soldiers of Benghazi       2016         0         1\n",
       "15                                       13th       2016         0         1\n",
       "16                   140 Days under the World       1964         0         1\n",
       "17                                       1776       1972         0         1\n",
       "18                                       1848       1949         0         1\n",
       "19                                       1917       2019         1        10"
      ]
     },
     "execution_count": 18,
     "metadata": {},
     "output_type": "execute_result"
    }
   ],
   "source": [
    "# Considerar premiado se ganhou em qualquer categoria\n",
    "oscars_grouped = oscars.groupby(['film', 'year_film']).agg(\n",
    "    premiado=('premiado', 'max'),   # 1 se ganhou pelo menos 1 categoria\n",
    "    indicado=('winner', 'count')    # número de indicações\n",
    ").reset_index()\n",
    "\n",
    "oscars_grouped.head(20)\n",
    "\n"
   ]
  },
  {
   "cell_type": "code",
   "execution_count": 22,
   "id": "92947d73",
   "metadata": {},
   "outputs": [],
   "source": [
    "# Normalizar títulos\n",
    "oscars_grouped['title_norm'] = oscars_grouped['film'].str.lower().str.strip()"
   ]
  },
  {
   "cell_type": "code",
   "execution_count": 24,
   "id": "d3c3ca1c",
   "metadata": {},
   "outputs": [],
   "source": [
    "# Normalizar títulos no DataFrame tmdb\n",
    "tmdb['title_norm'] = tmdb['original_title'].str.lower().str.strip()\n",
    "\n",
    "# =======================================\n",
    "# 5. Merge TMDB + Oscars\n",
    "# =======================================\n",
    "tmdb_oscars = pd.merge(\n",
    "    tmdb, \n",
    "    oscars_grouped, \n",
    "    left_on=['title_norm','release_year'], \n",
    "    right_on=['title_norm','year_film'],\n",
    "    how='left'\n",
    ")"
   ]
  },
  {
   "cell_type": "code",
   "execution_count": 25,
   "id": "d55f4c1c",
   "metadata": {},
   "outputs": [],
   "source": [
    "# Substituir NaN por 0\n",
    "tmdb_oscars['premiado'] = tmdb_oscars['premiado'].fillna(0).astype(int)\n",
    "tmdb_oscars['indicado'] = tmdb_oscars['indicado'].fillna(0).astype(int)\n"
   ]
  },
  {
   "cell_type": "code",
   "execution_count": 26,
   "id": "908f9b72",
   "metadata": {},
   "outputs": [
    {
     "name": "stdout",
     "output_type": "stream",
     "text": [
      "Merge TMDB + Oscars: (4803, 12)\n"
     ]
    }
   ],
   "source": [
    "print(\"Merge TMDB + Oscars:\", tmdb_oscars.shape)"
   ]
  },
  {
   "cell_type": "code",
   "execution_count": 27,
   "id": "7c4e0206",
   "metadata": {},
   "outputs": [
    {
     "name": "stdout",
     "output_type": "stream",
     "text": [
      "Merge TMDB+Oscars com Links: (4637, 13)\n"
     ]
    }
   ],
   "source": [
    "# =======================================\n",
    "# 6. Conectar com MovieLens (links.csv)\n",
    "# =======================================\n",
    "tmdb_links = pd.merge(\n",
    "    tmdb_oscars, \n",
    "    links[['movieId','tmdbId']], \n",
    "    on='tmdbId', \n",
    "    how='inner'\n",
    ")\n",
    "\n",
    "print(\"Merge TMDB+Oscars com Links:\", tmdb_links.shape)\n"
   ]
  },
  {
   "cell_type": "code",
   "execution_count": 28,
   "id": "ce759fcb",
   "metadata": {},
   "outputs": [
    {
     "name": "stdout",
     "output_type": "stream",
     "text": [
      "Dataset final: (21751729, 16)\n",
      "   userId  movieId  rating  timestamp  tmdbId         original_title  \\\n",
      "0       1       17     4.0  944249077    4584  Sense and Sensibility   \n",
      "1       1       25     1.0  944250228     451      Leaving Las Vegas   \n",
      "2       1       34     2.0  943228491    9598                   Babe   \n",
      "3       1       36     1.0  944249008     687       Dead Man Walking   \n",
      "4       1      110     3.0  943231119     197             Braveheart   \n",
      "\n",
      "  release_date                                             genres  \\\n",
      "0   1995-12-13  [{\"id\": 18, \"name\": \"Drama\"}, {\"id\": 10749, \"n...   \n",
      "1   1995-10-27  [{\"id\": 18, \"name\": \"Drama\"}, {\"id\": 10749, \"n...   \n",
      "2   1995-07-18  [{\"id\": 14, \"name\": \"Fantasy\"}, {\"id\": 18, \"na...   \n",
      "3   1995-12-29                      [{\"id\": 18, \"name\": \"Drama\"}]   \n",
      "4   1995-05-24  [{\"id\": 28, \"name\": \"Action\"}, {\"id\": 18, \"nam...   \n",
      "\n",
      "   vote_average  vote_count  release_year             title_norm  \\\n",
      "0           7.2         352        1995.0  sense and sensibility   \n",
      "1           7.1         360        1995.0      leaving las vegas   \n",
      "2           6.0         733        1995.0                   babe   \n",
      "3           7.3         337        1995.0       dead man walking   \n",
      "4           7.7        3336        1995.0             braveheart   \n",
      "\n",
      "                    film  year_film  premiado  indicado  \n",
      "0  Sense and Sensibility     1995.0         1         7  \n",
      "1      Leaving Las Vegas     1995.0         1         4  \n",
      "2                   Babe     1995.0         1         7  \n",
      "3       Dead Man Walking     1995.0         1         4  \n",
      "4             Braveheart     1995.0         1        10  \n"
     ]
    }
   ],
   "source": [
    "# =======================================\n",
    "# 7. Juntar com Ratings\n",
    "# =======================================\n",
    "df_full = pd.merge(\n",
    "    ratings, \n",
    "    tmdb_links, \n",
    "    on='movieId', \n",
    "    how='inner'\n",
    ")\n",
    "\n",
    "print(\"Dataset final:\", df_full.shape)\n",
    "print(df_full.head())"
   ]
  },
  {
   "cell_type": "code",
   "execution_count": 29,
   "id": "004f9e55",
   "metadata": {},
   "outputs": [
    {
     "name": "stdout",
     "output_type": "stream",
     "text": [
      "\n",
      "Distribuição de premiados vs não premiados:\n",
      "premiado\n",
      "0    15820596\n",
      "1     5931133\n",
      "Name: count, dtype: int64\n"
     ]
    }
   ],
   "source": [
    "# =======================================\n",
    "# 8. EDA - Estatísticas básicas\n",
    "# =======================================\n",
    "\n",
    "print(\"\\nDistribuição de premiados vs não premiados:\")\n",
    "print(df_full['premiado'].value_counts())"
   ]
  },
  {
   "cell_type": "code",
   "execution_count": 30,
   "id": "43096119",
   "metadata": {},
   "outputs": [
    {
     "name": "stdout",
     "output_type": "stream",
     "text": [
      "\n",
      "Média das notas por grupo:\n",
      "premiado\n",
      "0    3.460640\n",
      "1    3.864038\n",
      "Name: rating, dtype: float64\n"
     ]
    }
   ],
   "source": [
    "print(\"\\nMédia das notas por grupo:\")\n",
    "print(df_full.groupby('premiado')['rating'].mean())"
   ]
  },
  {
   "cell_type": "code",
   "execution_count": 31,
   "id": "f6d108e4",
   "metadata": {},
   "outputs": [
    {
     "data": {
      "image/png": "[encoded data removed]",
      "text/plain": [
       "<Figure size 600x400 with 1 Axes>"
      ]
     },
     "metadata": {},
     "output_type": "display_data"
    }
   ],
   "source": [
    "# Boxplot\n",
    "plt.figure(figsize=(6,4))\n",
    "sns.boxplot(x='premiado', y='rating', data=df_full)\n",
    "plt.xticks([0,1], ['Não premiado','Premiado'])\n",
    "plt.title(\"Distribuição das notas por premiação\")\n",
    "plt.show()"
   ]
  },
  {
   "cell_type": "markdown",
   "id": "da3e6ca5",
   "metadata": {},
   "source": [
    "### Teste Estatístico"
   ]
  },
  {
   "cell_type": "code",
   "execution_count": 32,
   "id": "43bffda7",
   "metadata": {},
   "outputs": [],
   "source": [
    "premiados = df_full[df_full['premiado']==1]['rating']\n",
    "nao_premiados = df_full[df_full['premiado']==0]['rating']"
   ]
  },
  {
   "cell_type": "markdown",
   "id": "16f080b6",
   "metadata": {},
   "source": [
    "##### Teste de normalidade (Shapiro)\n"
   ]
  },
  {
   "cell_type": "code",
   "execution_count": 42,
   "id": "fb360d52",
   "metadata": {},
   "outputs": [
    {
     "name": "stdout",
     "output_type": "stream",
     "text": [
      "\n",
      "Shapiro premiados: ShapiroResult(statistic=np.float64(0.8933996330797318), pvalue=np.float64(2.720765574781049e-50))\n",
      "Shapiro não premiados: ShapiroResult(statistic=np.float64(0.9369785895119527), pvalue=np.float64(9.286056726816578e-42))\n"
     ]
    }
   ],
   "source": [
    "# Teste de normalidade (Shapiro)\n",
    "print(\"\\nShapiro premiados:\", shapiro(premiados.sample(5000, random_state=42)))\n",
    "print(\"Shapiro não premiados:\", shapiro(nao_premiados.sample(5000, random_state=42)))"
   ]
  },
  {
   "cell_type": "markdown",
   "id": "8b8d1d3c",
   "metadata": {},
   "source": [
    "##### Teste t"
   ]
  },
  {
   "cell_type": "code",
   "execution_count": 33,
   "id": "c2c70efa",
   "metadata": {},
   "outputs": [
    {
     "name": "stdout",
     "output_type": "stream",
     "text": [
      "\n",
      "Teste t de Student:\n",
      "t = 847.1423716972663  | p-valor = 0.0\n"
     ]
    }
   ],
   "source": [
    "# Teste t\n",
    "t_stat, p_val = ttest_ind(premiados, nao_premiados, equal_var=False)\n",
    "print(\"\\nTeste t de Student:\")\n",
    "print(\"t =\", t_stat, \" | p-valor =\", p_val)"
   ]
  },
  {
   "cell_type": "markdown",
   "id": "706d4f3b",
   "metadata": {},
   "source": [
    "##### Mann-Whitney\n"
   ]
  },
  {
   "cell_type": "code",
   "execution_count": 34,
   "id": "0bedcac2",
   "metadata": {},
   "outputs": [
    {
     "name": "stdout",
     "output_type": "stream",
     "text": [
      "\n",
      "Teste Mann-Whitney U:\n",
      "U = 57558360662192.5  | p-valor = 0.0\n"
     ]
    }
   ],
   "source": [
    "# Mann-Whitney\n",
    "u_stat, p_val_u = mannwhitneyu(premiados, nao_premiados, alternative='two-sided')\n",
    "print(\"\\nTeste Mann-Whitney U:\")\n",
    "print(\"U =\", u_stat, \" | p-valor =\", p_val_u)\n"
   ]
  }
 ],
 "metadata": {
  "kernelspec": {
   "display_name": "venv",
   "language": "python",
   "name": "python3"
  },
  "language_info": {
   "codemirror_mode": {
    "name": "ipython",
    "version": 3
   },
   "file_extension": ".py",
   "mimetype": "text/x-python",
   "name": "python",
   "nbconvert_exporter": "python",
   "pygments_lexer": "ipython3",
   "version": "3.12.6"
  }
 },
 "nbformat": 4,
 "nbformat_minor": 5
}
